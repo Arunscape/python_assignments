{
  "nbformat": 4,
  "nbformat_minor": 0,
  "metadata": {
    "colab": {
      "name": "lecture5.ipynb",
      "version": "0.3.2",
      "views": {},
      "default_view": {},
      "provenance": [],
      "collapsed_sections": [
        "eRq8xPVOSdHY",
        "pqwOr42nWohl"
      ],
      "toc_visible": true
    },
    "kernelspec": {
      "name": "python3",
      "display_name": "Python 3"
    }
  },
  "cells": [
    {
      "metadata": {
        "id": "eRq8xPVOSdHY",
        "colab_type": "text"
      },
      "cell_type": "markdown",
      "source": [
        "# Lecture 5: Graph Visualization, Graph Searches, and the Edmonton Map\n",
        "\n",
        "I use Google Colaboratory for my notebooks. You can modify this document by saving a copy to your own Google Drive. Just click **OPEN IN PLAYGROUND** near the top and you can start modifying the document to your heart's content. If you want to save the changes, then just click **Copy to Drive** to save a *copy* of the document to your Google Drive.\n",
        "\n",
        "**Objectives**:\n",
        "\n",
        "*   Introduction to the first assignment\n",
        "*   Using graphviz to visualize graphs\n",
        "*   The basics of searching an unweighted graph: breadth-first search and depth-first search\n",
        "*   The Edmonton graph file\n",
        "\n",
        "See the eClass entry for this lecture for the slides describing the searches and see the Assignment 1 files for the Edmonton graph itself. The slides won't be available until shortly after the lecture.\n",
        "\n",
        "Oh, one last thing. Like with Jupyter Notebooks it is easy to write nice math equations using LaTeX :)\n",
        "\n",
        "Try double-clicking this text block if you are working on a copy of this to see how.\n",
        "\n",
        "$$ \\int_1^n \\frac{dx}{x} = \\ln n $$\n",
        "\n",
        "\n",
        "$$ \\lim_{t \\rightarrow 0} \\frac{f(x+t) - f(x)}{t} = f'(x) $$\n",
        "\n",
        "Press shift+enter to stop editing a text block.\n",
        "\n",
        "Press shift+enter or click the \"play\" arrow at the upper-left corner of a code block to run the code."
      ]
    },
    {
      "metadata": {
        "id": "CBloDVNpQ7YM",
        "colab_type": "text"
      },
      "cell_type": "markdown",
      "source": [
        "# Preamble and the Graph Class\n",
        "\n",
        "Install the ```graphviz``` packages for the ```graph_draw``` function below. Run the first block (just below this) at least once!\n",
        "\n",
        "**VM Note**: The graphviz utility is already install on the VM but the Python package is not. To install graphviz for Python on the VM, execute the following:\n",
        "\n",
        "```\n",
        "sudo pip3 install graphviz\n",
        "```\n",
        "\n",
        "Enter **cmput274** as the password when prompted."
      ]
    },
    {
      "metadata": {
        "id": "pTU-5DAkO_B2",
        "colab_type": "code",
        "colab": {
          "autoexec": {
            "startup": false,
            "wait_interval": 0
          },
          "base_uri": "https://localhost:8080/",
          "height": 2550
        },
        "outputId": "5e5278f7-3f01-4069-c287-5c427d8432b0",
        "executionInfo": {
          "status": "ok",
          "timestamp": 1516899845404,
          "user_tz": 420,
          "elapsed": 14275,
          "user": {
            "displayName": "Zachary Friggstad",
            "photoUrl": "https://lh3.googleusercontent.com/a/default-user=s128",
            "userId": "105154837239776143913"
          }
        }
      },
      "cell_type": "code",
      "source": [
        "!apt-get -qq install -y graphviz\n",
        "!pip install graphviz"
      ],
      "execution_count": 1,
      "outputs": [
        {
          "output_type": "stream",
          "text": [
            "Extracting templates from packages: 100%\n",
            "Selecting previously unselected package libxext6:amd64.\n",
            "(Reading database ... 16633 files and directories currently installed.)\n",
            "Preparing to unpack .../00-libxext6_2%3a1.3.3-1_amd64.deb ...\n",
            "Unpacking libxext6:amd64 (2:1.3.3-1) ...\n",
            "Selecting previously unselected package fontconfig.\n",
            "Preparing to unpack .../01-fontconfig_2.11.94-0ubuntu2_amd64.deb ...\n",
            "Unpacking fontconfig (2.11.94-0ubuntu2) ...\n",
            "Selecting previously unselected package x11-common.\n",
            "Preparing to unpack .../02-x11-common_1%3a7.7+19ubuntu3_all.deb ...\n",
            "Unpacking x11-common (1:7.7+19ubuntu3) ...\n",
            "Selecting previously unselected package libice6:amd64.\n",
            "Preparing to unpack .../03-libice6_2%3a1.0.9-2_amd64.deb ...\n",
            "Unpacking libice6:amd64 (2:1.0.9-2) ...\n",
            "Selecting previously unselected package libsm6:amd64.\n",
            "Preparing to unpack .../04-libsm6_2%3a1.2.2-1_amd64.deb ...\n",
            "Unpacking libsm6:amd64 (2:1.2.2-1) ...\n",
            "Selecting previously unselected package libjbig0:amd64.\n",
            "Preparing to unpack .../05-libjbig0_2.1-3.1_amd64.deb ...\n",
            "Unpacking libjbig0:amd64 (2.1-3.1) ...\n",
            "Selecting previously unselected package libcdt5.\n",
            "Preparing to unpack .../06-libcdt5_2.38.0-16ubuntu2_amd64.deb ...\n",
            "Unpacking libcdt5 (2.38.0-16ubuntu2) ...\n",
            "Selecting previously unselected package libcgraph6.\n",
            "Preparing to unpack .../07-libcgraph6_2.38.0-16ubuntu2_amd64.deb ...\n",
            "Unpacking libcgraph6 (2.38.0-16ubuntu2) ...\n",
            "Selecting previously unselected package libtiff5:amd64.\n",
            "Preparing to unpack .../08-libtiff5_4.0.8-5_amd64.deb ...\n",
            "Unpacking libtiff5:amd64 (4.0.8-5) ...\n",
            "Selecting previously unselected package libwebp6:amd64.\n",
            "Preparing to unpack .../09-libwebp6_0.6.0-3_amd64.deb ...\n",
            "Unpacking libwebp6:amd64 (0.6.0-3) ...\n",
            "Selecting previously unselected package libxpm4:amd64.\n",
            "Preparing to unpack .../10-libxpm4_1%3a3.5.12-1_amd64.deb ...\n",
            "Unpacking libxpm4:amd64 (1:3.5.12-1) ...\n",
            "Selecting previously unselected package libgd3:amd64.\n",
            "Preparing to unpack .../11-libgd3_2.2.5-3_amd64.deb ...\n",
            "Unpacking libgd3:amd64 (2.2.5-3) ...\n",
            "Selecting previously unselected package libpixman-1-0:amd64.\n",
            "Preparing to unpack .../12-libpixman-1-0_0.34.0-1_amd64.deb ...\n",
            "Unpacking libpixman-1-0:amd64 (0.34.0-1) ...\n",
            "Selecting previously unselected package libxcb-render0:amd64.\n",
            "Preparing to unpack .../13-libxcb-render0_1.12-1ubuntu1_amd64.deb ...\n",
            "Unpacking libxcb-render0:amd64 (1.12-1ubuntu1) ...\n",
            "Selecting previously unselected package libxcb-shm0:amd64.\n",
            "Preparing to unpack .../14-libxcb-shm0_1.12-1ubuntu1_amd64.deb ...\n",
            "Unpacking libxcb-shm0:amd64 (1.12-1ubuntu1) ...\n",
            "Selecting previously unselected package libcairo2:amd64.\n",
            "Preparing to unpack .../15-libcairo2_1.14.10-1ubuntu1_amd64.deb ...\n",
            "Unpacking libcairo2:amd64 (1.14.10-1ubuntu1) ...\n",
            "Selecting previously unselected package libltdl7:amd64.\n",
            "Preparing to unpack .../16-libltdl7_2.4.6-2_amd64.deb ...\n",
            "Unpacking libltdl7:amd64 (2.4.6-2) ...\n",
            "Selecting previously unselected package libthai-data.\n",
            "Preparing to unpack .../17-libthai-data_0.1.26-3_all.deb ...\n",
            "Unpacking libthai-data (0.1.26-3) ...\n",
            "Selecting previously unselected package libdatrie1:amd64.\n",
            "Preparing to unpack .../18-libdatrie1_0.2.10-5_amd64.deb ...\n",
            "Unpacking libdatrie1:amd64 (0.2.10-5) ...\n",
            "Selecting previously unselected package libthai0:amd64.\n",
            "Preparing to unpack .../19-libthai0_0.1.26-3_amd64.deb ...\n",
            "Unpacking libthai0:amd64 (0.1.26-3) ...\n",
            "Selecting previously unselected package libpango-1.0-0:amd64.\n",
            "Preparing to unpack .../20-libpango-1.0-0_1.40.12-1_amd64.deb ...\n",
            "Unpacking libpango-1.0-0:amd64 (1.40.12-1) ...\n",
            "Selecting previously unselected package libgraphite2-3:amd64.\n",
            "Preparing to unpack .../21-libgraphite2-3_1.3.10-2_amd64.deb ...\n",
            "Unpacking libgraphite2-3:amd64 (1.3.10-2) ...\n",
            "Selecting previously unselected package libharfbuzz0b:amd64.\n",
            "Preparing to unpack .../22-libharfbuzz0b_1.4.2-1_amd64.deb ...\n",
            "Unpacking libharfbuzz0b:amd64 (1.4.2-1) ...\n",
            "Selecting previously unselected package libpangoft2-1.0-0:amd64.\n",
            "Preparing to unpack .../23-libpangoft2-1.0-0_1.40.12-1_amd64.deb ...\n",
            "Unpacking libpangoft2-1.0-0:amd64 (1.40.12-1) ...\n",
            "Selecting previously unselected package libpangocairo-1.0-0:amd64.\n",
            "Preparing to unpack .../24-libpangocairo-1.0-0_1.40.12-1_amd64.deb ...\n",
            "Unpacking libpangocairo-1.0-0:amd64 (1.40.12-1) ...\n",
            "Selecting previously unselected package libpathplan4.\n",
            "Preparing to unpack .../25-libpathplan4_2.38.0-16ubuntu2_amd64.deb ...\n",
            "Unpacking libpathplan4 (2.38.0-16ubuntu2) ...\n",
            "Selecting previously unselected package libgvc6.\n",
            "Preparing to unpack .../26-libgvc6_2.38.0-16ubuntu2_amd64.deb ...\n",
            "Unpacking libgvc6 (2.38.0-16ubuntu2) ...\n",
            "Selecting previously unselected package libgvpr2.\n",
            "Preparing to unpack .../27-libgvpr2_2.38.0-16ubuntu2_amd64.deb ...\n",
            "Unpacking libgvpr2 (2.38.0-16ubuntu2) ...\n",
            "Selecting previously unselected package libxt6:amd64.\n",
            "Preparing to unpack .../28-libxt6_1%3a1.1.5-1_amd64.deb ...\n",
            "Unpacking libxt6:amd64 (1:1.1.5-1) ...\n",
            "Selecting previously unselected package libxmu6:amd64.\n",
            "Preparing to unpack .../29-libxmu6_2%3a1.1.2-2_amd64.deb ...\n",
            "Unpacking libxmu6:amd64 (2:1.1.2-2) ...\n",
            "Selecting previously unselected package libxaw7:amd64.\n",
            "Preparing to unpack .../30-libxaw7_2%3a1.0.13-1_amd64.deb ...\n",
            "Unpacking libxaw7:amd64 (2:1.0.13-1) ...\n",
            "Selecting previously unselected package graphviz.\n",
            "Preparing to unpack .../31-graphviz_2.38.0-16ubuntu2_amd64.deb ...\n",
            "Unpacking graphviz (2.38.0-16ubuntu2) ...\n"
          ],
          "name": "stdout"
        },
        {
          "output_type": "stream",
          "text": [
            "Setting up libpathplan4 (2.38.0-16ubuntu2) ...\r\n",
            "Setting up libxcb-render0:amd64 (1.12-1ubuntu1) ...\r\n",
            "Setting up libxext6:amd64 (2:1.3.3-1) ...\n",
            "Setting up libjbig0:amd64 (2.1-3.1) ...\n",
            "Setting up libdatrie1:amd64 (0.2.10-5) ...\n",
            "Setting up libtiff5:amd64 (4.0.8-5) ...\n",
            "Setting up libgraphite2-3:amd64 (1.3.10-2) ...\n",
            "Setting up libpixman-1-0:amd64 (0.34.0-1) ...\n",
            "Processing triggers for libc-bin (2.26-0ubuntu2) ...\n",
            "Setting up libltdl7:amd64 (2.4.6-2) ...\n",
            "Setting up libxcb-shm0:amd64 (1.12-1ubuntu1) ...\n",
            "Setting up libxpm4:amd64 (1:3.5.12-1) ...\n",
            "Setting up libthai-data (0.1.26-3) ...\n",
            "Setting up x11-common (1:7.7+19ubuntu3) ...\n",
            "update-rc.d: warning: start and stop actions are no longer supported; falling back to defaults\n",
            "invoke-rc.d: could not determine current runlevel\n",
            "invoke-rc.d: policy-rc.d denied execution of start.\n",
            "Setting up libcdt5 (2.38.0-16ubuntu2) ...\n",
            "Setting up fontconfig (2.11.94-0ubuntu2) ...\n",
            "Regenerating fonts cache... done.\n",
            "Setting up libcgraph6 (2.38.0-16ubuntu2) ...\n",
            "Setting up libwebp6:amd64 (0.6.0-3) ...\n",
            "Setting up libcairo2:amd64 (1.14.10-1ubuntu1) ...\n",
            "Setting up libgvpr2 (2.38.0-16ubuntu2) ...\n",
            "Setting up libgd3:amd64 (2.2.5-3) ...\n",
            "Setting up libharfbuzz0b:amd64 (1.4.2-1) ...\n",
            "Setting up libthai0:amd64 (0.1.26-3) ...\n",
            "Setting up libpango-1.0-0:amd64 (1.40.12-1) ...\n",
            "Setting up libice6:amd64 (2:1.0.9-2) ...\n",
            "Setting up libsm6:amd64 (2:1.2.2-1) ...\n",
            "Setting up libpangoft2-1.0-0:amd64 (1.40.12-1) ...\n",
            "Setting up libxt6:amd64 (1:1.1.5-1) ...\n",
            "Setting up libpangocairo-1.0-0:amd64 (1.40.12-1) ...\n",
            "Setting up libxmu6:amd64 (2:1.1.2-2) ...\n",
            "Setting up libxaw7:amd64 (2:1.0.13-1) ...\n",
            "Setting up libgvc6 (2.38.0-16ubuntu2) ...\n",
            "Setting up graphviz (2.38.0-16ubuntu2) ...\n",
            "Processing triggers for libc-bin (2.26-0ubuntu2) ...\n",
            "Collecting graphviz\n",
            "  Downloading graphviz-0.8.2-py2.py3-none-any.whl\n",
            "Installing collected packages: graphviz\n",
            "Successfully installed graphviz-0.8.2\n"
          ],
          "name": "stdout"
        }
      ]
    },
    {
      "metadata": {
        "id": "352gjZ3qXIDD",
        "colab_type": "code",
        "colab": {
          "autoexec": {
            "startup": false,
            "wait_interval": 0
          }
        }
      },
      "cell_type": "code",
      "source": [
        "import graphviz, sys"
      ],
      "execution_count": 0,
      "outputs": []
    },
    {
      "metadata": {
        "id": "ps7iguF2QJqH",
        "colab_type": "text"
      },
      "cell_type": "markdown",
      "source": [
        "The ```Graph``` class from last class is in the next block along with the ```is_path``` and ```is_walk``` functions. There is one minor change. The vertices and edges members are no longer hidden with a leading underscore. It's nice to access them directly (especially the vertices).\n",
        "\n",
        "Why are we not protecting them? I'm using one of the original philosophies with Python programming: if a programmer will access a member of a class directly then let's assume they know what they are doing."
      ]
    },
    {
      "metadata": {
        "id": "V-z12o_DPImW",
        "colab_type": "code",
        "colab": {
          "autoexec": {
            "startup": false,
            "wait_interval": 0
          }
        }
      },
      "cell_type": "code",
      "source": [
        "\"\"\"\n",
        "Directed Graph Class\n",
        "\n",
        "This graph class is a container that holds a set\n",
        "of vertices and a list of directed edges.\n",
        "Edges are modelled as tuples (u,v) of vertices.\n",
        "\n",
        "Uses an adjacency list representation. Loops\n",
        "and parallel copies of edges can be stored.\n",
        "\"\"\"\n",
        "\n",
        "class Graph:\n",
        "    def __init__(self, Vertices = set(), Edges = list()):\n",
        "        \"\"\"\n",
        "        Construct a graph with a shallow copy of\n",
        "        the given set of vertices and given list of edges.\n",
        "\n",
        "        Efficiency: O(# vertices + # edges)\n",
        "\n",
        "        >>> g = Graph({1,2,3}, [(1,2), (2,3)])\n",
        "        >>> g.alist.keys() == {1,2,3}\n",
        "        True\n",
        "        >>> g.alist[1] == [2]\n",
        "        True\n",
        "        >>> g.alist[3] == []\n",
        "        True\n",
        "        >>> h1 = Graph()\n",
        "        >>> h2 = Graph()\n",
        "        >>> h1.add_vertex(1)\n",
        "        >>> h1.alist.keys() == {1}\n",
        "        True\n",
        "        >>> h2.alist.keys() == set()\n",
        "        True\n",
        "        \"\"\"\n",
        "\n",
        "        # a dictionary mapping a vertex to its list of neighbours\n",
        "        self.alist = {} # empty dictionary\n",
        "\n",
        "        for v in Vertices:\n",
        "            self.add_vertex(v)\n",
        "        for e in Edges:\n",
        "            self.add_edge(e)\n",
        "            \n",
        "    def get_vertices(self):\n",
        "      \"\"\"\n",
        "      Returns the set of vertices in the graph.\n",
        "      \n",
        "      Running time: O(# vertices)\n",
        "      \n",
        "      >>> g = Graph({1,2,3}, [(1,2), (2,3)])\n",
        "      >>> g.get_vertices() == {1, 2, 3}\n",
        "      True\n",
        "      >>> h = Graph()\n",
        "      >>> h.get_vertices() == set()\n",
        "      True\n",
        "      \"\"\"\n",
        "      \n",
        "      return set(self.alist.keys())\n",
        "    \n",
        "    def get_edges(self):\n",
        "      \"\"\"\n",
        "      Returns a list of all edges in the graph.\n",
        "      Each edge appears in the list as many times\n",
        "      as it is stored in the graph.\n",
        "      \n",
        "      Running time: O(# edges)\n",
        "      \"\"\"\n",
        "      \n",
        "      edges = []\n",
        "      for v,l in self.alist.items():\n",
        "        edges += l\n",
        "      return edges\n",
        "\n",
        "    def add_vertex(self, v):\n",
        "        \"\"\"\n",
        "        Add a vertex v to the graph.\n",
        "        If v exists in the graph, do nothing.\n",
        "\n",
        "        Efficiency: O(1)\n",
        "\n",
        "        >>> g = Graph()\n",
        "        >>> len(g.get_vertices())\n",
        "        0\n",
        "        >>> g.add_vertex(1)\n",
        "        >>> g.add_vertex(\"vertex\")\n",
        "        >>> \"vertex\" in g.get_vertices()\n",
        "        True\n",
        "        >>> 2 in g.get_vertices()\n",
        "        False\n",
        "        \"\"\"\n",
        "\n",
        "        if v not in self.alist:\n",
        "          self.alist[v] = []\n",
        "\n",
        "    def add_edge(self, e):\n",
        "        \"\"\"\n",
        "        Add edge e to the graph.\n",
        "        Raise an exception if the endpoints of\n",
        "        e are not in the graph.\n",
        "\n",
        "        Efficiency: O(1)\n",
        "\n",
        "        >>> g = Graph()\n",
        "        >>> g.add_vertex(1)\n",
        "        >>> g.add_vertex(2)\n",
        "        >>> g.add_edge((1,2))\n",
        "        >>> 2 in g.alist[1]\n",
        "        True\n",
        "        >>> 1 in g.alist[2]\n",
        "        False\n",
        "        >>> g.add_edge((1,2))\n",
        "        >>> g.alist[1] == [2, 2]\n",
        "        True\n",
        "        \"\"\"\n",
        "\n",
        "        if not self.is_vertex(e[0]) or not self.is_vertex(e[1]):\n",
        "            raise ValueError(\"An endpoint is not in graph\")\n",
        "        self.alist[e[0]].append(e[1])\n",
        "\n",
        "    def is_vertex(self, v):\n",
        "        \"\"\"\n",
        "        Check if vertex v is in the graph.\n",
        "        Return True if it is, False if it is not.\n",
        "\n",
        "        Efficiency: O(1) - Sweeping some discussion\n",
        "        about hashing under the rug.\n",
        "\n",
        "        >>> g = Graph({1,2})\n",
        "        >>> g.is_vertex(1)\n",
        "        True\n",
        "        >>> g.is_vertex(3)\n",
        "        False\n",
        "        >>> g.add_vertex(3)\n",
        "        >>> g.is_vertex(3)\n",
        "        True\n",
        "        \"\"\"\n",
        "\n",
        "        return v in self.alist\n",
        "\n",
        "    def is_edge(self, e):\n",
        "        \"\"\"\n",
        "        Check if edge e is in the graph.\n",
        "        Return True if it is, False if it is not.\n",
        "\n",
        "        Efficiency: O(# neighbours of e[0])\n",
        "\n",
        "        >>> g = Graph({1,2}, [(1,2)])\n",
        "        >>> g.is_edge((1,2))\n",
        "        True\n",
        "        >>> g.is_edge((2,1))\n",
        "        False\n",
        "        >>> g.add_edge((1,2))\n",
        "        >>> g.is_edge((1,2))\n",
        "        True\n",
        "        \"\"\"\n",
        "        \n",
        "        return e[1] in self.alist[e[0]]\n",
        "\n",
        "    def neighbours(self, v):\n",
        "        \"\"\"\n",
        "        Return a list of neighbours of v.\n",
        "        A vertex u appears in this list as many\n",
        "        times as the (v,u) edge is in the graph.\n",
        "\n",
        "        If v is not in the graph, then\n",
        "        raise a ValueError exception.\n",
        "\n",
        "        Efficiency: O(# edges)\n",
        "\n",
        "        >>> Edges = [(1,2),(1,4),(3,1),(3,4),(2,4),(1,2)]\n",
        "        >>> g = Graph({1,2,3,4}, Edges)\n",
        "        >>> g.neighbours(1)\n",
        "        [2, 4, 2]\n",
        "        >>> g.neighbours(4)\n",
        "        []\n",
        "        >>> g.neighbours(3)\n",
        "        [1, 4]\n",
        "        >>> g.neighbours(2)\n",
        "        [4]\n",
        "        \"\"\"\n",
        "\n",
        "        if not self.is_vertex(v):\n",
        "            raise ValueError(\"Vertex not in graph\")\n",
        "\n",
        "        return self.alist[v]\n",
        "      \n",
        "      \n",
        "def is_walk(g, walk):\n",
        "    \"\"\"\n",
        "    Given a graph 'g' and a list 'walk', return true\n",
        "    if 'walk' is a walk in g.\n",
        "\n",
        "    Recall a walk in a graph is a nonempty\n",
        "    sequence of vertices\n",
        "    in the graph so that consecutive vertices in the\n",
        "    sequence are connected by a directed edge\n",
        "    (in the correct direction)\n",
        "\n",
        "    Efficiency: O((# edges) * (walk length))\n",
        "\n",
        "    >>> Edges = [(1,2),(1,3),(2,5),(3,4),(4,2),(5,4)]\n",
        "    >>> g = Graph({1,2,3,4,5}, Edges)\n",
        "    >>> is_walk(g, [3,4,2,5,4,2])\n",
        "    True\n",
        "    >>> is_walk(g, [5,4,2,1,3])\n",
        "    False\n",
        "    >>> is_walk(g, [2])\n",
        "    True\n",
        "    >>> is_walk(g, [])\n",
        "    False\n",
        "    >>> is_walk(g, [1,6])\n",
        "    False\n",
        "    >>> is_walk(g, [6])\n",
        "    False\n",
        "    \"\"\"\n",
        "\n",
        "    if not walk:\n",
        "        return False\n",
        "\n",
        "    if len(walk) == 1:\n",
        "        return g.is_vertex(walk[0])\n",
        "\n",
        "    # num iterations = O(len(walk))\n",
        "    for i in range(len(walk)-1):\n",
        "        # body of loop takes O(# edges) time\n",
        "        if not g.is_edge((walk[i], walk[i+1])):\n",
        "            return False\n",
        "\n",
        "    return True\n",
        "\n",
        "\n",
        "def is_path(g, path):\n",
        "    \"\"\"\n",
        "    Given a graph 'g' and a list 'path',\n",
        "    return true if 'path' is a path in g.\n",
        "\n",
        "    Recall a path is a walk that does not\n",
        "    visit a vertex more than once.\n",
        "\n",
        "    Efficiency: O((# edges) * (path length))\n",
        "\n",
        "    >>> Edges = [(1,2),(1,3),(2,5),(3,4),(4,2),(5,4)]\n",
        "    >>> g = Graph({1,2,3,4,5}, Edges)\n",
        "    >>> is_path(g, [3,4,2,5,4,2])\n",
        "    False\n",
        "    >>> is_path(g, [3,4,2,5])\n",
        "    True\n",
        "    \"\"\"\n",
        "\n",
        "    # O(len(path))\n",
        "    if len(set(path)) < len(path):\n",
        "        return False\n",
        "\n",
        "    # O((# edges) * len(path))\n",
        "    return is_walk(g, path)\n",
        "\n"
      ],
      "execution_count": 0,
      "outputs": []
    },
    {
      "metadata": {
        "id": "t85haX8RSmph",
        "colab_type": "text"
      },
      "cell_type": "markdown",
      "source": [
        "# Visualizing Graphs Using ```graphviz```\n",
        "\n",
        "Using the ```graphviz``` package we can visualize instances of our ```Graph``` class. We won't discuss the details behind the use of ```graphviz``` too much, feel free to do your own research on how to adjust the visualization (eg. adding edge labels, the vertex shapes, or using colour). This is just a helpful too."
      ]
    },
    {
      "metadata": {
        "id": "NaBC6cl3TttZ",
        "colab_type": "code",
        "colab": {
          "autoexec": {
            "startup": false,
            "wait_interval": 0
          }
        }
      },
      "cell_type": "code",
      "source": [
        "def get_dot_format(graph):\n",
        "  \"\"\"\n",
        "  Converts an instance of our Graph class to an instance \n",
        "  of the graphviz class Digraph, which can then be displayed in a block via\n",
        "  \n",
        "  graphviz.Source(return_value)\n",
        "  \n",
        "  Assumes each vertex of g can be converted to a string via str().\n",
        "  \"\"\"\n",
        "  \n",
        "  try:\n",
        "    # I know it is imported at the top of this notebook already, but this is\n",
        "    # just emphasizing what to do if you copy/paste this somewhere else.\n",
        "    import graphviz\n",
        "  except:\n",
        "    print()\n",
        "    print(\"*\"*40)\n",
        "    print(\"Error importing graphviz.\")\n",
        "    print(\"To install it on the VM, type:\")\n",
        "    print(\"      sudo pip3 install graphviz\")\n",
        "    print(\"and enter cmput274 as the password.\")\n",
        "    print()\n",
        "    print(\"To install in Google Colaboratory, execute a block with these two commands:\")\n",
        "    print(\"      !apt-get -qq install -y graphviz\")\n",
        "    print(\"      !pip install graphviz\")\n",
        "    print(\"*\"*40)\n",
        "    print()\n",
        "    sys.exit(0)\n",
        "\n",
        "  dot = graphviz.Graph()\n",
        "\n",
        "  dot.attr('node', shape='circle')\n",
        "    \n",
        "  for u in graph.get_vertices():     \n",
        "    dot.node(str(u))\n",
        "    for v in graph.neighbours(u):\n",
        "      dot.edge(str(u),str(v))\n",
        "\n",
        "  return dot"
      ],
      "execution_count": 0,
      "outputs": []
    },
    {
      "metadata": {
        "id": "yOZRk2m0T17e",
        "colab_type": "text"
      },
      "cell_type": "markdown",
      "source": [
        "Now all you have to do is call ```draw_graph(my_graph)``` when ```my_graph``` is an instance of our ```Graph()``` class. Let's try it!\n",
        "\n",
        "**Note**: Viewing the graph has to be the last line of a block in Google Colaboratory, otherwise it will not show up."
      ]
    },
    {
      "metadata": {
        "id": "_DuP0X9mUjzo",
        "colab_type": "code",
        "colab": {
          "autoexec": {
            "startup": false,
            "wait_interval": 0
          },
          "base_uri": "https://localhost:8080/",
          "height": 271
        },
        "outputId": "c7cad160-d243-4ecf-cfe2-b8c3c2be23c3",
        "executionInfo": {
          "status": "ok",
          "timestamp": 1516899847498,
          "user_tz": 420,
          "elapsed": 321,
          "user": {
            "displayName": "Zachary Friggstad",
            "photoUrl": "https://lh3.googleusercontent.com/a/default-user=s128",
            "userId": "105154837239776143913"
          }
        }
      },
      "cell_type": "code",
      "source": [
        "my_graph = Graph({1,2,3,4,5})\n",
        "my_graph.add_edge((3,4))\n",
        "my_graph.add_edge((2,4))\n",
        "my_graph.add_edge((4,2))\n",
        "my_graph.add_edge((3,1))\n",
        "\n",
        "dot = get_dot_format(my_graph)\n",
        "\n",
        "graphviz.Source(dot)\n",
        "\n",
        "# this won't work on the VM, on the VM you should use\n",
        "# dot.render(view=True)"
      ],
      "execution_count": 5,
      "outputs": [
        {
          "output_type": "execute_result",
          "data": {
            "text/plain": [
              "<graphviz.files.Source at 0x7f0e2eb173c8>"
            ],
            "image/svg+xml": "<?xml version=\"1.0\" encoding=\"UTF-8\" standalone=\"no\"?>\n<!DOCTYPE svg PUBLIC \"-//W3C//DTD SVG 1.1//EN\"\n \"http://www.w3.org/Graphics/SVG/1.1/DTD/svg11.dtd\">\n<!-- Generated by graphviz version 2.38.0 (20140413.2041)\n -->\n<!-- Title: %3 Pages: 1 -->\n<svg width=\"125pt\" height=\"188pt\"\n viewBox=\"0.00 0.00 125.00 188.00\" xmlns=\"http://www.w3.org/2000/svg\" xmlns:xlink=\"http://www.w3.org/1999/xlink\">\n<g id=\"graph0\" class=\"graph\" transform=\"scale(1 1) rotate(0) translate(4 184)\">\n<title>%3</title>\n<polygon fill=\"white\" stroke=\"none\" points=\"-4,4 -4,-184 121,-184 121,4 -4,4\"/>\n<!-- 1 -->\n<g id=\"node1\" class=\"node\"><title>1</title>\n<ellipse fill=\"none\" stroke=\"black\" cx=\"18\" cy=\"-90\" rx=\"18\" ry=\"18\"/>\n<text text-anchor=\"middle\" x=\"18\" y=\"-86.3\" font-family=\"Times,serif\" font-size=\"14.00\">1</text>\n</g>\n<!-- 2 -->\n<g id=\"node2\" class=\"node\"><title>2</title>\n<ellipse fill=\"none\" stroke=\"black\" cx=\"72\" cy=\"-18\" rx=\"18\" ry=\"18\"/>\n<text text-anchor=\"middle\" x=\"72\" y=\"-14.3\" font-family=\"Times,serif\" font-size=\"14.00\">2</text>\n</g>\n<!-- 4 -->\n<g id=\"node3\" class=\"node\"><title>4</title>\n<ellipse fill=\"none\" stroke=\"black\" cx=\"72\" cy=\"-90\" rx=\"18\" ry=\"18\"/>\n<text text-anchor=\"middle\" x=\"72\" y=\"-86.3\" font-family=\"Times,serif\" font-size=\"14.00\">4</text>\n</g>\n<!-- 2&#45;&gt;4 -->\n<g id=\"edge1\" class=\"edge\"><title>2&#45;&gt;4</title>\n<path fill=\"none\" stroke=\"black\" d=\"M77.7909,-35.1473C78.7077,-43.2615 78.9672,-53.3027 78.5695,-62.5079\"/>\n<polygon fill=\"black\" stroke=\"black\" points=\"75.0581,-62.531 77.8008,-72.7646 82.0385,-63.0542 75.0581,-62.531\"/>\n</g>\n<!-- 4&#45;&gt;2 -->\n<g id=\"edge4\" class=\"edge\"><title>4&#45;&gt;2</title>\n<path fill=\"none\" stroke=\"black\" d=\"M66.1992,-72.7646C65.2872,-64.6365 65.0324,-54.5915 65.4348,-45.3923\"/>\n<polygon fill=\"black\" stroke=\"black\" points=\"68.9454,-45.3827 66.2091,-35.1473 61.9653,-44.8551 68.9454,-45.3827\"/>\n</g>\n<!-- 3 -->\n<g id=\"node4\" class=\"node\"><title>3</title>\n<ellipse fill=\"none\" stroke=\"black\" cx=\"45\" cy=\"-162\" rx=\"18\" ry=\"18\"/>\n<text text-anchor=\"middle\" x=\"45\" y=\"-158.3\" font-family=\"Times,serif\" font-size=\"14.00\">3</text>\n</g>\n<!-- 3&#45;&gt;1 -->\n<g id=\"edge3\" class=\"edge\"><title>3&#45;&gt;1</title>\n<path fill=\"none\" stroke=\"black\" d=\"M38.7378,-144.765C35.5004,-136.371 31.4747,-125.934 27.8339,-116.495\"/>\n<polygon fill=\"black\" stroke=\"black\" points=\"31.0925,-115.218 24.2282,-107.147 24.5615,-117.737 31.0925,-115.218\"/>\n</g>\n<!-- 3&#45;&gt;4 -->\n<g id=\"edge2\" class=\"edge\"><title>3&#45;&gt;4</title>\n<path fill=\"none\" stroke=\"black\" d=\"M51.2622,-144.765C54.4996,-136.371 58.5253,-125.934 62.1661,-116.495\"/>\n<polygon fill=\"black\" stroke=\"black\" points=\"65.4385,-117.737 65.7718,-107.147 58.9075,-115.218 65.4385,-117.737\"/>\n</g>\n<!-- 5 -->\n<g id=\"node5\" class=\"node\"><title>5</title>\n<ellipse fill=\"none\" stroke=\"black\" cx=\"99\" cy=\"-162\" rx=\"18\" ry=\"18\"/>\n<text text-anchor=\"middle\" x=\"99\" y=\"-158.3\" font-family=\"Times,serif\" font-size=\"14.00\">5</text>\n</g>\n</g>\n</svg>\n"
          },
          "metadata": {
            "tags": []
          },
          "execution_count": 5
        }
      ]
    },
    {
      "metadata": {
        "id": "0Xg36RLzAYoV",
        "colab_type": "text"
      },
      "cell_type": "markdown",
      "source": [
        "# Graph Searches"
      ]
    },
    {
      "metadata": {
        "id": "UCtRn6KqBrph",
        "colab_type": "text"
      },
      "cell_type": "markdown",
      "source": [
        "## Breadth-First Search"
      ]
    },
    {
      "metadata": {
        "id": "XxGG0HCCAeaO",
        "colab_type": "code",
        "colab": {
          "autoexec": {
            "startup": false,
            "wait_interval": 0
          }
        }
      },
      "cell_type": "code",
      "source": [
        "from collections import deque\n",
        "\n",
        "def breadth_first_search(graph, s):\n",
        "    \"\"\"\n",
        "    Given a graph (an instance of Digraph) and a vertex s\n",
        "    in the graph, will return construct a search tree from s\n",
        "    using a breadth-first search.\n",
        "    \n",
        "    That is, a dictionary \"reached\" will be returned whose keys are all vertices\n",
        "    reachable from s and where reached[v] is the predecessor of v in the search.\n",
        "    The exception is reached[s] == s.\n",
        "    \n",
        "    Use can use get_path(reached, s, t) to recover a path from s to t\n",
        "    in the graph, after running this search.\n",
        "    \n",
        "    >>> g1 = Graph({\"A\",\"B\",\"C\",\"D\"}, [(\"A\",\"B\"), (\"B\",\"D\"), (\"C\",\"B\"), (\"C\",\"D\")])\n",
        "    >>> breadth_first_search(g1, \"A\").keys() == {\"A\", \"B\", \"D\"}\n",
        "    True\n",
        "    >>> breadth_first_search(g1, \"C\").keys() == {\"C\", \"B\", \"D\"}\n",
        "    True\n",
        "    >>> breadth_first_search(g1, \"B\").keys() == {\"B\", \"D\"}\n",
        "    True\n",
        "    >>> breadth_first_search(g1, \"D\").keys() == {\"D\"}\n",
        "    True\n",
        "    >>> g2 = Graph({\"A\",\"B\",\"C\"}, [(\"A\",\"B\"), (\"B\",\"C\"), (\"C\",\"B\")])\n",
        "    >>> breadth_first_search(g2, \"A\").keys() == {\"A\", \"B\", \"C\"}\n",
        "    True\n",
        "    >>> breadth_first_search(g2, \"B\").keys() == {\"B\", \"C\"}\n",
        "    True\n",
        "    >>> breadth_first_search(g2, \"C\").keys() == {\"B\", \"C\"}\n",
        "    True\n",
        "    \"\"\"\n",
        "\n",
        "    reached = {s:s}\n",
        "    todo = deque([s])\n",
        "\n",
        "    while todo: # condition is true if and only if todo is not empty\n",
        "      curr = todo.popleft()\n",
        "        \n",
        "      for nbr in graph.neighbours(curr):\n",
        "        if nbr not in reached:\n",
        "          reached[nbr] = curr\n",
        "          todo.append(nbr)\n",
        "\n",
        "    return reached"
      ],
      "execution_count": 0,
      "outputs": []
    },
    {
      "metadata": {
        "id": "ZefiWS2GBD8a",
        "colab_type": "code",
        "colab": {
          "autoexec": {
            "startup": false,
            "wait_interval": 0
          },
          "base_uri": "https://localhost:8080/",
          "height": 53
        },
        "outputId": "ce2a10f2-7c0e-4a40-cef8-a045bfdb1334",
        "executionInfo": {
          "status": "ok",
          "timestamp": 1516899848632,
          "user_tz": 420,
          "elapsed": 351,
          "user": {
            "displayName": "Zachary Friggstad",
            "photoUrl": "https://lh3.googleusercontent.com/a/default-user=s128",
            "userId": "105154837239776143913"
          }
        }
      },
      "cell_type": "code",
      "source": [
        "# Use this block to set up some simple tests to call search with while you are\n",
        "# debugging. An example is included.\n",
        "\n",
        "simple_graph = Graph({'A', 'B', 'C'}, [('A', 'B'), ('A', 'C')])\n",
        "\n",
        "print(breadth_first_search(simple_graph, 'A'))\n",
        "print(breadth_first_search(simple_graph, 'B'))"
      ],
      "execution_count": 7,
      "outputs": [
        {
          "output_type": "stream",
          "text": [
            "{'A': 'A', 'B': 'A', 'C': 'A'}\n",
            "{'B': 'B'}\n"
          ],
          "name": "stdout"
        }
      ]
    },
    {
      "metadata": {
        "id": "5I6kRKzwMBSJ",
        "colab_type": "code",
        "colab": {
          "autoexec": {
            "startup": false,
            "wait_interval": 0
          },
          "base_uri": "https://localhost:8080/",
          "height": 125
        },
        "outputId": "7ae51a3c-4d78-4a02-b02b-6b73bab6ac1e",
        "executionInfo": {
          "status": "ok",
          "timestamp": 1516899852353,
          "user_tz": 420,
          "elapsed": 3471,
          "user": {
            "displayName": "Zachary Friggstad",
            "photoUrl": "https://lh3.googleusercontent.com/a/default-user=s128",
            "userId": "105154837239776143913"
          }
        }
      },
      "cell_type": "code",
      "source": [
        "# testing with a large random graph where each vertex has\n",
        "# 10 random outgoing edges\n",
        "\n",
        "import random, time\n",
        "\n",
        "num_vertices = 100000\n",
        "\n",
        "print(\"Constructing random graph with\", num_vertices, \"vertices\")\n",
        "print(\"and\", 10*num_vertices, \"edges.\")\n",
        "\n",
        "vertices = set(range(num_vertices))\n",
        "\n",
        "edges = []\n",
        "for v in vertices:\n",
        "  # for each vertex, create 10 random outgoing edges, we are not concerned\n",
        "  # about duplicate edges or loops\n",
        "  edges += [(v, random.randrange(num_vertices)) for x in range(10)]\n",
        "\n",
        "random_graph = Graph(vertices, edges)\n",
        "\n",
        "print(\"Starting search...\")\n",
        "start = time.time()\n",
        "reached = breadth_first_search(random_graph, 0)\n",
        "end = time.time()\n",
        "print(\"Done!\\nElapsed time in seconds:\", end-start)\n",
        "print(\"Number of vertices reached:\", len(reached))\n"
      ],
      "execution_count": 8,
      "outputs": [
        {
          "output_type": "stream",
          "text": [
            "Constructing random graph with 100000 vertices\n",
            "and 1000000 edges.\n",
            "Starting search...\n",
            "Done!\n",
            "Elapsed time in seconds: 0.41315555572509766\n",
            "Number of vertices reached: 99996\n"
          ],
          "name": "stdout"
        }
      ]
    },
    {
      "metadata": {
        "id": "XPTGqVoABvVt",
        "colab_type": "text"
      },
      "cell_type": "markdown",
      "source": [
        "## Recovering a Path"
      ]
    },
    {
      "metadata": {
        "id": "-pN14vTkB2WF",
        "colab_type": "code",
        "colab": {
          "autoexec": {
            "startup": false,
            "wait_interval": 0
          }
        }
      },
      "cell_type": "code",
      "source": [
        "def get_path(reached, start, end):\n",
        "  \"\"\"\n",
        "  Return a path from start to end, given a search tree.\n",
        "  \n",
        "  reached:\n",
        "    A dictionary representing a search tree of a search\n",
        "    initiated from the vertex \"start\".\n",
        "  start:\n",
        "    The vertex that was the start of the search that constructed\n",
        "    the search tree\n",
        "  end:\n",
        "    The desired endpoint of the search\n",
        "  \n",
        "  Returns a list of vertices starting at vertex start and ending at vertex end\n",
        "  representing a path between these vertices (the path in the search tree).\n",
        "  If the vertex \"end\" was not reached (i.e. is not a key in reached),\n",
        "  this simply returns the empty list []\n",
        "  \n",
        "  # the example in the docstring test is the search tree run on the graph\n",
        "  # drawn using graphviz above, starting from vertex 3\n",
        "  \n",
        "  >>> reached = {3:3, 1:3, 4:3, 2:4}\n",
        "  >>> get_path(reached, 3, 2)\n",
        "  [3, 4, 2]\n",
        "  >>> get_path(reached, 3, 3)\n",
        "  [3]\n",
        "  >>> get_path(reached, 3, 5)\n",
        "  []\n",
        "  \"\"\"\n",
        "  \n",
        "  if end not in reached:\n",
        "    return []\n",
        "  \n",
        "  path = [end]\n",
        "  \n",
        "  while end != start:\n",
        "    end = reached[end]\n",
        "    path.append(end)\n",
        "    \n",
        "  path.reverse()\n",
        "  \n",
        "  return path"
      ],
      "execution_count": 0,
      "outputs": []
    },
    {
      "metadata": {
        "id": "U3n-k30dDLpe",
        "colab_type": "code",
        "colab": {
          "autoexec": {
            "startup": false,
            "wait_interval": 0
          },
          "base_uri": "https://localhost:8080/",
          "height": 35
        },
        "outputId": "e9adfd64-09c0-41f6-eed1-d14bcfd7ab18",
        "executionInfo": {
          "status": "ok",
          "timestamp": 1516899853129,
          "user_tz": 420,
          "elapsed": 319,
          "user": {
            "displayName": "Zachary Friggstad",
            "photoUrl": "https://lh3.googleusercontent.com/a/default-user=s128",
            "userId": "105154837239776143913"
          }
        }
      },
      "cell_type": "code",
      "source": [
        "# Use this block to debug your get_path implementation. An example is provided.\n",
        "\n",
        "simple_graph = Graph({'A', 'B', 'C'}, [('A', 'B'), ('B', 'C')])\n",
        "\n",
        "reached = breadth_first_search(simple_graph, 'A')\n",
        "\n",
        "print(get_path(reached, 'A', 'C')) # should print ['A', 'B', 'C']"
      ],
      "execution_count": 10,
      "outputs": [
        {
          "output_type": "stream",
          "text": [
            "['A', 'B', 'C']\n"
          ],
          "name": "stdout"
        }
      ]
    },
    {
      "metadata": {
        "id": "H_eDH3I9DnMb",
        "colab_type": "text"
      },
      "cell_type": "markdown",
      "source": [
        "## Depth-First Search"
      ]
    },
    {
      "metadata": {
        "id": "ifSh8Be6Dp2r",
        "colab_type": "code",
        "colab": {
          "autoexec": {
            "startup": false,
            "wait_interval": 0
          }
        }
      },
      "cell_type": "code",
      "source": [
        "def depth_first_search(graph, s):\n",
        "  \"\"\"\n",
        "  Perform a depth-first search starting from vertex s in the graph.\n",
        "  Returns the search tree as a dictionary.\n",
        "  \n",
        "  Put a few docstring tests in here! It's hard to predict exactly what\n",
        "  dictionary will be returned, it depends on the order the Graph.neighbours()\n",
        "  method produces them.\n",
        "  \n",
        "  The best you can do here is just to check that the keys\n",
        "  of the reached dictionary are all nodes that are reachable.\n",
        "  \"\"\"\n",
        "  \n",
        "  reached = dict()\n",
        "  \n",
        "  # do recursion, starting from s\n",
        "  def do_dfs(curr, prev):\n",
        "    \"\"\"\n",
        "    Do the dfs from vertex curr, having come from vertex prev.\n",
        "    \"\"\"\n",
        "    if curr in reached:\n",
        "      return\n",
        "    reached[curr] = prev\n",
        "    \n",
        "    for nbr in graph.neighbours(curr):\n",
        "      do_dfs(nbr, curr)\n",
        "      \n",
        "  do_dfs(s, s)\n",
        "  \n",
        "  return reached"
      ],
      "execution_count": 0,
      "outputs": []
    },
    {
      "metadata": {
        "id": "CYpEhSgvD6OO",
        "colab_type": "code",
        "colab": {
          "autoexec": {
            "startup": false,
            "wait_interval": 0
          },
          "base_uri": "https://localhost:8080/",
          "height": 35
        },
        "outputId": "f7e8b4cd-7557-4c11-af69-28af043592d5",
        "executionInfo": {
          "status": "ok",
          "timestamp": 1516900067028,
          "user_tz": 420,
          "elapsed": 376,
          "user": {
            "displayName": "Zachary Friggstad",
            "photoUrl": "https://lh3.googleusercontent.com/a/default-user=s128",
            "userId": "105154837239776143913"
          }
        }
      },
      "cell_type": "code",
      "source": [
        "# again, use this block to test your implementation\n",
        "graph = Graph({1, 2, 3, 4})\n",
        "graph.add_edge( (1, 4) )\n",
        "graph.add_edge( (1, 2) )\n",
        "graph.add_edge( (2, 3) )\n",
        "graph.add_edge( (3, 4) )\n",
        "\n",
        "print(depth_first_search(graph, 1))"
      ],
      "execution_count": 18,
      "outputs": [
        {
          "output_type": "stream",
          "text": [
            "{1: 1, 4: 1, 2: 1, 3: 2}\n"
          ],
          "name": "stdout"
        }
      ]
    },
    {
      "metadata": {
        "id": "pqwOr42nWohl",
        "colab_type": "text"
      },
      "cell_type": "markdown",
      "source": [
        "# Doctest Block\n",
        "Run the following to check all docstring tests. Quite a few will fail until we are all done implementing the searches!"
      ]
    },
    {
      "metadata": {
        "id": "mmiw5Lm5WoI6",
        "colab_type": "code",
        "colab": {
          "autoexec": {
            "startup": false,
            "wait_interval": 0
          },
          "base_uri": "https://localhost:8080/",
          "height": 10
        },
        "outputId": "4631001c-8b2a-4e9e-cd02-bfeb707c3159",
        "executionInfo": {
          "status": "ok",
          "timestamp": 1516899854722,
          "user_tz": 420,
          "elapsed": 315,
          "user": {
            "displayName": "Zachary Friggstad",
            "photoUrl": "https://lh3.googleusercontent.com/a/default-user=s128",
            "userId": "105154837239776143913"
          }
        }
      },
      "cell_type": "code",
      "source": [
        "import doctest\n",
        "doctest.testmod()"
      ],
      "execution_count": 13,
      "outputs": [
        {
          "output_type": "execute_result",
          "data": {
            "text/plain": [
              "TestResults(failed=0, attempted=68)"
            ]
          },
          "metadata": {
            "tags": []
          },
          "execution_count": 13
        }
      ]
    }
  ]
}