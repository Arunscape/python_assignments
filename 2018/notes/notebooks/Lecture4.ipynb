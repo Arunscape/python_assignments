{
 "cells": [
  {
   "cell_type": "markdown",
   "metadata": {},
   "source": [
    "# CMPUT275 Lecture 4\n",
    "\n",
    "## Recap\n",
    "- The lambda function is a way to create anonymous throw-away functions.\n",
    "- A file that contains Python definitions (names, functions, etc.) is a module. A module can be imported into other modules or into the main module.\n",
    "- A package is a way of structuring Python’s module namespace by using “dotted module names”.\n",
    "- When a Python program encounters a situation that it cannot cope with, it raises an exception.\n",
    "- A try statement may have more than one except clause to specify handlers for different exceptions. But at most one handler will be executed.\n",
    "- When a Python function raises an exception, it must either handle the exception or another handler up the call stack will have to handle it.\n",
    "- Everything in Python is an object (i.e. an instance of some class). Even types, functions, and exceptions are objects. Today, we will see that classes themselves are objects! Their type is `type`."
   ]
  },
  {
   "cell_type": "markdown",
   "metadata": {},
   "source": [
    "__Exercise__: Write a function, called `get_element_at(some_list, k)`, that takes a list and an integer as input and returns the *k*th element of the list. Write another function, called `str2int(index)`, that converts the input argument to integer and returns it. Your functions shouldn't throw any exceptions. Test your code using the following Python script."
   ]
  },
  {
   "cell_type": "code",
   "execution_count": 2,
   "metadata": {},
   "outputs": [
    {
     "name": "stdout",
     "output_type": "stream",
     "text": [
      "Enter an index:2\n",
      "3\n"
     ]
    }
   ],
   "source": [
    "def str2int(index):\n",
    "    # Write the content of this function\n",
    "    return int(index)\n",
    "\n",
    "\n",
    "def get_element_at(some_list, k):\n",
    "    # Write the content of this function\n",
    "    return some_list[k]\n",
    "\n",
    "try:\n",
    "    index = str2int(input(\"Enter an index:\"))\n",
    "    print(get_element_at([1, 2, 3], index))\n",
    "except:\n",
    "    print(\"You should never reach this point!\")\n",
    "    raise"
   ]
  },
  {
   "cell_type": "markdown",
   "metadata": {},
   "source": [
    "## With Statement\n",
    "\n",
    "The `with` statement is a new control-flow structure whose basic structure is:\n",
    "\n",
    "`with expression [as variable]:\n",
    "    with-block`\n",
    "\n",
    "The expression is evaluated, and it should result in an object that supports the context management protocol, i.e., has \\_\\_enter\\_\\_( ) and \\_\\_exit\\_\\_( ) methods. The object's \\_\\_enter\\_\\_( ) is called before with-block is executed and therefore can run set-up code. It also may return a value that is bound to the name variable, if given. After the execution of the with-block is finished, the object's \\_\\_exit\\_\\_( ) method is called, even if the block raised an exception, and can therefore run clean-up code.\n",
    "\n",
    "Hence, it is similar to `try...finally` blocks."
   ]
  },
  {
   "cell_type": "markdown",
   "metadata": {},
   "source": [
    "### File Operations\n",
    "The with statement automatically closes the file at the end of the block, even if an error occurs inside the block."
   ]
  },
  {
   "cell_type": "code",
   "execution_count": 2,
   "metadata": {
    "collapsed": true
   },
   "outputs": [],
   "source": [
    "# Opening a file for writing will create the file if it does not exist yet.\n",
    "with open('myfile.txt', 'w') as myfile:\n",
    "    print(\"Writing\", file=myfile)"
   ]
  },
  {
   "cell_type": "code",
   "execution_count": 3,
   "metadata": {
    "collapsed": true
   },
   "outputs": [],
   "source": [
    "with open('myfile.txt', 'a') as myfile:\n",
    "    print(\"Appending\", file=myfile)"
   ]
  },
  {
   "cell_type": "code",
   "execution_count": 4,
   "metadata": {},
   "outputs": [
    {
     "name": "stdout",
     "output_type": "stream",
     "text": [
      "Writing\n",
      "\n",
      "Appending\n",
      "\n"
     ]
    }
   ],
   "source": [
    "with open('myfile.txt', 'r') as myfile:\n",
    "    for line in myfile:\n",
    "        print(line)"
   ]
  },
  {
   "cell_type": "code",
   "execution_count": null,
   "metadata": {
    "collapsed": true
   },
   "outputs": [],
   "source": [
    "help(open)"
   ]
  },
  {
   "cell_type": "markdown",
   "metadata": {},
   "source": [
    "## Objects\n",
    "\n",
    "A class is a kind of data type, just like a string, integer or list. When we create an object of that data type, we call it an _instance_ of a class. In Python, everything is an object, i.e., an instance of some class.\n",
    "\n",
    "When we design our own objects, we have to decide how we are going to group things together, and what our objects are going to represent. Sometimes we write objects which map very intuitively onto things in the real world. However, it isn’t always necessary, desirable or even possible to make all code objects perfectly analogous to their real-world counterparts."
   ]
  },
  {
   "cell_type": "markdown",
   "metadata": {},
   "source": [
    "## Classes\n",
    "Classes provide a means of bundling data and functionality together (encapsulating variables and functions into a single entity). Creating a new class creates a new type of object, allowing new instances of that type to be made. Each class instance can have *attributes* attached to it for maintaining its state, and *methods* (defined by its class) for modifying its state.\n",
    "\n",
    "Class names should normally use the CapWords/CamelCase convention. To define a class, we use the following syntax:<br>\n",
    "`class ClassName:\n",
    "    <statement-1>\n",
    "    .\n",
    "    .\n",
    "    .\n",
    "    <statement-N>`"
   ]
  },
  {
   "cell_type": "code",
   "execution_count": 1,
   "metadata": {},
   "outputs": [
    {
     "name": "stdout",
     "output_type": "stream",
     "text": [
      "Hi\n",
      "<class '__main__.MyClass'>\n"
     ]
    }
   ],
   "source": [
    "class MyClass:\n",
    "    def __init__(self):\n",
    "        # 'self' is the object that has just been created\n",
    "        \n",
    "        # You initialize instance attributes here. \n",
    "        # This doesn't need to happen for all the attributes that the object is ever allowed to have.\n",
    "        self.msg = \"Hi\"\n",
    "        \n",
    "        print(self.msg)\n",
    "        \n",
    "        # The __init__ function doesn't need a return statement; it always returns None\n",
    "        # If you try to return something, you will get TypeError\n",
    "\n",
    "\n",
    "# Instantiating from MyClass\n",
    "myobj = MyClass()\n",
    "print(type(myobj))"
   ]
  },
  {
   "cell_type": "markdown",
   "metadata": {},
   "source": [
    "### Initializer/Constructor\n",
    "When a new instance of the class is created, the `__init__` method on this new object is immediately executed with all the parameters that we passed to the class object. The purpose of this method is thus to set up a new object using data that we have provided.\n",
    "\n",
    "There is a different method called `__new__` which is more analogous to a constructor, but it is hardly ever used.\n",
    "\n",
    "### Self\n",
    "When we call a method on an object, the object itself is automatically passed in as the first parameter (i.e., `self`). This gives us a way to access the object’s properties from inside the object’s methods. Note that this first parameter doesn’t have to be called `self`, but this is a very strongly followed convention.\n",
    "\n",
    "### Instance Attributes\n",
    "Instance attributes are the variables that are unique to an object. `__init__` function creates attributes on the object and sets them to the values we have passed in as parameters. In Python, you can add new attributes, and even new methods, to an object on the fly. It is considered bad practice to create new attributes in a method without initialising them in the `__init__` method.\n",
    "\n",
    "Starting an attribute or method name with an underscore `(_)` is a convention which we use to indicate that it is a `private` internal property and should not be accessed directly."
   ]
  },
  {
   "cell_type": "code",
   "execution_count": 2,
   "metadata": {},
   "outputs": [
    {
     "name": "stdout",
     "output_type": "stream",
     "text": [
      "<class '__main__.Employee'>\n",
      "John Williams - Employee ID: 8910019\n",
      "1980-01-20\n"
     ]
    }
   ],
   "source": [
    "from random import *\n",
    "import datetime\n",
    "\n",
    "class Employee:\n",
    "    def __init__(self, fname, lname, bdate):\n",
    "        # Create attributes on the object and set them to the values passed in as parameters\n",
    "        self.name = fname\n",
    "        self.surname = lname\n",
    "        self.birthdate = bdate\n",
    "        \n",
    "        # Generate a random integer between 1,000,000 and 10,000,000\n",
    "        self.id = randint(1e6, 1e7)\n",
    "        \n",
    "        # Calling another method from __init__ to set the value of a private attribute\n",
    "        self._age = self.get_age()\n",
    "\n",
    "    \n",
    "    def print_business_card(self):\n",
    "        # Print a business card for an employee\n",
    "        print(\"{} {} - Employee ID: {}\".format(self.name, self.surname, self.id))\n",
    "\n",
    "    \n",
    "    def update_salary(self, sal):\n",
    "        # Update the salary of an employee\n",
    "        \n",
    "        # This attribute was not created/initialized in the __init__ function, which is considered bad practice\n",
    "        self.annualsalary = sal\n",
    "    \n",
    "    \n",
    "    def get_age(self):\n",
    "        # Enable us to access _age from outside\n",
    "        # _age is private and shouldn't be accessed directly\n",
    "        \n",
    "        # hasattr is a builtin function that checks if an object has the specified attribute\n",
    "        if hasattr(self, \"_age\"):\n",
    "            return self._age\n",
    "        else:\n",
    "            self._age = self._calc_age()\n",
    "            return self._age\n",
    "        \n",
    "        \n",
    "    def _calc_age(self):\n",
    "        # Calculate and return the age of an employee\n",
    "        today = datetime.date.today()\n",
    "        age = today.year - self.birthdate.year\n",
    "\n",
    "        if today < datetime.date(today.year, self.birthdate.month, self.birthdate.day):\n",
    "            age -= 1\n",
    "        \n",
    "        return age\n",
    "\n",
    "\n",
    "# Create a new instance (object) of class Employee\n",
    "new_empl = Employee(\"John\", \"Williams\", datetime.date(1980, 1, 20))  # year, month, day\n",
    "print(type(new_empl))\n",
    "\n",
    "\n",
    "# We don’t pass any argument to this function; the object itself is automatically passed in as the first parameter\n",
    "new_empl.print_business_card()\n",
    "\n",
    "\n",
    "# Accessing instance attributes\n",
    "print(new_empl.birthdate)"
   ]
  },
  {
   "cell_type": "code",
   "execution_count": 37,
   "metadata": {},
   "outputs": [
    {
     "name": "stdout",
     "output_type": "stream",
     "text": [
      "37\n"
     ]
    }
   ],
   "source": [
    "print(new_empl.get_age())"
   ]
  },
  {
   "cell_type": "markdown",
   "metadata": {},
   "source": [
    "We can use the builtin function `getattr` to retrieve the attribute value from an object. It takes the object as its first parameter. The second parameter is the name of the variable as a string."
   ]
  },
  {
   "cell_type": "code",
   "execution_count": 38,
   "metadata": {},
   "outputs": [
    {
     "name": "stdout",
     "output_type": "stream",
     "text": [
      "1980-01-20\n"
     ]
    }
   ],
   "source": [
    "print(getattr(new_empl, \"birthdate\"))"
   ]
  },
  {
   "cell_type": "code",
   "execution_count": 39,
   "metadata": {},
   "outputs": [
    {
     "name": "stdout",
     "output_type": "stream",
     "text": [
      "John\n",
      "Williams\n",
      "1980-01-20\n",
      "5773961\n"
     ]
    }
   ],
   "source": [
    "# This is useful if we want to iterate over all attributes of an instance and do some operation\n",
    "for key in [\"name\", \"surname\", \"birthdate\", \"id\"]:\n",
    "    print(getattr(new_empl, key))"
   ]
  },
  {
   "cell_type": "markdown",
   "metadata": {},
   "source": [
    "Similarly, we can use the builtin function `setattr` to set the value of an attribute. The first parameter of `setattr` is the object, the second is the name of the function, and the third is the new value for the attribute."
   ]
  },
  {
   "cell_type": "code",
   "execution_count": 40,
   "metadata": {
    "collapsed": true
   },
   "outputs": [],
   "source": [
    "setattr(new_empl, \"birthdate\", datetime.date(1980, 1, 21))\n",
    "\n",
    "# Which is similar to\n",
    "new_empl.birthdate = datetime.date(1980, 1, 21)"
   ]
  },
  {
   "cell_type": "markdown",
   "metadata": {},
   "source": [
    "When we create a new attribute outside the `__init__` method, \n",
    "we run the risk of using it before it has been initialised."
   ]
  },
  {
   "cell_type": "code",
   "execution_count": 41,
   "metadata": {},
   "outputs": [
    {
     "ename": "AttributeError",
     "evalue": "'Employee' object has no attribute 'annualsalary'",
     "output_type": "error",
     "traceback": [
      "\u001b[0;31m---------------------------------------------------------------------------\u001b[0m",
      "\u001b[0;31mAttributeError\u001b[0m                            Traceback (most recent call last)",
      "\u001b[0;32m<ipython-input-41-142a1f1cea88>\u001b[0m in \u001b[0;36m<module>\u001b[0;34m()\u001b[0m\n\u001b[1;32m      1\u001b[0m \u001b[0;31m# Accessing instance attributes\u001b[0m\u001b[0;34m\u001b[0m\u001b[0;34m\u001b[0m\u001b[0m\n\u001b[1;32m      2\u001b[0m \u001b[0;31m# This gives an error because this attribute is not defined in the __init__ method\u001b[0m\u001b[0;34m\u001b[0m\u001b[0;34m\u001b[0m\u001b[0m\n\u001b[0;32m----> 3\u001b[0;31m \u001b[0mprint\u001b[0m\u001b[0;34m(\u001b[0m\u001b[0mnew_empl\u001b[0m\u001b[0;34m.\u001b[0m\u001b[0mannualsalary\u001b[0m\u001b[0;34m)\u001b[0m\u001b[0;34m\u001b[0m\u001b[0m\n\u001b[0m",
      "\u001b[0;31mAttributeError\u001b[0m: 'Employee' object has no attribute 'annualsalary'"
     ]
    }
   ],
   "source": [
    "# Accessing instance attributes\n",
    "# This gives an error because this attribute is not defined in the __init__ method\n",
    "print(new_empl.annualsalary)"
   ]
  },
  {
   "cell_type": "code",
   "execution_count": 42,
   "metadata": {},
   "outputs": [
    {
     "name": "stdout",
     "output_type": "stream",
     "text": [
      "100000\n"
     ]
    }
   ],
   "source": [
    "new_empl.update_salary(100000)\n",
    "\n",
    "# Accessing instance attributes\n",
    "print(new_empl.annualsalary)"
   ]
  },
  {
   "cell_type": "markdown",
   "metadata": {},
   "source": [
    "You can create multiple instances of the same class (i.e., they have the same attributes and methods defined). However, each instance (or object) contains independent copies of the variables defined in the class."
   ]
  },
  {
   "cell_type": "code",
   "execution_count": 43,
   "metadata": {},
   "outputs": [
    {
     "name": "stdout",
     "output_type": "stream",
     "text": [
      "Martha Williams - Employee ID: 9178338\n",
      "John Williams - Employee ID: 5773961\n"
     ]
    }
   ],
   "source": [
    "newer_empl = Employee(\"Martha\", \"Williams\", datetime.date(1985, 10, 15))  # year, month, day\n",
    "\n",
    "newer_empl.print_business_card()\n",
    "new_empl.print_business_card()"
   ]
  },
  {
   "cell_type": "markdown",
   "metadata": {},
   "source": [
    "### Class Attributes\n",
    "All the attributes which we have defined so far are instance attributes. We define class attributes in the body of a class, at the same indentation level as method definitions (one level up from the insides of methods). These attributes will be *shared* by all instances of that class.\n",
    "\n",
    "Class attributes are often used to define constants which are closely associated with a particular class."
   ]
  },
  {
   "cell_type": "code",
   "execution_count": 111,
   "metadata": {},
   "outputs": [
    {
     "name": "stdout",
     "output_type": "stream",
     "text": [
      "Dr. Andrew Williams - Employee ID: 1768276\n",
      "Mrs. Sarah Williams - Employee ID: 8194936\n"
     ]
    }
   ],
   "source": [
    "class MyUpdatedEmployee:\n",
    "    \n",
    "    TITLES = ['Dr', 'Mr', 'Mrs', 'Ms']\n",
    "    \n",
    "    ISACTIVE = True\n",
    "    \n",
    "    def __init__(self, fname, lname, bdate, tindex):\n",
    "        # Create attributes on the object and set them to the values passed in as parameters\n",
    "        self.name = fname\n",
    "        self.surname = lname\n",
    "        self.birthdate = bdate\n",
    "        \n",
    "        self.title = self.TITLES[tindex]\n",
    "        \n",
    "        # Generate a random integer between 1,000,000 and 10,000,000\n",
    "        self.id = randint(1e6, 1e7)\n",
    "        \n",
    "    \n",
    "    def print_business_card(self):\n",
    "        if(self.ISACTIVE):\n",
    "            # Print a business card for an employee\n",
    "            print(\"{}. {} {} - Employee ID: {}\".format(self.title, self.name, self.surname, self.id))\n",
    "            \n",
    "            \n",
    "    def mark_as_inactive(self):\n",
    "        # overriding the class attribute with an instance attribute \n",
    "        # the class attribute will take precedence over the instance attribute\n",
    "        self.ISACTIVE = False\n",
    "        \n",
    "        \n",
    "    def add_new_title(self, newtitle):\n",
    "        self.TITLES.append(newtitle)\n",
    "        \n",
    "        \n",
    "another_empl = MyUpdatedEmployee(\"Andrew\", \"Williams\", datetime.date(1990, 10, 15), 0)\n",
    "yet_another_empl = MyUpdatedEmployee(\"Sarah\", \"Williams\", datetime.date(1980, 3, 26), 2)\n",
    "another_empl.print_business_card()\n",
    "yet_another_empl.print_business_card()"
   ]
  },
  {
   "cell_type": "markdown",
   "metadata": {},
   "source": [
    "We access the class attribute just like we would access an instance attribute. It is made available as a property on the instance object, which we access inside the method through the self variable and outside the method through the object. \n",
    "\n",
    "Note that the class attribute can also be accessed from class objects, without creating an instance. Class object don’t have access to any instance attributes."
   ]
  },
  {
   "cell_type": "code",
   "execution_count": 112,
   "metadata": {},
   "outputs": [
    {
     "name": "stdout",
     "output_type": "stream",
     "text": [
      "['Dr', 'Mr', 'Mrs', 'Ms']\n",
      "['Dr', 'Mr', 'Mrs', 'Ms']\n",
      "['Dr', 'Mr', 'Mrs', 'Ms']\n",
      "True\n",
      "True\n",
      "True\n"
     ]
    }
   ],
   "source": [
    "print(another_empl.TITLES)\n",
    "print(yet_another_empl.TITLES)\n",
    "print(MyUpdatedEmployee.TITLES)\n",
    "print(another_empl.ISACTIVE)\n",
    "print(yet_another_empl.ISACTIVE)\n",
    "print(MyUpdatedEmployee.ISACTIVE)"
   ]
  },
  {
   "cell_type": "code",
   "execution_count": 113,
   "metadata": {
    "collapsed": true
   },
   "outputs": [],
   "source": [
    "another_empl.mark_as_inactive()"
   ]
  },
  {
   "cell_type": "code",
   "execution_count": 114,
   "metadata": {},
   "outputs": [
    {
     "name": "stdout",
     "output_type": "stream",
     "text": [
      "False\n",
      "True\n",
      "True\n"
     ]
    }
   ],
   "source": [
    "print(another_empl.ISACTIVE)\n",
    "print(yet_another_empl.ISACTIVE)\n",
    "print(MyUpdatedEmployee.ISACTIVE)"
   ]
  },
  {
   "cell_type": "code",
   "execution_count": 115,
   "metadata": {
    "collapsed": true
   },
   "outputs": [],
   "source": [
    "MyUpdatedEmployee.ISACTIVE = False"
   ]
  },
  {
   "cell_type": "code",
   "execution_count": 116,
   "metadata": {},
   "outputs": [
    {
     "name": "stdout",
     "output_type": "stream",
     "text": [
      "False\n",
      "False\n",
      "False\n"
     ]
    }
   ],
   "source": [
    "print(another_empl.ISACTIVE)\n",
    "print(yet_another_empl.ISACTIVE)\n",
    "print(MyUpdatedEmployee.ISACTIVE)"
   ]
  },
  {
   "cell_type": "markdown",
   "metadata": {},
   "source": [
    "We should be careful when a class attribute is of a mutable type – because if we modify it in-place, we will affect all objects of that class at the same time."
   ]
  },
  {
   "cell_type": "code",
   "execution_count": 117,
   "metadata": {},
   "outputs": [],
   "source": [
    "another_empl.add_new_title('Prof')"
   ]
  },
  {
   "cell_type": "code",
   "execution_count": 118,
   "metadata": {},
   "outputs": [
    {
     "name": "stdout",
     "output_type": "stream",
     "text": [
      "['Dr', 'Mr', 'Mrs', 'Ms', 'Prof']\n",
      "['Dr', 'Mr', 'Mrs', 'Ms', 'Prof']\n",
      "['Dr', 'Mr', 'Mrs', 'Ms', 'Prof']\n"
     ]
    }
   ],
   "source": [
    "print(another_empl.TITLES)\n",
    "print(yet_another_empl.TITLES)\n",
    "print(MyUpdatedEmployee.TITLES)"
   ]
  },
  {
   "cell_type": "markdown",
   "metadata": {},
   "source": [
    "__Exercise__: Write a class called `ComplexNumber` which stores real and imaginary parts of a complex number separately and has methods for adding/subtracting other complex numbers to/from it. These methods should be called `cnum_add` and `cnum_subtract`. This class should also have a method, called `cnum_print`, to print itself to the standard output."
   ]
  },
  {
   "cell_type": "code",
   "execution_count": 36,
   "metadata": {},
   "outputs": [],
   "source": [
    "class ComplexNumber:\n",
    "    \n",
    "    def __init__(self,real,imag):\n",
    "        self.real=real\n",
    "        self.imag=imag\n",
    "        \n",
    "    def cnum_add(self, complex2):\n",
    "        self.real+=complex2.real\n",
    "        self.imag+=complex2.imag\n",
    "    def cnum_subtract(self,complex2):\n",
    "        self.real-=complex2.real\n",
    "        self.imag-=complex2.imag\n",
    "    def cnum_print(self):\n",
    "        sign=''\n",
    "        if self.imag > 0:\n",
    "            sign='+'\n",
    "        \n",
    "        print('{}{}{}j'.format(self.real,sign,self.imag))"
   ]
  },
  {
   "cell_type": "code",
   "execution_count": 37,
   "metadata": {},
   "outputs": [
    {
     "name": "stdout",
     "output_type": "stream",
     "text": [
      "10\n",
      "-12\n",
      "10-12j\n",
      "8-9j\n",
      "6-5j\n"
     ]
    }
   ],
   "source": [
    "my_complex_number = ComplexNumber(10, -12)\n",
    "print(my_complex_number.real)\n",
    "print(my_complex_number.imag)\n",
    "my_complex_number.cnum_print()\n",
    "\n",
    "my_complex_number.cnum_add(ComplexNumber(-2, 3))\n",
    "my_complex_number.cnum_print()\n",
    "\n",
    "my_complex_number.cnum_subtract(ComplexNumber(2, -4))\n",
    "my_complex_number.cnum_print()"
   ]
  },
  {
   "cell_type": "markdown",
   "metadata": {},
   "source": [
    "## Directed Graph\n",
    "### Definition\n",
    "A graph G is simply a collection of vertices and a multiset of pairs of vertices that we call the edges. \n",
    "An undirected graph is a graph where the pairs of vertices are unordered pairs \n",
    "(i.e., {u,v} and {v,u} describe the same edge) \n",
    "and a directed graph is a graph where the pairs of vertices are ordered pairs \n",
    "(i.e., (u,v) and (v,u) describe two different edges). \n",
    "It is common to use V for the set of vertices and E for the multiset of edges \n",
    "(a multiset is a set with multiplicities).\n",
    "\n",
    "![Directed Graph](https://upload.wikimedia.org/wikipedia/commons/thumb/a/a2/Directed.svg/200px-Directed.svg.png)\n",
    "\n",
    "Many more basic definitions and properties of graphs can be found [here](https://en.wikipedia.org/wiki/Graph). \n",
    "Be warned that it is common to see discrepancies between definitions \n",
    "from different sources of information on graphs. \n",
    "When in doubt about a definition for something we ask you to do, stick to the definition that we give you.\n",
    "\n",
    "We chose to focus on directed graphs, with the understanding that we can model an undirected graph G as a directed graph by replacing each edge {u,v} in G with both directed edges (u,v) and (v,u). We also chose to implement graphs that may have more than one copy of each edge.\n",
    "\n",
    "Two important concepts that can be defined for graphs are *walks* and *paths*. \n",
    "A *walk* in a graph G is simply a sequence $[v_1, v_2, \\cdots, v_k]$ of length at least 1 \n",
    "such that each vi is a vertex in G and any two consecutive vertices are connected by an edge in G.\n",
    "\n",
    "A *path* is simply a walk with no repeated nodes, i.e., $v_i \\neq v_j$ \n",
    "for any two distinct indices $1 \\leq i < j \\leq k$.\n",
    "\n",
    "### Directed Graph Class"
   ]
  },
  {
   "cell_type": "code",
   "execution_count": 38,
   "metadata": {},
   "outputs": [],
   "source": [
    "\"\"\"\n",
    "Directed Graph Class\n",
    "\n",
    "This graph class is a container that holds a set\n",
    "of vertices and a list of directed edges.\n",
    "Edges are modelled as tuples (u,v) of vertices.\n",
    "\n",
    "Note that this is not our final version of the class.\n",
    "\"\"\"\n",
    "\n",
    "class Graph:\n",
    "    def __init__(self, Vertices = set(), Edges = list()):\n",
    "        \"\"\"\n",
    "        Construct a graph with a shallow copy of\n",
    "        the given set of vertices and given list of edges.\n",
    "\n",
    "        Efficiency: O(# vertices + # edges)\n",
    "\n",
    "        >>> g = Graph({1,2,3}, [(1,2), (2,3)])\n",
    "        >>> g._vertices == {1,2,3}\n",
    "        True\n",
    "        >>> g._edges == [(1,2), (2,3)]\n",
    "        True\n",
    "        >>> h1 = Graph()\n",
    "        >>> h2 = Graph()\n",
    "        >>> h1.add_vertex(1)\n",
    "        >>> h2._vertices == set()\n",
    "        True\n",
    "        \"\"\"\n",
    "\n",
    "        self._vertices = set()\n",
    "        self._edges = list()\n",
    "\n",
    "        for v in Vertices:\n",
    "            self.add_vertex(v)\n",
    "        for e in Edges:\n",
    "            self.add_edge(e)\n",
    "\n",
    "    def add_vertex(self, v):\n",
    "        \"\"\"\n",
    "        Add a vertex v to the graph.\n",
    "        If v exists in the graph, do nothing.\n",
    "\n",
    "        Efficiency: O(1)\n",
    "\n",
    "        >>> g = Graph()\n",
    "        >>> len(g._vertices)\n",
    "        0\n",
    "        >>> g.add_vertex(1)\n",
    "        >>> g.add_vertex(\"vertex\")\n",
    "        >>> \"vertex\" in g._vertices\n",
    "        True\n",
    "        >>> 2 in g._vertices\n",
    "        False\n",
    "        \"\"\"\n",
    "\n",
    "        self._vertices.add(v)\n",
    "\n",
    "    def add_edge(self, e):\n",
    "        \"\"\"\n",
    "        Add edge e to the graph.\n",
    "        Raise an exception if the endpoints of\n",
    "        e are not in the graph.\n",
    "\n",
    "        Efficiency: O(1)\n",
    "\n",
    "        >>> g = Graph()\n",
    "        >>> g.add_vertex(1)\n",
    "        >>> g.add_vertex(2)\n",
    "        >>> g.add_edge((1,2))\n",
    "        >>> (1,2) in g._edges\n",
    "        True\n",
    "        >>> (2,1) in g._edges\n",
    "        False\n",
    "        >>> g.add_edge((1,2))\n",
    "        >>> g._edges\n",
    "        [(1, 2), (1, 2)]\n",
    "        \"\"\"\n",
    "\n",
    "        if not self.is_vertex(e[0]) or not self.is_vertex(e[1]):\n",
    "            raise ValueError(\"An endpoint is not in graph\")\n",
    "        self._edges.append(e)\n",
    "\n",
    "    def is_vertex(self, v):\n",
    "        \"\"\"\n",
    "        Check if vertex v is in the graph.\n",
    "        Return True if it is, False if it is not.\n",
    "        \n",
    "        Efficiency: O(1) - Sweeping some discussion\n",
    "        about hashing under the rug.\n",
    "\n",
    "        >>> g = Graph({1,2})\n",
    "        >>> g.is_vertex(1)\n",
    "        True\n",
    "        >>> g.is_vertex(3)\n",
    "        False\n",
    "        >>> g.add_vertex(3)\n",
    "        >>> g.is_vertex(3)\n",
    "        True\n",
    "        \"\"\"\n",
    "        return v in self._vertices\n",
    "\n",
    "    def is_edge(self, e):\n",
    "        \"\"\"\n",
    "        Check if edge e is in the graph.\n",
    "        Return True if it is, False if it is not.\n",
    "\n",
    "        Efficiency: O(# edges)\n",
    "\n",
    "        >>> g = Graph({1,2}, [(1,2)])\n",
    "        >>> g.is_edge((1,2))\n",
    "        True\n",
    "        >>> g.is_edge((2,1))\n",
    "        False\n",
    "        >>> g.add_edge((1,2))\n",
    "        >>> g.is_edge((1,2))\n",
    "        True\n",
    "        \"\"\"\n",
    "        return e in self._edges\n",
    "\n",
    "    def neighbours(self, v):\n",
    "        \"\"\"\n",
    "        Return a list of neighbours of v.\n",
    "        A vertex u appears in this list as many\n",
    "        times as the (v,u) edge is in the graph.\n",
    "\n",
    "        If v is not in the graph, then\n",
    "        raise a ValueError exception.\n",
    "\n",
    "        Efficiency: O(# edges)\n",
    "\n",
    "        >>> Edges = [(1,2),(1,4),(3,1),(3,4),(2,4),(1,2)]\n",
    "        >>> g = Graph({1,2,3,4}, Edges)\n",
    "        >>> g.neighbours(1)\n",
    "        [2, 4, 2]\n",
    "        >>> g.neighbours(4)\n",
    "        []\n",
    "        >>> g.neighbours(3)\n",
    "        [1, 4]\n",
    "        >>> g.neighbours(2)\n",
    "        [4]\n",
    "        \"\"\"\n",
    "\n",
    "        if not self.is_vertex(v):\n",
    "            raise ValueError(\"Vertex not in graph\")\n",
    "        \n",
    "        return [e[1] for e in self._edges if e[0] == v]"
   ]
  },
  {
   "cell_type": "code",
   "execution_count": 39,
   "metadata": {},
   "outputs": [
    {
     "data": {
      "text/plain": [
       "TestResults(failed=0, attempted=37)"
      ]
     },
     "execution_count": 39,
     "metadata": {},
     "output_type": "execute_result"
    }
   ],
   "source": [
    "import doctest\n",
    "doctest.testmod()"
   ]
  },
  {
   "cell_type": "code",
   "execution_count": 40,
   "metadata": {},
   "outputs": [
    {
     "data": {
      "text/plain": [
       "[2, 3]"
      ]
     },
     "execution_count": 40,
     "metadata": {},
     "output_type": "execute_result"
    }
   ],
   "source": [
    "edges = [(1,2), (1,3), (2,5), (3,4), (4,2), (5,4)]\n",
    "vertices = {1, 2, 3, 4, 5}\n",
    "\n",
    "gr = Graph(vertices, edges)\n",
    "\n",
    "gr.neighbours(1)"
   ]
  },
  {
   "cell_type": "code",
   "execution_count": 145,
   "metadata": {},
   "outputs": [
    {
     "name": "stdout",
     "output_type": "stream",
     "text": [
      "True\n",
      "False\n"
     ]
    }
   ],
   "source": [
    "print(gr.is_edge((1,2)))\n",
    "print(gr.is_edge((2,1)))"
   ]
  },
  {
   "cell_type": "code",
   "execution_count": 146,
   "metadata": {},
   "outputs": [
    {
     "ename": "ValueError",
     "evalue": "An endpoint is not in graph",
     "output_type": "error",
     "traceback": [
      "\u001b[0;31m---------------------------------------------------------------------------\u001b[0m",
      "\u001b[0;31mValueError\u001b[0m                                Traceback (most recent call last)",
      "\u001b[0;32m<ipython-input-146-ff1a3c82c6d7>\u001b[0m in \u001b[0;36m<module>\u001b[0;34m()\u001b[0m\n\u001b[0;32m----> 1\u001b[0;31m \u001b[0mgr\u001b[0m\u001b[0;34m.\u001b[0m\u001b[0madd_edge\u001b[0m\u001b[0;34m(\u001b[0m\u001b[0;34m(\u001b[0m\u001b[0;36m1\u001b[0m\u001b[0;34m,\u001b[0m \u001b[0;36m6\u001b[0m\u001b[0;34m)\u001b[0m\u001b[0;34m)\u001b[0m\u001b[0;34m\u001b[0m\u001b[0m\n\u001b[0m",
      "\u001b[0;32m<ipython-input-125-2209157edfa4>\u001b[0m in \u001b[0;36madd_edge\u001b[0;34m(self, e)\u001b[0m\n\u001b[1;32m     79\u001b[0m \u001b[0;34m\u001b[0m\u001b[0m\n\u001b[1;32m     80\u001b[0m         \u001b[0;32mif\u001b[0m \u001b[0;32mnot\u001b[0m \u001b[0mself\u001b[0m\u001b[0;34m.\u001b[0m\u001b[0mis_vertex\u001b[0m\u001b[0;34m(\u001b[0m\u001b[0me\u001b[0m\u001b[0;34m[\u001b[0m\u001b[0;36m0\u001b[0m\u001b[0;34m]\u001b[0m\u001b[0;34m)\u001b[0m \u001b[0;32mor\u001b[0m \u001b[0;32mnot\u001b[0m \u001b[0mself\u001b[0m\u001b[0;34m.\u001b[0m\u001b[0mis_vertex\u001b[0m\u001b[0;34m(\u001b[0m\u001b[0me\u001b[0m\u001b[0;34m[\u001b[0m\u001b[0;36m1\u001b[0m\u001b[0;34m]\u001b[0m\u001b[0;34m)\u001b[0m\u001b[0;34m:\u001b[0m\u001b[0;34m\u001b[0m\u001b[0m\n\u001b[0;32m---> 81\u001b[0;31m             \u001b[0;32mraise\u001b[0m \u001b[0mValueError\u001b[0m\u001b[0;34m(\u001b[0m\u001b[0;34m\"An endpoint is not in graph\"\u001b[0m\u001b[0;34m)\u001b[0m\u001b[0;34m\u001b[0m\u001b[0m\n\u001b[0m\u001b[1;32m     82\u001b[0m         \u001b[0mself\u001b[0m\u001b[0;34m.\u001b[0m\u001b[0m_edges\u001b[0m\u001b[0;34m.\u001b[0m\u001b[0mappend\u001b[0m\u001b[0;34m(\u001b[0m\u001b[0me\u001b[0m\u001b[0;34m)\u001b[0m\u001b[0;34m\u001b[0m\u001b[0m\n\u001b[1;32m     83\u001b[0m \u001b[0;34m\u001b[0m\u001b[0m\n",
      "\u001b[0;31mValueError\u001b[0m: An endpoint is not in graph"
     ]
    }
   ],
   "source": [
    "gr.add_edge((1,6))"
   ]
  },
  {
   "cell_type": "code",
   "execution_count": 147,
   "metadata": {
    "collapsed": true
   },
   "outputs": [],
   "source": [
    "gr.add_vertex(6)\n",
    "gr.add_edge((1,6))"
   ]
  },
  {
   "cell_type": "code",
   "execution_count": 148,
   "metadata": {},
   "outputs": [
    {
     "data": {
      "text/plain": [
       "[2, 3, 6]"
      ]
     },
     "execution_count": 148,
     "metadata": {},
     "output_type": "execute_result"
    }
   ],
   "source": [
    "gr.neighbours(1)"
   ]
  },
  {
   "cell_type": "code",
   "execution_count": 149,
   "metadata": {
    "collapsed": true
   },
   "outputs": [],
   "source": [
    "def is_walk(g, walk):\n",
    "    \"\"\"\n",
    "    Given a graph 'g' and a list 'walk', return true\n",
    "    if 'walk' is a walk in g.\n",
    "\n",
    "    Recall a walk in a graph is a nonempty\n",
    "    sequence of vertices\n",
    "    in the graph so that consecutive vertices in the\n",
    "    sequence are connected by a directed edge\n",
    "    (in the correct direction)\n",
    "\n",
    "    Efficiency: O((# edges) * (walk length))\n",
    "\n",
    "    >>> Edges = [(1,2),(1,3),(2,5),(3,4),(4,2),(5,4)]\n",
    "    >>> g = Graph({1,2,3,4,5}, Edges)\n",
    "    >>> is_walk(g, [3,4,2,5,4,2])\n",
    "    True\n",
    "    >>> is_walk(g, [5,4,2,1,3])\n",
    "    False\n",
    "    >>> is_walk(g, [2])\n",
    "    True\n",
    "    >>> is_walk(g, [])\n",
    "    False\n",
    "    >>> is_walk(g, [1,6])\n",
    "    False\n",
    "    >>> is_walk(g, [6])\n",
    "    False\n",
    "    \"\"\"\n",
    "    \n",
    "    if not walk:\n",
    "        return False\n",
    "\n",
    "    if len(walk) == 1:\n",
    "        return g.is_vertex(walk[0])\n",
    "\n",
    "    # num iterations = O(len(walk))\n",
    "    for i in range(len(walk)-1):\n",
    "        # body of loop takes O(# edges) time\n",
    "        if not g.is_edge((walk[i], walk[i+1])):\n",
    "            return False\n",
    "\n",
    "    return True"
   ]
  },
  {
   "cell_type": "code",
   "execution_count": 152,
   "metadata": {},
   "outputs": [
    {
     "name": "stdout",
     "output_type": "stream",
     "text": [
      "True\n",
      "False\n"
     ]
    }
   ],
   "source": [
    "# edges = [(1,2), (1,3), (2,5), (3,4), (4,2), (5,4), (1,6)]\n",
    "print(is_walk(gr, [3, 4, 2, 5, 4, 2]))\n",
    "print(is_walk(gr, [3, 4, 2, 5, 4, 2, 1, 6]))"
   ]
  },
  {
   "cell_type": "code",
   "execution_count": 153,
   "metadata": {
    "collapsed": true
   },
   "outputs": [],
   "source": [
    "def is_path(g, path):\n",
    "    \"\"\"\n",
    "    Given a graph 'g' and a list 'path', \n",
    "    return true if 'path' is a path in g.\n",
    "\n",
    "    Recall a path is a walk that does not \n",
    "    visit a vertex more than once.\n",
    "\n",
    "    Efficiency: O((# edges) * (path length))\n",
    "\n",
    "    >>> Edges = [(1,2),(1,3),(2,5),(3,4),(4,2),(5,4)]\n",
    "    >>> g = Graph({1,2,3,4,5}, Edges)\n",
    "    >>> is_path(g, [3,4,2,5,4,2])\n",
    "    False\n",
    "    >>> is_path(g, [3,4,2,5])\n",
    "    True\n",
    "    \"\"\"\n",
    "\n",
    "    # O(len(path))\n",
    "    if len(set(path)) < len(path):\n",
    "        return False\n",
    "\n",
    "    # O((# edges) * len(path))\n",
    "    return is_walk(g, path)\n"
   ]
  },
  {
   "cell_type": "code",
   "execution_count": 156,
   "metadata": {},
   "outputs": [
    {
     "name": "stdout",
     "output_type": "stream",
     "text": [
      "False\n",
      "False\n",
      "True\n"
     ]
    }
   ],
   "source": [
    "print(is_path(gr, [3, 4, 2, 5, 4, 2, 1, 6]))\n",
    "print(is_path(gr, [3, 4, 2, 5, 4, 2]))\n",
    "print(is_path(gr, [3, 4, 2, 5]))"
   ]
  }
 ],
 "metadata": {
  "kernelspec": {
   "display_name": "Python 3",
   "language": "python",
   "name": "python3"
  },
  "language_info": {
   "codemirror_mode": {
    "name": "ipython",
    "version": 3
   },
   "file_extension": ".py",
   "mimetype": "text/x-python",
   "name": "python",
   "nbconvert_exporter": "python",
   "pygments_lexer": "ipython3",
   "version": "3.6.4"
  }
 },
 "nbformat": 4,
 "nbformat_minor": 2
}
