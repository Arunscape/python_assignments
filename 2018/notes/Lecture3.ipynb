{
 "cells": [
  {
   "cell_type": "markdown",
   "metadata": {},
   "source": [
    "# CMPUT275 Lecture 3\n",
    "\n",
    "## Recap\n",
    "- In Python, functions must be defined before they are first used. We use the following syntax to define a function which takes one or several parameters as input arguments and returns one or more parameters to the caller:<br><br>\n",
    "`def <function_name>(<parameter-list>):`"
   ]
  },
  {
   "cell_type": "code",
   "execution_count": 16,
   "metadata": {
    "collapsed": true
   },
   "outputs": [],
   "source": [
    "def compare_two_numbers(first_input, second_input):\n",
    "    if first_input != second_input:\n",
    "        return \"Different\"\n",
    "    else:\n",
    "        return \"Same\""
   ]
  },
  {
   "cell_type": "markdown",
   "metadata": {},
   "source": [
    "- To call a function you always write its name, followed by some arguments in parentheses:<br><br>\n",
    "`<output-var-list> = <function_name>(<parameter-list>)`"
   ]
  },
  {
   "cell_type": "code",
   "execution_count": 17,
   "metadata": {},
   "outputs": [
    {
     "name": "stdout",
     "output_type": "stream",
     "text": [
      "Different\n",
      "Different\n"
     ]
    }
   ],
   "source": [
    "ans = compare_two_numbers(2, 1)\n",
    "print(ans)\n",
    "\n",
    "# Pass parameters using keywords\n",
    "ans = compare_two_numbers(second_input=1, first_input=2)\n",
    "print(ans)"
   ]
  },
  {
   "cell_type": "markdown",
   "metadata": {},
   "source": [
    "- Functions can have optional parameters, also called default parameters. Default parameters are parameters, which don't have to be given, if the function is called. In this case, the default values are used."
   ]
  },
  {
   "cell_type": "code",
   "execution_count": 11,
   "metadata": {},
   "outputs": [
    {
     "name": "stdout",
     "output_type": "stream",
     "text": [
      "Hello Sarah\n",
      "Hello everybody\n"
     ]
    }
   ],
   "source": [
    "def say_hello(name=\"everybody\"):\n",
    "    print(\"Hello\", name)\n",
    "    \n",
    "\n",
    "say_hello(\"Sarah\")\n",
    "say_hello()"
   ]
  },
  {
   "cell_type": "markdown",
   "metadata": {},
   "source": [
    "- If a function does not have a return statement, \"None\" will be returned to the caller."
   ]
  },
  {
   "cell_type": "code",
   "execution_count": 19,
   "metadata": {},
   "outputs": [
    {
     "name": "stdout",
     "output_type": "stream",
     "text": [
      "Hello everybody\n",
      "None <class 'NoneType'>\n",
      "Hello everybody\n",
      "None <class 'NoneType'>\n",
      "Hello everybody\n",
      "True <class 'bool'>\n"
     ]
    }
   ],
   "source": [
    "def say_hello(name=\"everybody\"):\n",
    "    print(\"Hello\", name)\n",
    "\n",
    "\n",
    "output = say_hello()\n",
    "print(output, type(output))\n",
    "\n",
    "\n",
    "def say_hello(name=\"everybody\"):\n",
    "    print(\"Hello\", name)\n",
    "    return\n",
    "\n",
    "\n",
    "output = say_hello()\n",
    "print(output, type(output))\n",
    "\n",
    "\n",
    "def say_hello(name=\"everybody\"):\n",
    "    print(\"Hello\", name)\n",
    "    return True\n",
    "\n",
    "\n",
    "output = say_hello()\n",
    "print(output, type(output))"
   ]
  },
  {
   "cell_type": "markdown",
   "metadata": {},
   "source": [
    "- Arbitrary number of parameters"
   ]
  },
  {
   "cell_type": "code",
   "execution_count": 21,
   "metadata": {},
   "outputs": [
    {
     "name": "stdout",
     "output_type": "stream",
     "text": [
      "Calling with a single argument\n",
      "1\n",
      "Hello Sarah\n",
      "Calling with three arguments\n",
      "3\n",
      "Hello Sarah\n",
      "Hello James\n",
      "Hello Peter\n"
     ]
    }
   ],
   "source": [
    "def say_hello(*varargs):\n",
    "    print(len(varargs))\n",
    "    for name in varargs:\n",
    "        print(\"Hello\", name)\n",
    "        \n",
    "print(\"Calling with a single argument\")\n",
    "say_hello(\"Sarah\")\n",
    "print(\"Calling with three arguments\")\n",
    "say_hello(\"Sarah\", \"James\", \"Peter\")"
   ]
  },
  {
   "cell_type": "markdown",
   "metadata": {},
   "source": [
    "- You can ignore the output of a function by putting an underscore (`_`) instead of `<output-var-list>` in the above example."
   ]
  },
  {
   "cell_type": "code",
   "execution_count": 205,
   "metadata": {
    "collapsed": true
   },
   "outputs": [],
   "source": [
    "quotient, remainder  = divmod(5, 3)\n",
    "quotient, _  = divmod(5, 3)\n",
    "_, remainder  = divmod(5, 3)\n",
    "_, _ = divmod(5, 3)"
   ]
  },
  {
   "cell_type": "markdown",
   "metadata": {},
   "source": [
    "- __Namespace__\n",
    "  - A namespace is a mapping from variables to values which is maintained by the Python interpreter. There is a namespace called __\\_\\_builtins\\_\\___ that contains builtin functions like `print` and `abs`, and another namespace called __\\_\\_main\\_\\___ that contains global variables. Each function has its own local namespace. The local namespace for a function is created when the function is called, and deleted when the function returns or raises an exception that is not handled within the function.\n",
    "  \n",
    "\n",
    "- __Variable scope and lifetime__\n",
    "  - A scope is a textual region of a Python program where a namespace is directly accessible.\n",
    "  - A variable defined inside a function is local to that function. It is accessible from the point at which it is defined until the end of the function, and exists for as long as the function is executing.\n",
    "  - A variable defined in the main body of a file is called a global variable. It will be visible throughout the file, and also inside any file which imports that file."
   ]
  },
  {
   "cell_type": "markdown",
   "metadata": {},
   "source": [
    "- Selection and loop control statements"
   ]
  },
  {
   "cell_type": "code",
   "execution_count": 39,
   "metadata": {},
   "outputs": [
    {
     "name": "stdout",
     "output_type": "stream",
     "text": [
      "Write some text here:This is a test\n",
      "This\n",
      "is\n",
      "test\n"
     ]
    }
   ],
   "source": [
    "line = input(\"Write some text here:\")\n",
    "list_of_words = line.split()\n",
    "\n",
    "for word in list_of_words:\n",
    "    if len(word) > 1:\n",
    "        print(word)"
   ]
  },
  {
   "cell_type": "markdown",
   "metadata": {},
   "source": [
    "- A docstring is a string literal that occurs as the first statement in a module, function, class, or method definition."
   ]
  },
  {
   "cell_type": "code",
   "execution_count": 25,
   "metadata": {
    "collapsed": true
   },
   "outputs": [],
   "source": [
    "def is_even(x):\n",
    "    '''Checks whether the provided integer is even.\n",
    "\n",
    "    Args:\n",
    "        x (int): The input\n",
    "\n",
    "    Returns:\n",
    "        bool: True when x is a prime.\n",
    "\n",
    "    Examples:\n",
    "    >>> is_even(3)\n",
    "    False\n",
    "    >>> is_even(4)\n",
    "    True\n",
    "    '''\n",
    "    return x%2==0"
   ]
  },
  {
   "cell_type": "markdown",
   "metadata": {},
   "source": [
    "- Such a docstring becomes the \\_\\_doc\\_\\_ special attribute of that object."
   ]
  },
  {
   "cell_type": "code",
   "execution_count": 27,
   "metadata": {},
   "outputs": [
    {
     "name": "stdout",
     "output_type": "stream",
     "text": [
      "Checks whether the provided integer is even.\n",
      "\n",
      "    Args:\n",
      "        x (int): The input\n",
      "\n",
      "    Returns:\n",
      "        bool: True when x is a prime.\n",
      "\n",
      "    Examples:\n",
      "    >>> is_even(3)\n",
      "    False\n",
      "    >>> is_even(4)\n",
      "    True\n",
      "    \n"
     ]
    }
   ],
   "source": [
    "print(is_even.__doc__)"
   ]
  },
  {
   "cell_type": "markdown",
   "metadata": {},
   "source": [
    "## Testing through Documentation\n",
    "There are a few ways to run the tests added to the docstring. \n",
    "When you call the interpreter, you can use doctest as the main program via the -m option:\n",
    "\n",
    "`$ python3 -m doctest -v <program.py>`\n",
    "\n",
    "The doctest module searches for pieces of text that look like interactive Python sessions (lines beginning with `>>>`), and then executes those sessions to verify that they work exactly as shown.\n",
    "\n",
    "When in the interpreter, you can use:"
   ]
  },
  {
   "cell_type": "code",
   "execution_count": 26,
   "metadata": {},
   "outputs": [
    {
     "data": {
      "text/plain": [
       "TestResults(failed=0, attempted=2)"
      ]
     },
     "execution_count": 26,
     "metadata": {},
     "output_type": "execute_result"
    }
   ],
   "source": [
    "import doctest\n",
    "doctest.testmod()"
   ]
  },
  {
   "cell_type": "markdown",
   "metadata": {},
   "source": [
    "__Exercise__: Write a function that takes a dictionary as input and returns a list that contains its keys. Write at least two test cases for this function using docstrings."
   ]
  },
  {
   "cell_type": "code",
   "execution_count": null,
   "metadata": {
    "collapsed": true
   },
   "outputs": [],
   "source": [
    "\n",
    "\n",
    "\n",
    "\n",
    "\n",
    "\n",
    "\n",
    "\n"
   ]
  },
  {
   "cell_type": "code",
   "execution_count": 220,
   "metadata": {},
   "outputs": [
    {
     "data": {
      "text/plain": [
       "TestResults(failed=0, attempted=5)"
      ]
     },
     "execution_count": 220,
     "metadata": {},
     "output_type": "execute_result"
    }
   ],
   "source": [
    "doctest.testmod()"
   ]
  },
  {
   "cell_type": "markdown",
   "metadata": {},
   "source": [
    "## Lambda\n",
    "\n",
    "The lambda operator or lambda function is a way to create small anonymous functions, i.e. functions without a name. These functions are throw-away functions, i.e. they are just needed where they have been created. Lambda functions are mainly used in combination with the functions `filter( )` and `map( )`. The syntax of defining a lambda function is as follows:\n",
    "\n",
    "`lambda argument_list: expression`"
   ]
  },
  {
   "cell_type": "code",
   "execution_count": 89,
   "metadata": {},
   "outputs": [
    {
     "name": "stdout",
     "output_type": "stream",
     "text": [
      "4\n",
      "4\n",
      "5\n",
      "5\n"
     ]
    }
   ],
   "source": [
    "def func1(x): \n",
    "    return x**2\n",
    " \n",
    "\n",
    "print(func1(2))\n",
    "\n",
    "\n",
    "# The same function defined using the lambda operator\n",
    "y = lambda x: x**2\n",
    "print(y(2))\n",
    "\n",
    "\n",
    "def func2(x, y): \n",
    "    return x + y\n",
    " \n",
    "\n",
    "print(func2(2, 3))\n",
    "\n",
    "\n",
    "# The same function defined using the lambda operator\n",
    "z = lambda x, y: x + y\n",
    "print(z(2, 3))"
   ]
  },
  {
   "cell_type": "markdown",
   "metadata": {},
   "source": [
    "### Using Lambda Function for Mapping\n",
    "`map( )` is a function with two arguments:<br>\n",
    "`returned_seq = map(func, seq)`<br>\n",
    "The first argument `func` is the name of a function and the second a sequence (e.g. a list) `seq`. `map( )` applies the function func to all the elements of the sequence `seq`. It returns a new list with the elements changed by `func`."
   ]
  },
  {
   "cell_type": "code",
   "execution_count": 107,
   "metadata": {},
   "outputs": [
    {
     "name": "stdout",
     "output_type": "stream",
     "text": [
      "[0, 1, 4, 9]\n"
     ]
    }
   ],
   "source": [
    "mylist = [0, 1, 2, 3]\n",
    "print(list(map(lambda x: x**2, mylist)))    # print(list(map(func1, mylist)))"
   ]
  },
  {
   "cell_type": "code",
   "execution_count": 108,
   "metadata": {},
   "outputs": [
    {
     "name": "stdout",
     "output_type": "stream",
     "text": [
      "[4, 6, 8, 10]\n"
     ]
    }
   ],
   "source": [
    "mynewlist = [4, 5, 6, 7]\n",
    "print(list(map(lambda x, y: x + y, mylist, mynewlist)))    # print(list(map(func2, mylist, mynewlist)))"
   ]
  },
  {
   "cell_type": "markdown",
   "metadata": {},
   "source": [
    "### Using Lambda Function for Filtering\n",
    "`filter( )` is a function with two arguments:<br>\n",
    "`returned_seq = filter(func, seq)`<br>\n",
    "The function, `func`, is called with all the elements of the sequence `seq` and returns a new list which contains the elements for which `func` evaluats to `True`."
   ]
  },
  {
   "cell_type": "code",
   "execution_count": 110,
   "metadata": {},
   "outputs": [
    {
     "name": "stdout",
     "output_type": "stream",
     "text": [
      "[0, 1, 2, 3]\n",
      "[0, 2]\n"
     ]
    }
   ],
   "source": [
    "print(mylist)\n",
    "print(list(filter(lambda x: x % 2 == 0, mylist)))"
   ]
  },
  {
   "cell_type": "markdown",
   "metadata": {},
   "source": [
    "__Exercise__: Use lambda and map functions to print the length of every word from a sentence. Read the sentence from the standard input."
   ]
  },
  {
   "cell_type": "code",
   "execution_count": 14,
   "metadata": {},
   "outputs": [
    {
     "name": "stdout",
     "output_type": "stream",
     "text": [
      "Type a sentence: \n",
      "[]\n",
      "this sentence is false\n",
      "[4, 8, 2, 5]\n"
     ]
    }
   ],
   "source": [
    "print(list(map(lambda x: len(x),input('Type a sentence: ').split())))\n",
    "\n",
    "\n",
    "#equivalent\n",
    "print([len(w) for w in input().split()])\n",
    "\n"
   ]
  },
  {
   "cell_type": "markdown",
   "metadata": {},
   "source": [
    "## Modules\n",
    "\n",
    "You may also want to use a handy function that you’ve written in several programs without copying its definition into each program. To do this, you can put its definitionin a file and use it in a script or in an interactive instance of the interpreter. Such a file is called a module; definitions from a module can be __imported__ into other modules or into the _main_ module ( __\\_\\_main\\_\\___ is the name of the scope in which top-level code executes).\n",
    "\n",
    "A module is a file containing executable statements as well as function definitions. The file name is the module name with the suffix `.py` appended. Within a module, the module’s name (as a string) is available as the value of the global variable __\\_\\_name\\_\\___.\n",
    "\n",
    "Modules can import other modules. It is customary but not required to place all import statements at the beginning of a module (or script, for that matter). The imported module names are placed in the importing module’s global symbol table."
   ]
  },
  {
   "cell_type": "markdown",
   "metadata": {},
   "source": [
    "Create a new Python program:<br><br>\n",
    "`$ atom -n fibo.py`\n",
    "\n",
    "Now copy the content of the following cell, paste it into `fibo.py`, and save the file."
   ]
  },
  {
   "cell_type": "code",
   "execution_count": 61,
   "metadata": {},
   "outputs": [
    {
     "name": "stdout",
     "output_type": "stream",
     "text": [
      "run as script\n"
     ]
    }
   ],
   "source": [
    "# A module can discover whether or not it is running in the main scope\n",
    "# A module’s __name__ is set equal to __main__ when read from standard input, a script, or from an interactive prompt   \n",
    "if __name__ == \"__main__\":\n",
    "    print(\"run as script\")\n",
    "    \n",
    "    # Import sys module\n",
    "    import sys\n",
    "    \n",
    "    # sys.argv[1] returns the first argument passed to this module when it is run as script\n",
    "    # sys.argv[0] is the name of the script, in this case: fibo.py\n",
    "    if len(sys.argv) == 2:\n",
    "        print_fib(fib(int(sys.argv[1])))\n",
    "        \n",
    "else:\n",
    "    print(\"imported from another module\")\n",
    "    \n",
    "\n",
    "def fib(n):\n",
    "    '''Return Fibonacci series up to n\n",
    "\n",
    "    Args:\n",
    "        n (int): The input\n",
    "\n",
    "    Returns:\n",
    "        list: The list containing Fibonacci series\n",
    "\n",
    "    Examples:\n",
    "    >>> fib(100)\n",
    "    [1, 1, 2, 3, 5, 8, 13, 21, 34, 55, 89]\n",
    "    '''\n",
    "    # result is an empty list\n",
    "    result = []\n",
    "    \n",
    "    # You can initialize (i.e., assign initial values) several variables at the same time using the assignment operator\n",
    "    a, b = 0, 1\n",
    "    while b < n:\n",
    "        # Append a new item to the list\n",
    "        result.append(b)\n",
    "        \n",
    "        # Syntax for swapping two variables in Python; It is the same as writing\n",
    "        # temp = a; a = b; b = temp\n",
    "        a, b = b, a+b\n",
    "    return result\n",
    "\n",
    "\n",
    "def print_fib(fib_list):\n",
    "    '''Print Fibonacci series\n",
    "\n",
    "    Args:\n",
    "        fib_list (list): The list containing Fibonacci series\n",
    "\n",
    "    Returns:\n",
    "        None\n",
    "    '''\n",
    "    \n",
    "    for num in fib_list:\n",
    "        # Print each number in fib_list\n",
    "        print(num)\n",
    "        \n",
    "def print_module_name():\n",
    "    '''Print Fibonacci series'''\n",
    "    print(__name__)\n",
    "    \n",
    "\n",
    "def _some_module():\n",
    "    print(\"This module is not imported to another module\")"
   ]
  },
  {
   "cell_type": "markdown",
   "metadata": {},
   "source": [
    "Run Python's interpreter:\n",
    "\n",
    "`$ python3`\n",
    "\n",
    "Run the following Python statements from the interpreter:\n",
    "\n",
    "`>>> import fibo`\n",
    "\n",
    "It will print \"imported from another module\". Now run the following statements:\n",
    "\n",
    "`>>> fibo.print_fib(fibo.fib(10))` <br>\n",
    "`>>> fibo.print_module_name()`\n",
    "\n",
    "`>>> del fibo`\n",
    "\n",
    "There is a variant of the import statement that imports names from a module directly into the importing module’s symbol table (this is useful when you use these names often). Run the following Python statements from the interpreter:\n",
    "\n",
    "`>>> from fibo import fib, print_fib` <br>\n",
    "`>>> print_fib(fib(10))`\n",
    "\n",
    "You can also import all names that a module defines except those beginning with an underscore (`_`):\n",
    "\n",
    "`>>> from fibo import *` <br>\n",
    "`>>> print_fib(fib(10))` <br>\n",
    "`>>> print_module_name()`\n",
    "\n",
    "You will get an error that this name is not defined if you run this:\n",
    "\n",
    "`>>> _some_module()`\n",
    "\n",
    "Exit the Python interpreter by typing:\n",
    "\n",
    "`>>> exit()`"
   ]
  },
  {
   "cell_type": "markdown",
   "metadata": {},
   "source": [
    "You can run your Python module as script:\n",
    "\n",
    "`$ python3 fibo.py 20`\n",
    "\n",
    "In this case, it will print \"run as script\" and then Fibonacci numbers up to 20"
   ]
  },
  {
   "cell_type": "markdown",
   "metadata": {},
   "source": [
    "## Packages\n",
    "\n",
    "- A package is a collection of modules. Defining a package is a way of structuring Python’s module namespace by using “dotted module names”.\n",
    "\n",
    "- When importing the package, Python searches through the directories on `sys.path` looking for the package subdirectory. The __\\_\\_init\\_\\_.py__ files are required to make Python treat the directories as containing packages.\n",
    "\n",
    "`fibo/                                         Top-level package\n",
    "      __init__.py                             Initialize the package\n",
    "      foo.py                  \n",
    "      bar.py\n",
    "      fibo_subpackage/                        Subpackage\n",
    "                      __init__.py             Initialize the subpackage\n",
    "                      Foo.py\n",
    "                      Bar.py`\n",
    "                      \n",
    "You can import individual modules from a package:<br>\n",
    "`import fibo.fibo_subpackage` <br>\n",
    "`fibo.fibo_subpackage.Foo.myfunc(params)`\n",
    "\n",
    "Alternatively, you can use this syntax which loads the submodule Foo, and makes it available without its package prefix, so it can be used as follows:<br>\n",
    "`from fibo.fibo_subpackage import Foo` <br>\n",
    "`Foo.myfunc(params)`\n",
    "\n",
    "__Note__: there is absolutely no relation between names in different namespaces; for instance, two different modules may both define a function called `maximize` without confusion — users of the modules must prefix it with the module name."
   ]
  },
  {
   "cell_type": "markdown",
   "metadata": {},
   "source": [
    "### Importing Python Standard Modules\n",
    "\n",
    "Python comes with a library of standard modules"
   ]
  },
  {
   "cell_type": "code",
   "execution_count": 67,
   "metadata": {
    "collapsed": true
   },
   "outputs": [],
   "source": [
    "import sys\n",
    "import math\n",
    "import os\n",
    "import os.path            # Syntax for importing sub-modules\n",
    "from os import path       # Syntax for importing sub-modules (makes it available without its package prefix)\n",
    "import numpy as np        # The name following `as` is used as the local name for the module"
   ]
  },
  {
   "cell_type": "markdown",
   "metadata": {},
   "source": [
    "A numpy array is a grid of values, all of the same type, and is indexed by a tuple of nonnegative integers. The number of dimensions is the rank of the array; the shape of an array is a tuple of integers giving the size of the array along each dimension."
   ]
  },
  {
   "cell_type": "code",
   "execution_count": 153,
   "metadata": {},
   "outputs": [
    {
     "name": "stdout",
     "output_type": "stream",
     "text": [
      "[1 2 3] (3,) <class 'numpy.ndarray'>\n",
      "[[1, 2, 3], [4, 5, 6]] <class 'list'>\n",
      "[[1 2 3]\n",
      " [4 5 6]] (2, 3) <class 'numpy.ndarray'>\n",
      "[ 0.  0.  0.] (3,) <class 'numpy.ndarray'>\n"
     ]
    }
   ],
   "source": [
    "my_array = np.array([1, 2, 3])                               # Create a rank 1 array\n",
    "print(my_array, my_array.shape, type(my_array))            # Prints \"<class 'numpy.ndarray'>\"\n",
    "\n",
    "my_2D_list = [[1, 2, 3], [4, 5, 6]]\n",
    "print(my_2D_list, type(my_2D_list))\n",
    "\n",
    "my_array = np.array([[1, 2, 3], [4, 5, 6]])                    # Create a rank 1 array\n",
    "print(my_array, my_array.shape, type(my_array))            # Prints \"<class 'numpy.ndarray'>\"\n",
    "\n",
    "my_array = np.zeros(3)\n",
    "print(my_array, my_array.shape, type(my_array))"
   ]
  },
  {
   "cell_type": "markdown",
   "metadata": {
    "collapsed": true
   },
   "source": [
    "We can list all modules that are available in Numpy"
   ]
  },
  {
   "cell_type": "code",
   "execution_count": 82,
   "metadata": {
    "scrolled": false
   },
   "outputs": [
    {
     "name": "stdout",
     "output_type": "stream",
     "text": [
      "Found submodule __config__ (is a package: False)\n",
      "Found submodule _distributor_init (is a package: False)\n",
      "Found submodule _globals (is a package: False)\n",
      "Found submodule _import_tools (is a package: False)\n",
      "Found submodule add_newdocs (is a package: False)\n",
      "Found submodule compat (is a package: True)\n",
      "Found submodule core (is a package: True)\n",
      "Found submodule ctypeslib (is a package: False)\n",
      "Found submodule distutils (is a package: True)\n",
      "Found submodule doc (is a package: True)\n",
      "Found submodule dual (is a package: False)\n",
      "Found submodule f2py (is a package: True)\n",
      "Found submodule fft (is a package: True)\n",
      "Found submodule lib (is a package: True)\n",
      "Found submodule linalg (is a package: True)\n",
      "Found submodule ma (is a package: True)\n",
      "Found submodule matlib (is a package: False)\n",
      "Found submodule matrixlib (is a package: True)\n",
      "Found submodule polynomial (is a package: True)\n",
      "Found submodule random (is a package: True)\n",
      "Found submodule setup (is a package: False)\n",
      "Found submodule testing (is a package: True)\n",
      "Found submodule version (is a package: False)\n"
     ]
    }
   ],
   "source": [
    "import pkgutil\n",
    "for importer, modname, ispkg in pkgutil.iter_modules(np.__path__):\n",
    "    print(\"Found submodule %s (is a package: %s)\" % (modname, ispkg))"
   ]
  },
  {
   "cell_type": "code",
   "execution_count": null,
   "metadata": {
    "collapsed": true
   },
   "outputs": [],
   "source": [
    "from scipy import *\n",
    "from scipy import optimize, stats\n",
    "from __future__ import print_function"
   ]
  },
  {
   "cell_type": "markdown",
   "metadata": {
    "collapsed": true
   },
   "source": [
    "## Exceptions"
   ]
  },
  {
   "cell_type": "markdown",
   "metadata": {
    "collapsed": true
   },
   "source": [
    "An exception is an event, which occurs during the execution of a program that disrupts the normal flow of the program's instructions. Python exceptions are similar to C++ exceptions. In general, when a Python script encounters a situation that it cannot cope with, it raises an exception. An exception is a Python object that represents an error.\n",
    "\n",
    "### Dealing with Exceptions\n",
    "This includes raising (when an error arises) and catching (or handling) exceptions.\n",
    "\n",
    "The raise statement, taking the form<br>\n",
    "`raise <arg>`<br>\n",
    "The sole argument to raise indicates the exception to be raised. This must be either an exception instance or an exception class (a class that derives from Exception). If an exception class is passed, it will be implicitly instantiated by calling its constructor with no arguments:"
   ]
  },
  {
   "cell_type": "code",
   "execution_count": 137,
   "metadata": {},
   "outputs": [
    {
     "ename": "ValueError",
     "evalue": "",
     "output_type": "error",
     "traceback": [
      "\u001b[0;31m---------------------------------------------------------------------------\u001b[0m",
      "\u001b[0;31mValueError\u001b[0m                                Traceback (most recent call last)",
      "\u001b[0;32m<ipython-input-137-07347f316b18>\u001b[0m in \u001b[0;36m<module>\u001b[0;34m()\u001b[0m\n\u001b[0;32m----> 1\u001b[0;31m \u001b[0;32mraise\u001b[0m \u001b[0mValueError\u001b[0m           \u001b[0;31m# shorthand for 'raise ValueError()'\u001b[0m\u001b[0;34m\u001b[0m\u001b[0m\n\u001b[0m\u001b[1;32m      2\u001b[0m \u001b[0;32mraise\u001b[0m \u001b[0mValueError\u001b[0m\u001b[0;34m(\u001b[0m\u001b[0;34m\"My Error Message\"\u001b[0m\u001b[0;34m)\u001b[0m\u001b[0;34m\u001b[0m\u001b[0m\n",
      "\u001b[0;31mValueError\u001b[0m: "
     ]
    }
   ],
   "source": [
    "raise ValueError           # shorthand for 'raise ValueError()'\n",
    "raise ValueError(\"My Error Message\")"
   ]
  },
  {
   "cell_type": "markdown",
   "metadata": {},
   "source": [
    "The built-in exception types are shown [here](https://docs.python.org/3/library/exceptions.html#bltin-exceptions), but you can also derive your own exception types and use them. However, the raise statement will only allow you to use objects of type derived from `BaseException`."
   ]
  },
  {
   "cell_type": "code",
   "execution_count": 127,
   "metadata": {},
   "outputs": [
    {
     "ename": "TypeError",
     "evalue": "unsupported operand type(s) for +: 'int' and 'str'",
     "output_type": "error",
     "traceback": [
      "\u001b[0;31m---------------------------------------------------------------------------\u001b[0m",
      "\u001b[0;31mTypeError\u001b[0m                                 Traceback (most recent call last)",
      "\u001b[0;32m<ipython-input-127-648c506ab23f>\u001b[0m in \u001b[0;36m<module>\u001b[0;34m()\u001b[0m\n\u001b[1;32m      1\u001b[0m \u001b[0;31m# TypeError\u001b[0m\u001b[0;34m\u001b[0m\u001b[0;34m\u001b[0m\u001b[0m\n\u001b[0;32m----> 2\u001b[0;31m \u001b[0ma\u001b[0m \u001b[0;34m=\u001b[0m \u001b[0;36m10\u001b[0m \u001b[0;34m+\u001b[0m \u001b[0;34m\"this\"\u001b[0m\u001b[0;34m\u001b[0m\u001b[0m\n\u001b[0m",
      "\u001b[0;31mTypeError\u001b[0m: unsupported operand type(s) for +: 'int' and 'str'"
     ]
    }
   ],
   "source": [
    "# TypeError\n",
    "a = 10 + \"this\""
   ]
  },
  {
   "cell_type": "code",
   "execution_count": 128,
   "metadata": {},
   "outputs": [
    {
     "ename": "NameError",
     "evalue": "name 'some_undefined_variable' is not defined",
     "output_type": "error",
     "traceback": [
      "\u001b[0;31m---------------------------------------------------------------------------\u001b[0m",
      "\u001b[0;31mNameError\u001b[0m                                 Traceback (most recent call last)",
      "\u001b[0;32m<ipython-input-128-392a7d73306d>\u001b[0m in \u001b[0;36m<module>\u001b[0;34m()\u001b[0m\n\u001b[1;32m      1\u001b[0m \u001b[0;31m# NameError\u001b[0m\u001b[0;34m\u001b[0m\u001b[0;34m\u001b[0m\u001b[0m\n\u001b[0;32m----> 2\u001b[0;31m \u001b[0mprint\u001b[0m\u001b[0;34m(\u001b[0m\u001b[0msome_undefined_variable\u001b[0m\u001b[0;34m)\u001b[0m\u001b[0;34m\u001b[0m\u001b[0m\n\u001b[0m",
      "\u001b[0;31mNameError\u001b[0m: name 'some_undefined_variable' is not defined"
     ]
    }
   ],
   "source": [
    "# NameError\n",
    "print(some_undefined_variable)"
   ]
  },
  {
   "cell_type": "code",
   "execution_count": 129,
   "metadata": {},
   "outputs": [
    {
     "ename": "ZeroDivisionError",
     "evalue": "division by zero",
     "output_type": "error",
     "traceback": [
      "\u001b[0;31m---------------------------------------------------------------------------\u001b[0m",
      "\u001b[0;31mZeroDivisionError\u001b[0m                         Traceback (most recent call last)",
      "\u001b[0;32m<ipython-input-129-ce4923757442>\u001b[0m in \u001b[0;36m<module>\u001b[0;34m()\u001b[0m\n\u001b[1;32m      1\u001b[0m \u001b[0;31m# ZeroDivisionError\u001b[0m\u001b[0;34m\u001b[0m\u001b[0;34m\u001b[0m\u001b[0m\n\u001b[1;32m      2\u001b[0m \u001b[0mb\u001b[0m \u001b[0;34m=\u001b[0m \u001b[0;36m0\u001b[0m\u001b[0;34m\u001b[0m\u001b[0m\n\u001b[0;32m----> 3\u001b[0;31m \u001b[0ma\u001b[0m \u001b[0;34m=\u001b[0m \u001b[0;36m10\u001b[0m \u001b[0;34m/\u001b[0m \u001b[0mb\u001b[0m\u001b[0;34m\u001b[0m\u001b[0m\n\u001b[0m",
      "\u001b[0;31mZeroDivisionError\u001b[0m: division by zero"
     ]
    }
   ],
   "source": [
    "# ZeroDivisionError\n",
    "b = 0\n",
    "a = 10 / b"
   ]
  },
  {
   "cell_type": "code",
   "execution_count": 130,
   "metadata": {},
   "outputs": [
    {
     "ename": "IndexError",
     "evalue": "list index out of range",
     "output_type": "error",
     "traceback": [
      "\u001b[0;31m---------------------------------------------------------------------------\u001b[0m",
      "\u001b[0;31mIndexError\u001b[0m                                Traceback (most recent call last)",
      "\u001b[0;32m<ipython-input-130-d4db1ef9c639>\u001b[0m in \u001b[0;36m<module>\u001b[0;34m()\u001b[0m\n\u001b[1;32m      1\u001b[0m \u001b[0;31m# IndexError\u001b[0m\u001b[0;34m\u001b[0m\u001b[0;34m\u001b[0m\u001b[0m\n\u001b[1;32m      2\u001b[0m \u001b[0mmylist\u001b[0m \u001b[0;34m=\u001b[0m \u001b[0;34m[\u001b[0m\u001b[0;36m1\u001b[0m\u001b[0;34m,\u001b[0m \u001b[0;36m2\u001b[0m\u001b[0;34m,\u001b[0m \u001b[0;36m3\u001b[0m\u001b[0;34m]\u001b[0m\u001b[0;34m\u001b[0m\u001b[0m\n\u001b[0;32m----> 3\u001b[0;31m \u001b[0mmylist\u001b[0m\u001b[0;34m[\u001b[0m\u001b[0;36m3\u001b[0m\u001b[0;34m]\u001b[0m\u001b[0;34m\u001b[0m\u001b[0m\n\u001b[0m",
      "\u001b[0;31mIndexError\u001b[0m: list index out of range"
     ]
    }
   ],
   "source": [
    "# IndexError \n",
    "mylist = [1, 2, 3]\n",
    "mylist[3]"
   ]
  },
  {
   "cell_type": "markdown",
   "metadata": {},
   "source": [
    "To handle an exception use a try/except compound statement, whose simplest form is:\n",
    "\n",
    "`try:\n",
    "  <suite1>\n",
    "except:\n",
    "  <suite2>`\n",
    "  \n",
    "Execution of a `try/except` compound statement starts with that of the statements constituting `<suite1>` (i.e., the try clause). If no exception arises while executing these statements, execution continues with the statement following the try/except statement. On the other hand, if an exception arises while executing one of the statements in `<suite1>` (which may happen at any level of function calls originating from any of the statements there) then the execution of the statements in this suite are stopped and execution continues with the statements constituting `<suite2>` (i.e., the except clause). \n",
    "\n",
    "The above form of try/except catches all exceptions that arise in `<suite1>`. This form is not recommended: In general, you should only catch exceptions that you can properly deal with this (swallowing an exception silently is not a proper way of dealing with in general). The form that you should use is:\n",
    "\n",
    "`try:\n",
    "  <suite1>\n",
    "except <ExceptionType> [as <varname>]:\n",
    "  <suite2>`\n",
    "  \n",
    "Here, `<ExceptionType>` must be an expression that evaluates to a type derived from `BaseException`. The effect of the above lines of code is that `<suite2>` will only be executed whenever an exception of type derived from that given by `<ExceptionType>` is thrown in `<suite1>`. If you use the `as` clause, the exception object will be bound to variable `<varname>` and will be available in `<suite2>` (and after it)."
   ]
  },
  {
   "cell_type": "code",
   "execution_count": 146,
   "metadata": {},
   "outputs": [
    {
     "name": "stdout",
     "output_type": "stream",
     "text": [
      "Please enter a number: 234d\n",
      "Handling run-time error: invalid literal for int() with base 10: '234d' Try again...\n",
      "Please enter a number: 23\n"
     ]
    }
   ],
   "source": [
    "while True:\n",
    "    try:\n",
    "        x = int(input(\"Please enter a number: \"))\n",
    "        break\n",
    "    except ValueError as err:\n",
    "        print('Handling run-time error:', err, \"Try again...\")"
   ]
  },
  {
   "cell_type": "markdown",
   "metadata": {},
   "source": [
    "A try statement may have more than one except clause, to specify handlers for different exceptions. When an exception arises in the `try` clause, its type is matched one by one in the order specified by the `except` clauses and execution continues with the suite of the first matching clause. At most one handler will be executed."
   ]
  },
  {
   "cell_type": "code",
   "execution_count": 144,
   "metadata": {},
   "outputs": [
    {
     "name": "stdout",
     "output_type": "stream",
     "text": [
      "OS error: [Errno 2] No such file or directory: 'myfile.txt'\n",
      "This statement is executed on the way out\n"
     ]
    }
   ],
   "source": [
    "import sys\n",
    "\n",
    "try:\n",
    "    fp = open('myfile.txt')\n",
    "    s = fp.readline()\n",
    "    my_int = int(s.strip())\n",
    "except OSError as err:\n",
    "    print(\"OS error: {0}\".format(err))\n",
    "except ValueError:\n",
    "    print(\"Could not convert data to an integer.\")\n",
    "except:\n",
    "    print(\"Unexpected error:\", sys.exc_info()[0])\n",
    "    # Re-raising the exception\n",
    "    raise\n",
    "else:\n",
    "    # If the try clause does not raise an exception\n",
    "    print(\"File opened successfully and the result is\", str(my_int))\n",
    "finally:\n",
    "    # A finally clause is always executed before leaving the try statement, whether an exception has occurred or not.\n",
    "    print(\"This statement is executed on the way out\")"
   ]
  },
  {
   "cell_type": "markdown",
   "metadata": {},
   "source": [
    "When a Python script raises an exception, it must handle the exception immediately otherwise it terminates.\n",
    "When a Python function raises an exception, it must either handle the exception or another handler up the call stack will have to handle it."
   ]
  },
  {
   "cell_type": "code",
   "execution_count": 181,
   "metadata": {},
   "outputs": [
    {
     "name": "stdout",
     "output_type": "stream",
     "text": [
      "Terminated with error\n"
     ]
    }
   ],
   "source": [
    "def caller_func(input_var):\n",
    "    local_var = called_func(input_var)\n",
    "    print(local_var)\n",
    "\n",
    "    \n",
    "def called_func(input_var):\n",
    "    local_var = 1 / input_var\n",
    "    return local_var\n",
    "\n",
    "\n",
    "# caller_func(0)\n",
    "\n",
    "\n",
    "try:\n",
    "    caller_func(0)\n",
    "except:\n",
    "    print(\"Terminated with error\")"
   ]
  },
  {
   "cell_type": "code",
   "execution_count": 186,
   "metadata": {},
   "outputs": [
    {
     "name": "stdout",
     "output_type": "stream",
     "text": [
      "Exception: division by zero handled by called_func\n",
      "Exception: division by zero handled by caller_func\n",
      "Exception: division by zero handled by __main__\n"
     ]
    }
   ],
   "source": [
    "def caller_func(input_var):\n",
    "    try:\n",
    "        local_var = called_func(input_var)\n",
    "    except ZeroDivisionError as err:  # Catch ZeroDivisionError\n",
    "        print(\"Exception:\", err, \"handled by\", caller_func.__name__)\n",
    "        \n",
    "        # If it doesn't raise the exception again, __main__ will not handle this exception\n",
    "        raise err\n",
    "    except:  # Catch all other exceptions\n",
    "        raise\n",
    "    else:\n",
    "        print(local_var)\n",
    "    \n",
    "def called_func(input_var):\n",
    "    try:\n",
    "        local_var = 1 / input_var\n",
    "    except ZeroDivisionError as err:  # Catch ZeroDivisionError\n",
    "        print(\"Exception:\", err, \"handled by\", called_func.__name__)\n",
    "        \n",
    "        # If it doesn't raise the exception again, the caller function will not handle this exception\n",
    "        raise err\n",
    "    else:\n",
    "        return local_var\n",
    "    \n",
    "try:\n",
    "    caller_func(0)\n",
    "except Exception as err:\n",
    "    print(\"Exception:\", err, \"handled by\", __name__)"
   ]
  },
  {
   "cell_type": "markdown",
   "metadata": {},
   "source": [
    "Use try/except sparingly (only when your code can do something meaningful would an erroneous condition arise) to keep your code nice and clean. Avoid guarding large blocks of code as you might be catching exceptions you did not intend to catch. You may compromise this a little bit for the sake of avoiding littering your code with too many try/catch blocks. You must use your best judgement to decide where to put the proverbial line.\n",
    "\n",
    "Always documents the exceptions that your code (e.g., functions) raises.\n",
    "\n",
    "When testing your functions, you must test for whether the exceptions are raised when they should be."
   ]
  },
  {
   "cell_type": "markdown",
   "metadata": {
    "collapsed": true
   },
   "source": [
    "__Exercise__: Write a function, called `get_element_at(some_list, k)`, that takes a list and an integer as input and returns the *k*th element of the list. Write another function, called `str2int(index)`, that converts the input argument to integer and returns it. Your functions shouldn't throw any exceptions. Test your code using the following Python script."
   ]
  },
  {
   "cell_type": "code",
   "execution_count": null,
   "metadata": {
    "collapsed": true
   },
   "outputs": [],
   "source": [
    "def str2int(index):\n",
    "    # Write the content of this function\n",
    "    return\n",
    "\n",
    "\n",
    "def get_element_at(some_list, k):\n",
    "    # Write the content of this function\n",
    "    return\n",
    "\n",
    "try:\n",
    "    index = str2int(input(\"Enter an index:\"))\n",
    "    get_element_at([1, 2, 3], index)\n",
    "except:\n",
    "    print(\"You should never reach this point!\")\n",
    "    raise"
   ]
  },
  {
   "cell_type": "code",
   "execution_count": null,
   "metadata": {
    "collapsed": true
   },
   "outputs": [],
   "source": []
  }
 ],
 "metadata": {
  "kernelspec": {
   "display_name": "Python 3",
   "language": "python",
   "name": "python3"
  },
  "language_info": {
   "codemirror_mode": {
    "name": "ipython",
    "version": 3
   },
   "file_extension": ".py",
   "mimetype": "text/x-python",
   "name": "python",
   "nbconvert_exporter": "python",
   "pygments_lexer": "ipython3",
   "version": "3.6.4"
  }
 },
 "nbformat": 4,
 "nbformat_minor": 2
}
