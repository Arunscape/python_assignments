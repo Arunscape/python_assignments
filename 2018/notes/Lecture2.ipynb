{
 "cells": [
  {
   "cell_type": "markdown",
   "metadata": {},
   "source": [
    "# CMPUT275 Lecture 2\n",
    "\n",
    "## Recap\n",
    "- We will be using Python 3 in this course. <br><br>\n",
    "`$ python3 <program>.py`"
   ]
  },
  {
   "cell_type": "markdown",
   "metadata": {},
   "source": [
    "- Python uses end of line (EOL) to determine where instructions end (instead of using semicolons).\n",
    "- Python is a dynamically-typed language. You don't need to declare the data type of your variable. Type checking is performed at runtime.\n",
    "- To define a new variable, we simply assign a value to an identifier. There are certain rules for creating an identifier."
   ]
  },
  {
   "cell_type": "code",
   "execution_count": 5,
   "metadata": {},
   "outputs": [],
   "source": [
    "# An escape sequence can be used to denote a special character. It start with a backslash\n",
    "some_text = \"This is one line\\nThis is another line\""
   ]
  },
  {
   "cell_type": "markdown",
   "metadata": {},
   "source": [
    "- Python interpreter maintains an association from variable names to their values\n",
    "- Python is case-sensitive. The interpreter treats upper- and lowercase letters differently."
   ]
  },
  {
   "cell_type": "code",
   "execution_count": 6,
   "metadata": {},
   "outputs": [
    {
     "ename": "NameError",
     "evalue": "name 'some_Text' is not defined",
     "output_type": "error",
     "traceback": [
      "\u001b[0;31m---------------------------------------------------------------------------\u001b[0m",
      "\u001b[0;31mNameError\u001b[0m                                 Traceback (most recent call last)",
      "\u001b[0;32m<ipython-input-6-742623e0721d>\u001b[0m in \u001b[0;36m<module>\u001b[0;34m()\u001b[0m\n\u001b[1;32m      1\u001b[0m \u001b[0;31m# this gives an error: 'some_Text' is not defined\u001b[0m\u001b[0;34m\u001b[0m\u001b[0;34m\u001b[0m\u001b[0m\n\u001b[0;32m----> 2\u001b[0;31m \u001b[0mprint\u001b[0m\u001b[0;34m(\u001b[0m\u001b[0msome_Text\u001b[0m\u001b[0;34m)\u001b[0m\u001b[0;34m\u001b[0m\u001b[0m\n\u001b[0m",
      "\u001b[0;31mNameError\u001b[0m: name 'some_Text' is not defined"
     ]
    }
   ],
   "source": [
    "# this gives an error: 'some_Text' is not defined\n",
    "print(some_Text)"
   ]
  },
  {
   "cell_type": "markdown",
   "metadata": {},
   "source": [
    "- Python uses indentation to group statements into blocks"
   ]
  },
  {
   "cell_type": "code",
   "execution_count": 4,
   "metadata": {},
   "outputs": [
    {
     "name": "stdout",
     "output_type": "stream",
     "text": [
      "Numbers added\n"
     ]
    }
   ],
   "source": [
    "# this function definition starts a new block\n",
    "def add_numbers(num1, num2):\n",
    "    # the next two instructions are inside the same block, because they are both equally indented\n",
    "    _sum = num1 + num2\n",
    "    return _sum\n",
    "\n",
    "# this statement starts a new block too\n",
    "add_numbers(1, 2)\n",
    "# this statement is in the same block\n",
    "print(\"Numbers added\")"
   ]
  },
  {
   "cell_type": "markdown",
   "metadata": {},
   "source": [
    "__Exercise__: The following program is not indented correctly. Reindent it and make sure that it runs:\n",
    "\n",
    "`def happy_day(day):`<br>\n",
    "`if day == \"monday\":`<br>\n",
    "`return \":(\"`<br>\n",
    "`if day != \"monday\":`<br>\n",
    "`return \":D\"`<br>\n",
    "\n",
    "`print(happy_day(\"sunday\"))`"
   ]
  },
  {
   "cell_type": "code",
   "execution_count": 8,
   "metadata": {},
   "outputs": [],
   "source": [
    "def happy_day(day):\n",
    "    if day == \"monday\":\n",
    "        return \":(\"\n",
    "    if day != \"monday\":\n",
    "        return \":D\"\n",
    "\n",
    "    print(happy_day(\"sunday\"))\n",
    "\n",
    "\n",
    "\n",
    "\n",
    "\n"
   ]
  },
  {
   "cell_type": "markdown",
   "metadata": {},
   "source": [
    "- Many common types are built into Python, such as integers, floating-point numbers, and strings (and there is no char type)."
   ]
  },
  {
   "cell_type": "code",
   "execution_count": 9,
   "metadata": {},
   "outputs": [],
   "source": [
    "some_number = 3.14"
   ]
  },
  {
   "cell_type": "markdown",
   "metadata": {},
   "source": [
    "- Python is strongly typed, that is at any given time a variable has a definite type. If we try to perform operations on variables which have incompatible types, Python will exit with a type error."
   ]
  },
  {
   "cell_type": "code",
   "execution_count": 10,
   "metadata": {},
   "outputs": [
    {
     "ename": "TypeError",
     "evalue": "must be str, not float",
     "output_type": "error",
     "traceback": [
      "\u001b[0;31m---------------------------------------------------------------------------\u001b[0m",
      "\u001b[0;31mTypeError\u001b[0m                                 Traceback (most recent call last)",
      "\u001b[0;32m<ipython-input-10-b5cddc07d6ea>\u001b[0m in \u001b[0;36m<module>\u001b[0;34m()\u001b[0m\n\u001b[1;32m      1\u001b[0m \u001b[0;31m# this gives an error: must be str, not float\u001b[0m\u001b[0;34m\u001b[0m\u001b[0;34m\u001b[0m\u001b[0m\n\u001b[0;32m----> 2\u001b[0;31m \u001b[0mprint\u001b[0m\u001b[0;34m(\u001b[0m\u001b[0msome_text\u001b[0m \u001b[0;34m+\u001b[0m \u001b[0msome_number\u001b[0m\u001b[0;34m)\u001b[0m\u001b[0;34m\u001b[0m\u001b[0m\n\u001b[0m",
      "\u001b[0;31mTypeError\u001b[0m: must be str, not float"
     ]
    }
   ],
   "source": [
    "# this gives an error: must be str, not float\n",
    "print(some_text + some_number)"
   ]
  },
  {
   "cell_type": "markdown",
   "metadata": {},
   "source": [
    "- Everything in Python is an object (i.e. an instance of some class). Even types, functions, and lists are objects."
   ]
  },
  {
   "cell_type": "code",
   "execution_count": 11,
   "metadata": {},
   "outputs": [
    {
     "name": "stdout",
     "output_type": "stream",
     "text": [
      "['__annotations__', '__call__', '__class__', '__closure__', '__code__', '__defaults__', '__delattr__', '__dict__', '__dir__', '__doc__', '__eq__', '__format__', '__ge__', '__get__', '__getattribute__', '__globals__', '__gt__', '__hash__', '__init__', '__init_subclass__', '__kwdefaults__', '__le__', '__lt__', '__module__', '__name__', '__ne__', '__new__', '__qualname__', '__reduce__', '__reduce_ex__', '__repr__', '__setattr__', '__sizeof__', '__str__', '__subclasshook__']\n"
     ]
    }
   ],
   "source": [
    "# Return the list of attributes of the given object, and of attributes reachable from it\n",
    "print(dir(add_numbers))"
   ]
  },
  {
   "cell_type": "code",
   "execution_count": 12,
   "metadata": {},
   "outputs": [
    {
     "name": "stdout",
     "output_type": "stream",
     "text": [
      "add_numbers\n",
      "<class 'function'>\n"
     ]
    }
   ],
   "source": [
    "print(add_numbers.__name__)\n",
    "print(add_numbers.__class__)"
   ]
  },
  {
   "cell_type": "code",
   "execution_count": 13,
   "metadata": {},
   "outputs": [
    {
     "name": "stdout",
     "output_type": "stream",
     "text": [
      "['__add__', '__class__', '__contains__', '__delattr__', '__dir__', '__doc__', '__eq__', '__format__', '__ge__', '__getattribute__', '__getitem__', '__getnewargs__', '__gt__', '__hash__', '__init__', '__init_subclass__', '__iter__', '__le__', '__len__', '__lt__', '__mod__', '__mul__', '__ne__', '__new__', '__reduce__', '__reduce_ex__', '__repr__', '__rmod__', '__rmul__', '__setattr__', '__sizeof__', '__str__', '__subclasshook__', 'capitalize', 'casefold', 'center', 'count', 'encode', 'endswith', 'expandtabs', 'find', 'format', 'format_map', 'index', 'isalnum', 'isalpha', 'isdecimal', 'isdigit', 'isidentifier', 'islower', 'isnumeric', 'isprintable', 'isspace', 'istitle', 'isupper', 'join', 'ljust', 'lower', 'lstrip', 'maketrans', 'partition', 'replace', 'rfind', 'rindex', 'rjust', 'rpartition', 'rsplit', 'rstrip', 'split', 'splitlines', 'startswith', 'strip', 'swapcase', 'title', 'translate', 'upper', 'zfill']\n"
     ]
    }
   ],
   "source": [
    "print(dir(some_text))"
   ]
  },
  {
   "cell_type": "code",
   "execution_count": 14,
   "metadata": {},
   "outputs": [
    {
     "name": "stdout",
     "output_type": "stream",
     "text": [
      "False\n"
     ]
    }
   ],
   "source": [
    "print(some_text.islower())"
   ]
  },
  {
   "cell_type": "markdown",
   "metadata": {},
   "source": [
    "- Python performs garbage collection using a reference counting algorithm and other mechanisms for tracing references, detecting inaccessible cycles and deletes the objects involved"
   ]
  },
  {
   "cell_type": "markdown",
   "metadata": {},
   "source": [
    "## Functions\n",
    "Syntax for defining a function where `<function_name>` is the name of the function and `<parameter-list>` is a comma separated list of parameters passed to the function:<br><br>\n",
    "`def <function_name>(<parameter-list>):`\n",
    "\n",
    "Functions must be defined before they are first used. To call a function you always write its name, followed by some arguments in parentheses. The function does some action depending on its arguments. When there are multiple arguments to a function, you separate them with commas."
   ]
  },
  {
   "cell_type": "code",
   "execution_count": 15,
   "metadata": {},
   "outputs": [],
   "source": [
    "# Defining a fuction\n",
    "def do_nothing(some_input):\n",
    "    # Next line must be indented\n",
    "    \n",
    "    # The pass statement in Python is used when a statement is required syntactically \n",
    "    # but you do not want any command or code to execute.\n",
    "    # In here, pass is similar to return\n",
    "    pass\n",
    "\n",
    "def simple_return(some_input):\n",
    "    # The user may explicitly return control to the caller, optionally passing back a value\n",
    "    return some_input"
   ]
  },
  {
   "cell_type": "code",
   "execution_count": 16,
   "metadata": {},
   "outputs": [],
   "source": [
    "def return_multiple_vars(first_input, second_input):\n",
    "    # Return (a tuple of) two values\n",
    "    first_output = first_input + second_input\n",
    "    second_output = first_input - second_input\n",
    "    \n",
    "    # Update and return a dictionary representing the current local symbol table.\n",
    "    # print(locals())\n",
    "    return first_output, second_output\n",
    "\n",
    "\n",
    "def return_list(first_input, second_input):\n",
    "    # Return a list\n",
    "    return [first_input + second_input, first_input - second_input]"
   ]
  },
  {
   "cell_type": "code",
   "execution_count": 17,
   "metadata": {},
   "outputs": [
    {
     "name": "stdout",
     "output_type": "stream",
     "text": [
      "10\n",
      "25 5\n",
      "[25, 5]\n"
     ]
    }
   ],
   "source": [
    "# Calling a function\n",
    "some_arg = 10\n",
    "\n",
    "do_nothing(some_arg)\n",
    "\n",
    "output = simple_return(some_arg)\n",
    "print(output)\n",
    "\n",
    "first_output, second_output = return_multiple_vars(15, 10)\n",
    "print(first_output, second_output)\n",
    "\n",
    "mylist = return_list(15, 10)\n",
    "print(mylist)"
   ]
  },
  {
   "cell_type": "code",
   "execution_count": 18,
   "metadata": {},
   "outputs": [
    {
     "data": {
      "text/plain": [
       "(25, 5)"
      ]
     },
     "execution_count": 18,
     "metadata": {},
     "output_type": "execute_result"
    }
   ],
   "source": [
    "# Ignoring output\n",
    "first_output, _ = return_multiple_vars(15, 10)\n",
    "\n",
    "_, second_output = return_multiple_vars(15, 10)\n",
    "\n",
    "# The following two statements are similar\n",
    "_, _ = return_multiple_vars(15, 10)\n",
    "return_multiple_vars(15, 10)"
   ]
  },
  {
   "cell_type": "markdown",
   "metadata": {},
   "source": [
    "You can look at the \"Python assembly\" (byte) code underlying any user-defined python function using the dis function in the dis module which supports the analysis of Python bytecode by disassembling it"
   ]
  },
  {
   "cell_type": "code",
   "execution_count": 19,
   "metadata": {},
   "outputs": [
    {
     "name": "stdout",
     "output_type": "stream",
     "text": [
      "  8           0 LOAD_CONST               0 (None)\n",
      "              2 RETURN_VALUE\n"
     ]
    }
   ],
   "source": [
    "import dis  # import module dis (a module in Python is like a library in C; we'll discuss them later)\n",
    "\n",
    "dis.dis(do_nothing)"
   ]
  },
  {
   "cell_type": "code",
   "execution_count": 20,
   "metadata": {},
   "outputs": [
    {
     "name": "stdout",
     "output_type": "stream",
     "text": [
      "  3           0 LOAD_FAST                0 (first_input)\n",
      "              2 LOAD_FAST                1 (second_input)\n",
      "              4 BINARY_ADD\n",
      "              6 STORE_FAST               2 (first_output)\n",
      "\n",
      "  4           8 LOAD_FAST                0 (first_input)\n",
      "             10 LOAD_FAST                1 (second_input)\n",
      "             12 BINARY_SUBTRACT\n",
      "             14 STORE_FAST               3 (second_output)\n",
      "\n",
      "  8          16 LOAD_FAST                2 (first_output)\n",
      "             18 LOAD_FAST                3 (second_output)\n",
      "             20 BUILD_TUPLE              2\n",
      "             22 RETURN_VALUE\n"
     ]
    }
   ],
   "source": [
    "dis.dis(return_multiple_vars)"
   ]
  },
  {
   "cell_type": "code",
   "execution_count": 21,
   "metadata": {},
   "outputs": [
    {
     "name": "stdout",
     "output_type": "stream",
     "text": [
      "distance covered in meter: 150000\n",
      "time taken in sec: 3600\n",
      "150.0 km/h\n",
      "distance covered in meter: 150000\n",
      "time taken in sec: 7200\n",
      "75.0 km/h\n",
      "distance covered in meter: 150000\n",
      "time taken in sec: 7200\n",
      "75.0 km/h\n"
     ]
    }
   ],
   "source": [
    "# When you define a function, you SHOULD include a docstring (a multiline comment)\n",
    "def printSpeed(speed, unit=\"km/h\"):\n",
    "    '''Print speed and unit\n",
    "    \n",
    "    Args:\n",
    "     speed (real): travel speed\n",
    "     unit (string): unit of speed; default value: km/h\n",
    "     \n",
    "    Returns:\n",
    "     (None)\n",
    "    '''\n",
    "    \n",
    "    print(speed, unit)\n",
    "\n",
    "def meter2kilometer(distance):\n",
    "    '''Change the unit of distance\n",
    "    \n",
    "    Args:\n",
    "     distance (real): the distance traveled in meters\n",
    "     \n",
    "    Returns:\n",
    "     (real): the distance traveled in kilometers\n",
    "    '''\n",
    "    \n",
    "    return distance/1000\n",
    "\n",
    "def second2hour(time):\n",
    "    '''Change the unit of time\n",
    "    \n",
    "    Args:\n",
    "     time (real): the time spent in seconds\n",
    "     \n",
    "    Returns:\n",
    "     (real): the time spent in hours\n",
    "    '''\n",
    "    \n",
    "    return time/3600\n",
    "\n",
    "# Default values indicate that the function argument will take that value \n",
    "# if no argument value is passed during function call.\n",
    "def compute_speed(distance, time=3600):\n",
    "    '''Calculate the speed\n",
    "    Args:\n",
    "     distance (real): the distance traveled in meters\n",
    "     time (real): the time spent in seconds; default value: 3600\n",
    "    \n",
    "    Returns:\n",
    "     (real) the speed in km/h\n",
    "    '''\n",
    "    \n",
    "    print(\"distance covered in meter:\", distance)\n",
    "    print(\"time taken in sec:\", time)\n",
    "    \n",
    "    # Compute speed in km/h by calling other functions\n",
    "    speed = meter2kilometer(distance) / second2hour(time)\n",
    "    return speed\n",
    "\n",
    "\n",
    "# Use default values of arguments\n",
    "printSpeed(compute_speed(150000))\n",
    "\n",
    "# Required arguments\n",
    "printSpeed(compute_speed(150000, 7200))\n",
    "\n",
    "# Keyword arguments\n",
    "printSpeed(compute_speed(time=7200, distance=150000))"
   ]
  },
  {
   "cell_type": "code",
   "execution_count": null,
   "metadata": {
    "collapsed": true
   },
   "outputs": [],
   "source": [
    "# Variable number of arguments\n",
    "# This is very useful when we do not know the exact number of arguments that will be passed to a function.\n",
    "\n",
    "def say_hello(*varargs):\n",
    "    print(len(varargs))\n",
    "    for name in varargs:\n",
    "        print(\"Hello\", name)\n",
    "        \n",
    "print(\"Calling with a single argument\")\n",
    "say_hello(\"Sarah\")\n",
    "print(\"Calling with three arguments\")\n",
    "say_hello(\"Sarah\", \"James\", \"Peter\")"
   ]
  },
  {
   "cell_type": "markdown",
   "metadata": {},
   "source": [
    "__Exercise__: You are in a bike race which goes up and down a hill. Write a function that will print out your average speed (in km/min) for the entire race given the following arguments: `uphillDistance` and `downhillDistance` which give the distance (in km) of both parts of the race, and `uphillTime` and `downhillTime` which give the time (in minutes) of how long it took you to complete each part of the race. "
   ]
  },
  {
   "cell_type": "code",
   "execution_count": 22,
   "metadata": {},
   "outputs": [],
   "source": [
    "def avgspeed(uphillDistance, downhillDistance, uphillTime, downhillTime):\n",
    "    return (uphillDistance/uphillTime + downhillDistance/downhillTime)/2   \n",
    "    \n"
   ]
  },
  {
   "cell_type": "markdown",
   "metadata": {},
   "source": [
    "## Builtin functions"
   ]
  },
  {
   "cell_type": "code",
   "execution_count": null,
   "metadata": {
    "collapsed": true
   },
   "outputs": [],
   "source": [
    "mynum = -10.5\n",
    "absvalue = abs(mynum)\n",
    "print(absvalue)\n",
    "\n",
    "complexNum = complex(-4, 3)\n",
    "print(complexNum)\n",
    "\n",
    "magnitude = abs(complexNum)\n",
    "print(magnitude)\n",
    "\n",
    "print(round(mynum))"
   ]
  },
  {
   "cell_type": "code",
   "execution_count": null,
   "metadata": {
    "collapsed": true
   },
   "outputs": [],
   "source": [
    "numlist = [3,-2,8,1]\n",
    "print(min(numlist))\n",
    "print(max(numlist))\n",
    "\n",
    "print(sorted(numlist))\n",
    "print(list(reversed(numlist)))\n",
    "\n"
   ]
  },
  {
   "cell_type": "markdown",
   "metadata": {},
   "source": [
    "### Range\n",
    "Generates a list of numbers, which is generally used to iterate over with for loops. Syntax:\n",
    "\n",
    "`range([start], stop[, step])`\n",
    "\n",
    "All parameters must be integers (positive or negative)"
   ]
  },
  {
   "cell_type": "code",
   "execution_count": null,
   "metadata": {
    "collapsed": true
   },
   "outputs": [],
   "source": [
    "print(list(range(5)))\n",
    "\n",
    "print(list(range(3,6)))"
   ]
  },
  {
   "cell_type": "markdown",
   "metadata": {},
   "source": [
    "#### Tuple\n",
    "\n",
    "Tuples are sequences of different kinds of stuff, while lists are generally sequences of the same kind of stuff. Unlike lists, tuples are immutable in Python. \n",
    "\n",
    "`location = (x_coord, y_coord)  # a tuple of x_coord and y_coord coordinates` <br>\n",
    "`word_loc = (page, column, line) # a tuple of page number, column number, and line number`"
   ]
  },
  {
   "cell_type": "code",
   "execution_count": 23,
   "metadata": {},
   "outputs": [
    {
     "name": "stdout",
     "output_type": "stream",
     "text": [
      "('a', 'b', 'c')\n",
      "('a', 'b', 'c')\n",
      "(1, 2, 3)\n",
      "(1, 2, 3)\n"
     ]
    }
   ],
   "source": [
    "# You can create a typle from a list or string using the tuple function\n",
    "print((\"a\", \"b\", \"c\"))\n",
    "print(tuple(\"abc\"))\n",
    "\n",
    "print((1, 2, 3))\n",
    "print(tuple([1,2,3]))"
   ]
  },
  {
   "cell_type": "markdown",
   "metadata": {},
   "source": [
    "#### Zip\n",
    "Returns an iterator of tuples, where the i-th tuple contains the i-th element from each of the argument sequences or iterables. The iterator stops when the shortest input iterable is exhausted."
   ]
  },
  {
   "cell_type": "code",
   "execution_count": 24,
   "metadata": {},
   "outputs": [
    {
     "name": "stdout",
     "output_type": "stream",
     "text": [
      "[('Spring', 15), ('Summer', 23), ('Fall', 8), ('Winter', -10)]\n",
      "[('Spring', 15), ('Summer', 23)]\n"
     ]
    }
   ],
   "source": [
    "seasons = [\"Spring\", \"Summer\", \"Fall\", \"Winter\"]\n",
    "avgTemperature = [15, 23, 8, -10]\n",
    "\n",
    "zipped = zip(seasons, avgTemperature)\n",
    "print(list(zipped))\n",
    "\n",
    "seasons = [\"Spring\", \"Summer\", \"Fall\", \"Winter\"]\n",
    "avgTemperature = [15, 23]\n",
    "\n",
    "zipped = zip(seasons, avgTemperature)\n",
    "print(list(zipped))"
   ]
  },
  {
   "cell_type": "markdown",
   "metadata": {},
   "source": [
    "### Namespaces, scopes, and lifetimes\n",
    "\n",
    "We call the region of a program where a variable is accessible __scope__ of the variable, and the duration for which the variable exists its __lifetime__.\n",
    "\n",
    "__Global variable__: a variable which is defined in the main body of a file. It will be visible throughout the file, and also inside any file which imports that file.\n",
    "\n",
    "__Local variable__: a variable which is defined inside a function (unless explicitly declared as global). It is accessible from the point at which it is defined until the end of the function, and exists for as long as the function is executing.\n",
    "\n",
    "__Namespace__ (or __Frame__): a mapping from variables to values which is maintained by the Python interpreter. There is a namespace called \\_\\_builtins\\_\\_ that contains builtin functions like `print` and `abs`, and another namespace called \\_\\_main\\_\\_ that contains global variables. The \\_\\_builtins\\_\\_ namespace is created when the Python interpreter starts up and is never deleted. Whenever a function is called, Python creates a new namespace for its local variables. This namespace is destroyed when the function finishes running. Thus, the local variables of a function can be accessed only by code that is textually inside the function.\n",
    "\n",
    "When you refer to a variable inside a function, Python will search the local namespace first (unless the variable is declared as global). If the variable is not found in the local namespace, Python will search the textually enclosing function namespaces (contains non-local, but also non-global names). If the variable is not found there, the global and builtin namespaces are searched respectively."
   ]
  },
  {
   "cell_type": "code",
   "execution_count": 25,
   "metadata": {},
   "outputs": [
    {
     "name": "stderr",
     "output_type": "stream",
     "text": [
      "UsageError: Cell magic `%%tutor` not found.\n"
     ]
    }
   ],
   "source": [
    "%%tutor --lang python3 --tab\n",
    "\n",
    "def print_str():\n",
    "    more_text = \"innermost\"\n",
    "    \n",
    "    # Even though print_str is called from inside replace_str, replace_str is not textually enclosing print_str, \n",
    "    # so the local variables of replace_str are not visible inside print_str\n",
    "    print(more_text, some_text, text, \"are printed in print_str\")\n",
    "    \n",
    "    # Update and return a dictionary representing the current local symbol table\n",
    "    # print(\"Local variables are\", locals(), \"in print_str\")\n",
    "    \n",
    "    return True\n",
    "\n",
    "def replace_str(value):\n",
    "    # By default, the assignment statement inside the function creates variables in the local scope (unless they are already defined in the local scope). \n",
    "    # Hence, the following assignment does not modify the global variable some_text;\n",
    "    # It creates a new local variable called some_text, and assigns the value to that variable.\n",
    "    some_text = value\n",
    "    \n",
    "    # If a local variable has the same name as a global variable the local variable will always take precedence.\n",
    "    # Hence, the print statement outputs the value of the new local variable\n",
    "    print(some_text, \"is printed in replace_str\")\n",
    "    \n",
    "    # Since text is not a local variable, Python will search the global and builtin frames\n",
    "    print(text, \"is printed in replace_str\")\n",
    "    \n",
    "    # Call print_str\n",
    "    flag = print_str()\n",
    "    \n",
    "    print(\"print_str returned:\", flag)\n",
    "    \n",
    "    # Update and return a dictionary representing the current local symbol table\n",
    "    # print(\"Local variables are\", locals(), \"in replace_str\")\n",
    "\n",
    "    return some_text\n",
    "    \n",
    "# These variables are global\n",
    "text = \"global\"\n",
    "some_text = \"outside\"\n",
    "\n",
    "new_text = replace_str(\"inside\")\n",
    "\n",
    "# This print statement outputs the value of the global variable called text\n",
    "print(some_text, \"is printed outside the function\")"
   ]
  },
  {
   "cell_type": "code",
   "execution_count": 40,
   "metadata": {
    "collapsed": true
   },
   "outputs": [],
   "source": [
    "%%tutor --lang python3 --tab\n",
    "\n",
    "def replace_str(value):\n",
    "    # A variable can be declared as a global variable although it is defined inside a function\n",
    "    global some_text\n",
    "    # This statement changes the value of the global variable\n",
    "    some_text = value\n",
    "\n",
    "some_text = \"outside\"\n",
    "replace_str(\"inside\") \n",
    "# This print statement outputs the value of the global variable which is changed inside the function\n",
    "print(some_text)"
   ]
  },
  {
   "cell_type": "markdown",
   "metadata": {},
   "source": [
    "## Strings\n",
    "A string literal is text enclosed in quotes. We can use either single quotes (') or double quotes (\") – but the start quote and the end quote have to match!"
   ]
  },
  {
   "cell_type": "code",
   "execution_count": null,
   "metadata": {
    "collapsed": true
   },
   "outputs": [],
   "source": [
    "_class = \"Tangible Computing II\"\n",
    "print(_class)\n",
    "_class = 'Tangible Computing II'\n",
    "print(_class)"
   ]
  },
  {
   "cell_type": "markdown",
   "metadata": {},
   "source": [
    "When a string contains single or double quote characters, use the other one to avoid puting a backslash in the string. It improves readability."
   ]
  },
  {
   "cell_type": "code",
   "execution_count": null,
   "metadata": {
    "collapsed": true
   },
   "outputs": [],
   "source": [
    "_class = \"'Tangible' Computing II\"\n",
    "print(_class)"
   ]
  },
  {
   "cell_type": "markdown",
   "metadata": {},
   "source": [
    "#### String slicing"
   ]
  },
  {
   "cell_type": "code",
   "execution_count": null,
   "metadata": {
    "collapsed": true
   },
   "outputs": [],
   "source": [
    "print(_class[9:18])\n",
    "print(_class[9:])\n",
    "print(_class[:9])\n",
    "print(_class[:9] + _class[9:])\n",
    "print(_class[-1])\n",
    "print(_class[:-2])"
   ]
  },
  {
   "cell_type": "markdown",
   "metadata": {},
   "source": [
    "### Manipulating strings\n",
    "Python strings are \"immutable\" meaning that they cannot be changed after they are created. Thus, a *new* string is constrcuted when some of the following operations are performed."
   ]
  },
  {
   "cell_type": "code",
   "execution_count": null,
   "metadata": {
    "collapsed": true
   },
   "outputs": [],
   "source": [
    "print(dir(_class))"
   ]
  },
  {
   "cell_type": "code",
   "execution_count": null,
   "metadata": {
    "collapsed": true
   },
   "outputs": [],
   "source": [
    "# Convert to lowercase\n",
    "print(_class.lower())"
   ]
  },
  {
   "cell_type": "code",
   "execution_count": null,
   "metadata": {
    "collapsed": true
   },
   "outputs": [],
   "source": [
    "# Replace a substring\n",
    "name = \"David Lynch\"\n",
    "new_name = name.replace(\"David\", \"Jennifer\")\n",
    "print(name)\n",
    "print(new_name)"
   ]
  },
  {
   "cell_type": "code",
   "execution_count": null,
   "metadata": {
    "collapsed": true
   },
   "outputs": [],
   "source": [
    "# Return the lowest index in s where the whole substring is found. Return -1 on failure.\n",
    "print(_class.find(\"Tan\"))\n",
    "print(_class.find(\"II\"))\n",
    "print(_class.find(\"Z\"))"
   ]
  },
  {
   "cell_type": "code",
   "execution_count": null,
   "metadata": {
    "collapsed": true
   },
   "outputs": [],
   "source": [
    "# Return a list of the words in a string, using 'sep' as the delimiter string\n",
    "# Default value of sep is a single space character\n",
    "print(_class.split())"
   ]
  },
  {
   "cell_type": "markdown",
   "metadata": {},
   "source": [
    "### String Formatting\n",
    "*Format specifications* are used within replacement fields contained within a format string to define how individual values are presented"
   ]
  },
  {
   "cell_type": "code",
   "execution_count": null,
   "metadata": {
    "collapsed": true
   },
   "outputs": [],
   "source": [
    "print(\"Season: {seasons[0]}\".format(seasons=seasons))\n",
    "\n",
    "coord = (3, 5)\n",
    "print(\"X: {0[0]};  Y: {0[1]}\".format(coord))\n",
    "print(\"X: {0};  Y: {1}\".format(*coord))\n",
    "\n",
    "instructor1_name = \"Omid Ardakanian\"\n",
    "instructor2_name = \"Zachary Friggstad\"\n",
    "course_number = \"275\"\n",
    "print(\"My name is\", instructor1_name, \"the course number is\", course_number, sep=': ')  # Default seperator is a space\n",
    "\n",
    "# Pass an argument\n",
    "print(\"Welcome to CMPUT%s\" % course_number)  # Default is new line\n",
    "\n",
    "# Pass it as a tuple\n",
    "print(\"CMPUT%d and CMPUT%d are introduction to computer science courses\" % (274, 275))\n",
    "\n",
    "\"{:20,.2f}\".format(18446744073709551616.0)"
   ]
  },
  {
   "cell_type": "code",
   "execution_count": null,
   "metadata": {
    "collapsed": true
   },
   "outputs": [],
   "source": [
    "# Use new-style string formatting\n",
    "print(\"'CMPUT275' is taught by {} and {}\".format(instructor2_name, instructor1_name))\n",
    "\n",
    "# Use new-style string formatting with numbers (useful for reordering or printing the same one multiple times)\n",
    "print(\"This course is taught by {0} and {1}. {0} covers the first lecture.\".format(instructor1_name, instructor2_name))\n",
    "\n",
    "# Use new-style string formatting with explicit names\n",
    "print(\"This course is taught by {inst1} and {inst2}. {inst1} will be here next week.\".format(inst1=instructor2_name, inst2=instructor1_name))"
   ]
  },
  {
   "cell_type": "markdown",
   "metadata": {},
   "source": [
    "### Strings vs. Lists\n",
    "Strings and lists are very similar in Python. The main difference between them is that list are mutable objects whereas strings are immutable objects"
   ]
  },
  {
   "cell_type": "code",
   "execution_count": null,
   "metadata": {
    "collapsed": true
   },
   "outputs": [],
   "source": [
    "# String concatination the same as list concatination\n",
    "first_str = \"arrange\"\n",
    "second_str = \"ment\"\n",
    "third_str = 1\n",
    "\n",
    "# Without using str function we get this error \n",
    "# Can't convert 'int' object to str implicitly\n",
    "print(first_str + second_str + \" \" + str(third_str))\n",
    "\n",
    "print(first_str + second_str + \" \" + str(third_str)*3)\n",
    "\n",
    "# Indicate whether there is a substring\n",
    "assert((\"range\" in first_str) == True)"
   ]
  },
  {
   "cell_type": "markdown",
   "metadata": {},
   "source": [
    "## Reading from the standard input"
   ]
  },
  {
   "cell_type": "code",
   "execution_count": null,
   "metadata": {
    "collapsed": true
   },
   "outputs": [],
   "source": [
    "input_text = input()"
   ]
  },
  {
   "cell_type": "code",
   "execution_count": null,
   "metadata": {
    "collapsed": true
   },
   "outputs": [],
   "source": [
    "input_text = input('Enter your name ')\n",
    "print(input_text)"
   ]
  },
  {
   "cell_type": "markdown",
   "metadata": {
    "collapsed": true
   },
   "source": [
    "### Selection control statements"
   ]
  },
  {
   "cell_type": "code",
   "execution_count": null,
   "metadata": {
    "collapsed": true
   },
   "outputs": [],
   "source": [
    "flag = False\n",
    "\n",
    "if flag:\n",
    "    print(\"We shouldn't have ended up here!\")\n",
    "\n",
    "    \n",
    "def dummy_func(some_arg):\n",
    "    if some_arg is not None:\n",
    "        return some_arg\n",
    "    else:\n",
    "        return None\n",
    "\n",
    "\n",
    "input_text = input(\"Enter your grade in CMPUT274:\")\n",
    "if len(input_text)<3 and input_text.isnumeric():\n",
    "    grade = float(input_text)\n",
    "    # Nested if\n",
    "    if grade >= 90:\n",
    "        grade = 100\n",
    "    else:\n",
    "        grade = grade + 10\n",
    "    print(grade)\n",
    "elif int(input_text)==100:\n",
    "    grade = 100\n",
    "    print(grade)\n",
    "else:\n",
    "    print(\"This is not a valid grade\")"
   ]
  },
  {
   "cell_type": "markdown",
   "metadata": {},
   "source": [
    "__Exercise__: Write a function `compare_two_numbers` which compares two integers read from the standard input and prints `Different` to the standard output if they are not equal and `Same` if they are equal"
   ]
  },
  {
   "cell_type": "code",
   "execution_count": null,
   "metadata": {
    "collapsed": true
   },
   "outputs": [],
   "source": [
    "\n",
    "\n",
    "\n",
    "\n",
    "\n",
    "\n"
   ]
  },
  {
   "cell_type": "code",
   "execution_count": null,
   "metadata": {
    "collapsed": true
   },
   "outputs": [],
   "source": [
    "def compare_two_numbers():\n",
    "    first_input = int(input(\"Enter the first integer:\"))\n",
    "    second_input = int(input(\"Enter the second integer:\"))\n",
    "\n",
    "    if first_input != second_input:\n",
    "        print(\"Different\")\n",
    "    else:\n",
    "        print(\"Same\")"
   ]
  },
  {
   "cell_type": "markdown",
   "metadata": {},
   "source": [
    "### Loop control statements"
   ]
  },
  {
   "cell_type": "code",
   "execution_count": 60,
   "metadata": {},
   "outputs": [
    {
     "name": "stdout",
     "output_type": "stream",
     "text": [
      "1\n",
      "2\n",
      "3\n",
      "0 0\n",
      "1 1\n",
      "2 4\n",
      "3 9\n",
      "4 16\n",
      "5 25\n",
      "6 36\n",
      "7 49\n",
      "8 64\n",
      "9 81\n",
      "10\n",
      "9\n",
      "8\n",
      "7\n",
      "6\n",
      "4\n"
     ]
    }
   ],
   "source": [
    "for num in [1, 2, 3]:\n",
    "    print(num)\n",
    "\n",
    "# Use the range() function to iterate through a list of integers\n",
    "for myitr in range(10):\n",
    "    print(myitr, myitr**2)\n",
    "\n",
    "loop_counter = 10\n",
    "while loop_counter > 0:\n",
    "    if loop_counter == 5:\n",
    "        loop_counter -= 1\n",
    "        # Continue\n",
    "        continue\n",
    "    elif loop_counter == 3:\n",
    "        # Breaks the loop\n",
    "        break\n",
    "    else:\n",
    "        print(loop_counter)\n",
    "        loop_counter -= 1"
   ]
  },
  {
   "cell_type": "markdown",
   "metadata": {},
   "source": [
    "#### Looping through lists and strings"
   ]
  },
  {
   "cell_type": "code",
   "execution_count": null,
   "metadata": {
    "collapsed": true
   },
   "outputs": [],
   "source": [
    "newstr = input(\"Please enter some text\")\n",
    "words = newstr.split()\n",
    "\n",
    "for index in range(len(words)):\n",
    "    print(words[index])\n",
    "    \n",
    "for word in words:\n",
    "    print(word)"
   ]
  },
  {
   "cell_type": "code",
   "execution_count": null,
   "metadata": {
    "collapsed": true
   },
   "outputs": [],
   "source": [
    "list_of_seasons = [\"Spring\", \"Summer\", \"Fall\", \"Winter\"]\n",
    "\n",
    "for season in list_of_seasons:\n",
    "    for letter in season:\n",
    "        print(letter, end=\" \")\n",
    "    print(season)"
   ]
  },
  {
   "cell_type": "markdown",
   "metadata": {},
   "source": [
    "__Exercise__: "
   ]
  },
  {
   "cell_type": "code",
   "execution_count": null,
   "metadata": {
    "collapsed": true
   },
   "outputs": [],
   "source": [
    "\n",
    "\n",
    "\n",
    "\n",
    "\n",
    "\n"
   ]
  },
  {
   "cell_type": "markdown",
   "metadata": {},
   "source": [
    "## Function Annotations\n",
    "They can be used for documentation or for pre-condition/post-condition checking\n",
    "\n",
    "`def <function_name>(<parameter>: expression, <parameter>: expression, ...) -> expression:`"
   ]
  },
  {
   "cell_type": "code",
   "execution_count": 48,
   "metadata": {},
   "outputs": [
    {
     "name": "stdout",
     "output_type": "stream",
     "text": [
      "annotations of div the dividend defaults to 1\n",
      "annotations of div the divisor (must be different than 0)\n",
      "annotations of div the result of dividing a by b\n",
      "annotations of div_ints <class 'int'>\n",
      "annotations of div_ints <class 'int'>\n",
      "annotations of div_ints <class 'float'>\n",
      "0.6666666666666666\n",
      "0.6451612903225806\n"
     ]
    }
   ],
   "source": [
    "def div(a: \"the dividend defaults to 1\", b: \"the divisor (must be different than 0)\") -> \"the result of dividing a by b\": \n",
    "    \"\"\"Divide a by b\"\"\" \n",
    "    return a / b\n",
    "\n",
    "\n",
    "for arg in div.__annotations__:\n",
    "    print(\"annotations of div\", div.__annotations__[arg])\n",
    "    \n",
    "    \n",
    "def div_ints(a: int, b: int) -> float: \n",
    "    return a / b\n",
    "\n",
    "\n",
    "for arg in div_ints.__annotations__:\n",
    "    print(\"annotations of div_ints\", div_ints.__annotations__[arg])\n",
    "\n",
    "print(div(2, 3))\n",
    "\n",
    "# Annotations are not actually enforced\n",
    "print(div_ints(2, 3.1))"
   ]
  },
  {
   "cell_type": "code",
   "execution_count": 56,
   "metadata": {},
   "outputs": [
    {
     "name": "stdout",
     "output_type": "stream",
     "text": [
      "1.5\n"
     ]
    }
   ],
   "source": [
    "def validate(func, map_vars2values):\n",
    "    for var, exp in func.__annotations__.items():      \n",
    "        value = map_vars2values[var]  # selecting a dictionary item\n",
    "        \n",
    "        msg = \"Var: {0}\\tValue: {1}\\tExpression: {2.__name__}\".format(var, value, exp)\n",
    "        \n",
    "        # assert statement helps you find bugs more quickly\n",
    "        # if the expression following assert is not true then it raises AssertionError (you can print a message as well)\n",
    "        # In this case, the message is printed if the value assigned to the variable is not of the expected type\n",
    "        assert exp(value), msg\n",
    "        \n",
    "def is_int(x):\n",
    "    '''checks whether x is of type int'''\n",
    "    return isinstance(x, int)\n",
    "\n",
    "        \n",
    "def new_div_ints(a: is_int, b: is_int):\n",
    "    # Pass function reference and names in local namespace to this function\n",
    "    # locals() return a dictionary (keys: variable names, values: assigned values)\n",
    "    validate(new_div_ints, locals())\n",
    "    return a / b\n",
    "\n",
    "print(new_div_ints(3, 2))\n",
    "# print(new_div_ints(3, 2.1))"
   ]
  },
  {
   "cell_type": "code",
   "execution_count": null,
   "metadata": {
    "collapsed": true
   },
   "outputs": [],
   "source": []
  },
  {
   "cell_type": "code",
   "execution_count": 22,
   "metadata": {},
   "outputs": [
    {
     "name": "stdout",
     "output_type": "stream",
     "text": [
      "The tutormagic extension is already loaded. To reload it, use:\n",
      "  %reload_ext tutormagic\n"
     ]
    }
   ],
   "source": [
    "# %load_ext tutormagic\n",
    "# %%tutor --lang python3"
   ]
  }
 ],
 "metadata": {
  "kernelspec": {
   "display_name": "Python 3",
   "language": "python",
   "name": "python3"
  },
  "language_info": {
   "codemirror_mode": {
    "name": "ipython",
    "version": 3
   },
   "file_extension": ".py",
   "mimetype": "text/x-python",
   "name": "python",
   "nbconvert_exporter": "python",
   "pygments_lexer": "ipython3",
   "version": "3.6.4"
  }
 },
 "nbformat": 4,
 "nbformat_minor": 2
}
