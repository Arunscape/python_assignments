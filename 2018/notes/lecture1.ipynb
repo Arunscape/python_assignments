{
 "cells": [
  {
   "cell_type": "markdown",
   "metadata": {},
   "source": [
    "# CMPUT275 Lecture 1"
   ]
  },
  {
   "cell_type": "markdown",
   "metadata": {},
   "source": [
    "## Before we start —"
   ]
  },
  {
   "cell_type": "markdown",
   "metadata": {},
   "source": [
    "Import the `cmput274-5_W2018` virtual machine in your virtualization software. If you have the 274 VM from last term, you can keep using it and follow the update instructions in [eClass](https://eclass.srv.ualberta.ca/pluginfile.php/4131671/mod_resource/content/2/Changelog-W2018.txt)"
   ]
  },
  {
   "cell_type": "markdown",
   "metadata": {},
   "source": [
    "From command line run jupyter project. This will launch a new browser window/tab showing the Notebook Dashboard\n",
    "> `$ jupyter notebook`"
   ]
  },
  {
   "cell_type": "markdown",
   "metadata": {},
   "source": [
    "![Notebook Dashboard](files/notebook.png)"
   ]
  },
  {
   "cell_type": "markdown",
   "metadata": {},
   "source": [
    "## How to start?\n",
    "\n",
    "### IPython Notebooks"
   ]
  },
  {
   "cell_type": "markdown",
   "metadata": {},
   "source": [
    "IPython offers TAB based command completion along with many other nice features.\n",
    "See [IPython](http://ipython.readthedocs.io/en/stable/) documentation.\n",
    "Note that you can write a Python program using any text editor (pretty much the same was as with a C program).\n",
    "\n",
    "We start by creating a Python 3 notebook. The notebook consists of a number of cells. \n",
    "A cell is a multi-line text input field, and its contents can be executed by using Shift-Enter, \n",
    "or by clicking the “Play” button in the toolbar. \n",
    "Similarly, you can add cells to a notebook by clicking the “Plus\" button.\n",
    "You can always download your IPython notebook as a .py file. To do this, select the following from the menubar:\n",
    "> `File | Download as | Python (.py)`"
   ]
  },
  {
   "cell_type": "markdown",
   "metadata": {},
   "source": [
    "__Exercise__: Create a new cell in your notebook. Find out how you can run the code snippet in that cell"
   ]
  },
  {
   "cell_type": "code",
   "execution_count": null,
   "metadata": {
    "collapsed": true
   },
   "outputs": [],
   "source": [
    "?"
   ]
  },
  {
   "cell_type": "code",
   "execution_count": null,
   "metadata": {
    "collapsed": true
   },
   "outputs": [],
   "source": [
    "%quickref"
   ]
  },
  {
   "cell_type": "markdown",
   "metadata": {},
   "source": [
    "A high level of readability is at the heart of the design of the Python language, following the recognized fact that code is read much more often than it is written.\n",
    "\n",
    "PEP 8 is the de-facto code style guide for Python and you are expected to follow it in this course.\n",
    "You can use `pep8` commandline tool to check your Python code against some of the style conventions in [PEP 8](https://www.python.org/dev/peps/pep-0008/) and format it correctly.\n",
    "> `$ pep8 --show-source --show-pep8 <program>.py`\n",
    "\n",
    "Here you should substitute <program> with the name of the Python program (aka \"script\") you created. The program autopep8 can be used to automatically reformat code in the PEP 8 style.\n",
    "Use it to format a file in-place with:\n",
    "> `$ autopep8 --in-place <program>.py`\n",
    "\n",
    "The Python interpreter (e.g., `python3`) compiles your program to the internal python byte-code which is then executed:\n",
    "> `$ python3 <program>.py`"
   ]
  },
  {
   "cell_type": "markdown",
   "metadata": {},
   "source": [
    "## Interpreted vs. compiled languages\n",
    "Interpreting a language gives implementations some additional flexibility over compiled implementations. \n",
    "Features that are often easier to implement in interpreters than in compilers include:\n",
    "* platform independence\n",
    "* __dynamic typing__\n",
    "* smaller executable program size (since implementations have flexibility to choose the instruction code)\n",
    "* reflection (you can find out about the type, class, attributes and methods of an object)\n",
    "\n",
    "Disadvantages of interpreted languages are:\n",
    "* Without static type-checking, which is usually performed by a compiler, programs can be less reliable, because type checking eliminates a class of programming errors\n",
    "* Slower execution compared to direct native machine code execution on the host CPU. \n",
    "* Source code can be read and copied, or more easily reverse engineered in applications where intellectual property has a commercial advantage."
   ]
  },
  {
   "cell_type": "markdown",
   "metadata": {},
   "source": [
    "## Dynamic typing vs. static typing\n",
    "- Statically-typed languages require you to declare the data types of your variables before you use them, while dynamically-typed languages do not.\n",
    "- Dynamically-typed languages perform type checking at runtime, while statically typed languages perform type checking at compile time."
   ]
  },
  {
   "cell_type": "markdown",
   "metadata": {},
   "source": [
    "## Structuring with Indentation\n",
    "\n",
    "Programming languages usually use certain methods to group statements into blocks:\n",
    "- begin ... end (e.g., Pascal)\n",
    "- do ... done (e.g., bash shell)\n",
    "- curly brackets {} (e.g., C, C++, Java)\n",
    "- if ... fi (e.g., bash shell)\n",
    "- indentation (e.g., __Python__)\n",
    "\n",
    "In Python, all statements with the same distance to the left belong to the same block of code, i.e. they are vertically aligned. The block ends at a line less indented or the end of the file. If a block has to be more deeply nested, it is simply indented further to the right. \n",
    "\n",
    "__NOTE__: Use TAB for indentation, do not even think of using spaces, not mentioning mixing spaces and tabs!"
   ]
  },
  {
   "cell_type": "markdown",
   "metadata": {},
   "source": [
    "## Python 2 vs. Python 3\n",
    "Open a terminal and type:\n",
    "> `$ python --version`\n",
    "\n",
    "> `$ python3 --version`\n",
    "\n",
    "A non-exhaustive list of features which are only available in 3.x releases and won't be backported to the 2.x series:\n",
    "- print is a function; thus, we have to wrap the object that we want to print in parantheses\n",
    "- integer division is supported in 3.x\n",
    "- strings are utf-8 Unicode by default\n",
    "- clean Unicode/bytes separation\n",
    "- exception chaining\n",
    "- function annotations (syntax for adding arbitrary metadata to Python functions)\n",
    "- syntax for keyword-only arguments\n",
    "- extended tuple unpacking\n",
    "- non-local variable declarations\n",
    "\n",
    "Python 3.x introduced some Python 2-incompatible keywords and features that can be imported via the in-built \\_\\_future\\_\\_ module in Python 2. It is recommended to use \\_\\_future\\_\\_ imports it if you are planning Python 3.x support for your code.\n",
    "\n",
    "__NOTE__: Your IPython notebook uses Python 3 kernel!"
   ]
  },
  {
   "cell_type": "markdown",
   "metadata": {},
   "source": [
    "### A \"Hello World\" program in Python"
   ]
  },
  {
   "cell_type": "code",
   "execution_count": null,
   "metadata": {
    "collapsed": true
   },
   "outputs": [],
   "source": [
    "# Print function can be used to print some string to standard output\n",
    "print(\"Hello World!\")"
   ]
  },
  {
   "cell_type": "markdown",
   "metadata": {},
   "source": [
    "Python does not require semi-colons to terminate statements. You just need to hit return and then Tab on the first line. Hence, Python not only enforces indentation, it standardizes it too."
   ]
  },
  {
   "cell_type": "markdown",
   "metadata": {},
   "source": [
    "## Using an editor/debugger\n",
    "Create a new file in your text editor\n",
    "\n",
    "`$ atom -n helloworld.py`\n",
    "\n",
    "Print \"Hello World\" to the standard output using the print commant and save it. Then invoke the interpreter\n",
    "\n",
    "`$ python3 helloworld.py`\n",
    "\n",
    "You can check your code against pep8 style conventions\n",
    "\n",
    "`$ pep8 --show-source --show-pep8 helloworld.py`"
   ]
  },
  {
   "cell_type": "markdown",
   "metadata": {},
   "source": [
    "## Comments\n",
    "\n",
    "Single-line comments are started with \"#\". For example:"
   ]
  },
  {
   "cell_type": "code",
   "execution_count": null,
   "metadata": {
    "collapsed": true
   },
   "outputs": [],
   "source": [
    "# This is a single-line comment"
   ]
  },
  {
   "cell_type": "markdown",
   "metadata": {},
   "source": [
    "Multi-line comments are enclosed between pairs of three single apostrophes"
   ]
  },
  {
   "cell_type": "code",
   "execution_count": null,
   "metadata": {
    "collapsed": true
   },
   "outputs": [],
   "source": [
    "'''Multiline comments are enclosed between \n",
    "pairs of three single apostrophes'''"
   ]
  },
  {
   "cell_type": "code",
   "execution_count": null,
   "metadata": {
    "collapsed": true
   },
   "outputs": [],
   "source": [
    "print \"Hello\"  # Error: missing parentheses"
   ]
  },
  {
   "cell_type": "code",
   "execution_count": null,
   "metadata": {
    "collapsed": true
   },
   "outputs": [],
   "source": [
    "print(Hello)   # Error: Hello is not defined"
   ]
  },
  {
   "cell_type": "code",
   "execution_count": null,
   "metadata": {
    "collapsed": true
   },
   "outputs": [],
   "source": [
    "# Type help() to enter python's interactive help session. Explore keywords, topics, etc.\n",
    "# You can also type help(<something>) to explore a help associated with <something>\n",
    "help(print)"
   ]
  },
  {
   "cell_type": "markdown",
   "metadata": {},
   "source": [
    "__Exercise__: Find out how you can print more than one variable at a time"
   ]
  },
  {
   "cell_type": "code",
   "execution_count": null,
   "metadata": {
    "collapsed": true
   },
   "outputs": [],
   "source": [
    "\n",
    "\n",
    "\n"
   ]
  },
  {
   "cell_type": "markdown",
   "metadata": {},
   "source": [
    "## Variables & Constants\n",
    "A common way of defining a new variable is using an assignment: \n",
    "`<identifier> = <expression_giving_a_value>`"
   ]
  },
  {
   "cell_type": "code",
   "execution_count": null,
   "metadata": {
    "collapsed": true
   },
   "outputs": [],
   "source": [
    "instructor_name = \"Omid Ardakanian\"\n",
    "course_number = \"275\"\n",
    "year = 2018"
   ]
  },
  {
   "cell_type": "markdown",
   "metadata": {},
   "source": [
    "Python first creates the value corresponding to the expression on the right-hand side of the assignment operator in the memory. This means allocating a little (or more) memory as needed, putting the type next to the value and taking the address of the start of the allocated chunk. Next it checks its namespaces, or frames (which essentially store name-address associations) to see whether the given name exist (in reality, sometimes but not always the names are replaced in a precompilation phase by numbers, but the idea is the same, so let's still think that python deals with the names we write in our codes). If the name exists, its associated address is replaced by the new address of the value created. If it does not exist, a new entry is created where the address is stored against next to the name."
   ]
  },
  {
   "cell_type": "code",
   "execution_count": null,
   "metadata": {
    "collapsed": true
   },
   "outputs": [],
   "source": [
    "print(id(course_number))\n",
    "course_number = \"274\"\n",
    "print(id(course_number))"
   ]
  },
  {
   "cell_type": "code",
   "execution_count": null,
   "metadata": {
    "collapsed": true,
    "scrolled": true
   },
   "outputs": [],
   "source": [
    "# Pass the values as parameters\n",
    "print(\"My name is\", instructor_name, \"and the course number is\", course_number)"
   ]
  },
  {
   "cell_type": "markdown",
   "metadata": {},
   "source": [
    "`<format> % <values>` where format is a string, `%` conversion specifications in format are replaced with zero or more elements of values. The effect is similar to the using `sprintf( )` in C."
   ]
  },
  {
   "cell_type": "code",
   "execution_count": null,
   "metadata": {
    "collapsed": true
   },
   "outputs": [],
   "source": [
    "# Use string formatting\n",
    "print(\"CMPUT%s is offered in %d\" % (course_number, year))"
   ]
  },
  {
   "cell_type": "markdown",
   "metadata": {},
   "source": [
    "To get the address of a value associated with an `<expression>`, use `id(<expression>)`"
   ]
  },
  {
   "cell_type": "code",
   "execution_count": null,
   "metadata": {
    "collapsed": true
   },
   "outputs": [],
   "source": [
    "num_students = 100\n",
    "\n",
    "my_gpa = 3.9\n",
    "\n",
    "flag = False\n",
    "\n",
    "some_obj = None\n",
    "\n",
    "# Use UPPERCASE names for constants\n",
    "MAX_OVERFLOW = 1024"
   ]
  },
  {
   "cell_type": "markdown",
   "metadata": {},
   "source": [
    "## Garbage Collection\n",
    "Values are created dynamically in memory. When no one is referencing them, they are automatically removed (or \"garbage collected\"). Python keeps track of this, by associating with each value a counter that counts how many references exist in total to a given value (objects can refer to each other, as well as variables can also refer to objects). In summary, objects are: type, reference count, and value triplets."
   ]
  },
  {
   "cell_type": "code",
   "execution_count": null,
   "metadata": {
    "collapsed": true
   },
   "outputs": [],
   "source": [
    "# Returns all the methods of a given object\n",
    "print(dir(instructor_name))"
   ]
  },
  {
   "cell_type": "code",
   "execution_count": null,
   "metadata": {
    "collapsed": true
   },
   "outputs": [],
   "source": [
    "print(instructor_name.isnumeric())"
   ]
  },
  {
   "cell_type": "markdown",
   "metadata": {},
   "source": [
    "Python is case sensitive. These are rules for creating an indentifier:\n",
    "- Must start with a letter or underscore (_)\n",
    "- Can be followed by any number of letters, digits, or underscores.\n",
    "- Cannot be a reserved word.\n",
    "\n",
    "The following identifiers are used as reserved words\n",
    "\n",
    "| | | |\n",
    ":-------------  | :-------------  | :-------------  | :-------------  | :-------------\n",
    "and | del | from | not | while\n",
    "as | elif | global | or | with\n",
    "assert | else | if | pass | yield\n",
    "break | except | import | print  |\n",
    "class | exec | in | raise |\n",
    "continue | finally | is | return |\n",
    "def | for | lambda | try |"
   ]
  },
  {
   "cell_type": "code",
   "execution_count": null,
   "metadata": {
    "collapsed": true
   },
   "outputs": [],
   "source": [
    "_class = \"Tangible Computing II\""
   ]
  },
  {
   "cell_type": "markdown",
   "metadata": {},
   "source": [
    "## [Operators](https://docs.python.org/3.2/reference/lexical_analysis.html#operators)\n",
    "Operators are pretty much as in C/C++.\n",
    "\n",
    "### Arithmetic Operators: +, -, \\*, /, %, \\**, //\n",
    "Order of operations is Brackets first, then Exponents, followed by Division and Multiplication, then finally Addition and Subtraction"
   ]
  },
  {
   "cell_type": "code",
   "execution_count": null,
   "metadata": {
    "collapsed": true
   },
   "outputs": [],
   "source": [
    "score = 80\n",
    "final_score = score + 20\n",
    "score -= 20\n",
    "print(score, final_score)\n",
    "\n",
    "# The power operator a^b\n",
    "print(2 ** 3)\n",
    "\n",
    "# The quotient of a divided by b\n",
    "print(10 // 3)\n",
    "\n",
    "# The remainder of a divided by b\n",
    "print(10 % 3)"
   ]
  },
  {
   "cell_type": "markdown",
   "metadata": {},
   "source": [
    "### Bitwise Operators: &, |, ^, ~, <<, >>"
   ]
  },
  {
   "cell_type": "code",
   "execution_count": null,
   "metadata": {
    "collapsed": true
   },
   "outputs": [],
   "source": [
    "first_binary = 60   # 60 = 0011 1100\n",
    "second_binary = 13  # 13 = 0000 1101\n",
    "print(first_binary&second_binary)\n",
    "print(first_binary|second_binary)\n",
    "print(first_binary^second_binary)\n",
    "print(~first_binary)"
   ]
  },
  {
   "cell_type": "markdown",
   "metadata": {},
   "source": [
    "### Comparison Operators: ==, !=, <, <=, >, >="
   ]
  },
  {
   "cell_type": "code",
   "execution_count": null,
   "metadata": {
    "collapsed": true
   },
   "outputs": [],
   "source": [
    "print(score == finalScore)"
   ]
  },
  {
   "cell_type": "markdown",
   "metadata": {},
   "source": [
    "### Logical Operators: and, or, not\n",
    "\n",
    "Order of operations: not (highest precedence), and, or (lowest precedence)"
   ]
  },
  {
   "cell_type": "code",
   "execution_count": 5,
   "metadata": {},
   "outputs": [
    {
     "name": "stdout",
     "output_type": "stream",
     "text": [
      "False\n"
     ]
    }
   ],
   "source": [
    "_bool_first = True\n",
    "_bool_second = False\n",
    "_bool_third = True\n",
    "\n",
    "print(not _bool_first or _bool_second and _bool_third)"
   ]
  },
  {
   "cell_type": "markdown",
   "metadata": {},
   "source": [
    "## Types\n",
    "There are several built in types in Python. Examples of which are str, int, float, list, tuple, dict, set.\n",
    "You can determine the type of an object by calling the type function on it.\n",
    "\n",
    "Numeric types include integers, floating point numbers, and complex numbers.\n",
    "You can read about floating point numbers [here](https://docs.python.org/3.2/tutorial/floatingpoint.html)"
   ]
  },
  {
   "cell_type": "code",
   "execution_count": null,
   "metadata": {
    "collapsed": true
   },
   "outputs": [],
   "source": [
    "print(0.1+0.1+0.1)"
   ]
  },
  {
   "cell_type": "code",
   "execution_count": 6,
   "metadata": {
    "scrolled": true
   },
   "outputs": [
    {
     "ename": "NameError",
     "evalue": "name 'score' is not defined",
     "output_type": "error",
     "traceback": [
      "\u001b[0;31m---------------------------------------------------------------------------\u001b[0m",
      "\u001b[0;31mNameError\u001b[0m                                 Traceback (most recent call last)",
      "\u001b[0;32m<ipython-input-6-c8896cdecc89>\u001b[0m in \u001b[0;36m<module>\u001b[0;34m()\u001b[0m\n\u001b[1;32m      1\u001b[0m \u001b[0mfirst_num\u001b[0m \u001b[0;34m=\u001b[0m \u001b[0;36m2\u001b[0m\u001b[0;34m\u001b[0m\u001b[0m\n\u001b[0;32m----> 2\u001b[0;31m \u001b[0mprint\u001b[0m\u001b[0;34m(\u001b[0m\u001b[0mscore\u001b[0m\u001b[0;34m,\u001b[0m \u001b[0mtype\u001b[0m\u001b[0;34m(\u001b[0m\u001b[0mscore\u001b[0m\u001b[0;34m)\u001b[0m\u001b[0;34m)\u001b[0m\u001b[0;34m\u001b[0m\u001b[0m\n\u001b[0m\u001b[1;32m      3\u001b[0m \u001b[0;34m\u001b[0m\u001b[0m\n\u001b[1;32m      4\u001b[0m \u001b[0msecond_num\u001b[0m \u001b[0;34m=\u001b[0m \u001b[0;36m1.5\u001b[0m\u001b[0;34m\u001b[0m\u001b[0m\n\u001b[1;32m      5\u001b[0m \u001b[0;31m# Type conversion (to int)\u001b[0m\u001b[0;34m\u001b[0m\u001b[0;34m\u001b[0m\u001b[0m\n",
      "\u001b[0;31mNameError\u001b[0m: name 'score' is not defined"
     ]
    }
   ],
   "source": [
    "first_num = 2\n",
    "print(score, type(score))\n",
    "\n",
    "second_num = 1.5\n",
    "# Type conversion (to int)\n",
    "# Converting a float to an int loses the information after the decimal point\n",
    "print(type(int(second_num)))\n",
    "\n",
    "# You can mix float values with int values, and the result will be another float\n",
    "third_num = first_num * second_num\n",
    "print(first_num, second_num, third_num)\n",
    "\n",
    "# When Python prints a float, even if its value is a whole number, \n",
    "# it is printed ending with .0 to clarify that it is an inexact value.\n",
    "print(type(first_num), type(second_num), type(third_num))\n",
    "\n",
    "# A common use of typecasting is to convert user input, which is always a string\n",
    "user_input = \"3.4\"\n",
    "# Type conversion (to float)\n",
    "print(user_input, type(user_input), type(float(user_input)))\n",
    "\n",
    "flag = True\n",
    "print(flag, type(flag))\n",
    "\n",
    "# None has its own type!\n",
    "var = None\n",
    "print(var, type(var))\n",
    "\n",
    "# Type has its own type too!\n",
    "another_number = 1e-003\n",
    "print(another_number, type(another_number), type(type(another_number)))\n",
    "\n",
    "numbers = range(10)\n",
    "print(numbers, type(numbers))\n",
    "\n",
    "complex_number = 4-3j\n",
    "print(complex_number, type(complex_number))\n",
    "\n",
    "seasons = [\"Spring\", \"Summer\", \"Fall\", \"Winter\"]\n",
    "print(seasons, type(seasons))"
   ]
  },
  {
   "cell_type": "markdown",
   "metadata": {},
   "source": [
    "## Arrays/Lists\n",
    "In Python, lists are like C arrays, but they can hold data of any type (actually they hold addresses to objects) and their size can be dynamically changed too. "
   ]
  },
  {
   "cell_type": "code",
   "execution_count": 7,
   "metadata": {},
   "outputs": [
    {
     "name": "stdout",
     "output_type": "stream",
     "text": [
      "['Spring', 'Summer', 'Fall', 'Winter']\n",
      "[None, None, None, None]\n"
     ]
    }
   ],
   "source": [
    "seasons = [\"Spring\", \"Summer\", \"Fall\", \"Winter\"]\n",
    "print(seasons)\n",
    "\n",
    "# Create a length-N list of the same thing\n",
    "four_nones = [None] * 4\n",
    "print(four_nones)"
   ]
  },
  {
   "cell_type": "markdown",
   "metadata": {},
   "source": [
    "#### Python uses 0-based indexing"
   ]
  },
  {
   "cell_type": "code",
   "execution_count": null,
   "metadata": {
    "collapsed": true,
    "scrolled": true
   },
   "outputs": [],
   "source": [
    "# Negative indexing\n",
    "print(seasons[0])\n",
    "print(seasons[3])\n",
    "print(seasons[-1])"
   ]
  },
  {
   "cell_type": "code",
   "execution_count": null,
   "metadata": {
    "collapsed": true
   },
   "outputs": [],
   "source": [
    "print(seasons[4])  # Gives a 'list index out of range' error"
   ]
  },
  {
   "cell_type": "code",
   "execution_count": null,
   "metadata": {
    "collapsed": true
   },
   "outputs": [],
   "source": [
    "# Assigning values\n",
    "seasons[2] = \"Autumn\"\n",
    "print(seasons)"
   ]
  },
  {
   "cell_type": "markdown",
   "metadata": {},
   "source": [
    "__Exercise__: find out how you can print the length of `seasons` array"
   ]
  },
  {
   "cell_type": "code",
   "execution_count": null,
   "metadata": {
    "collapsed": true
   },
   "outputs": [],
   "source": [
    "\n",
    "\n",
    "\n",
    "\n"
   ]
  },
  {
   "cell_type": "code",
   "execution_count": 8,
   "metadata": {},
   "outputs": [
    {
     "name": "stdout",
     "output_type": "stream",
     "text": [
      "[3, 21, 7.1, 4, 'hi', 1, 4, 'hi', 1]\n"
     ]
    }
   ],
   "source": [
    "# List concatination\n",
    "listA = [3, 21, 7.1]\n",
    "listB = [4, \"hi\", 1]\n",
    "listC = listA + listB * 2\n",
    "print(listC)"
   ]
  },
  {
   "cell_type": "code",
   "execution_count": null,
   "metadata": {
    "collapsed": true
   },
   "outputs": [],
   "source": [
    "# Find how many times 'hi' appeared in this list\n",
    "print(listC.count(\"hi\"))\n",
    "\n",
    "# Find index of the first time 'hi' appeared in this list\n",
    "print(listC.index(\"hi\"))"
   ]
  },
  {
   "cell_type": "markdown",
   "metadata": {},
   "source": [
    "#### Other list operations\n",
    "\n",
    "- list.append(X) adds X to the end of the list\n",
    "- list.insert(i, X) adds X at position i\n",
    "- list.extend(L) adds a list L of items to the end\n",
    "- list.remove(X) removes the first occurence of X\n",
    "- list.pop(i) deletes & returns item list[i], while list.pop() deletes & returns the last item\n",
    "- del list[i] deletes the ith item of list (Note this is a \"del statement\", not a method)\n",
    "- list.reverse() reverses the list\n",
    "- list.sort() sorts the list"
   ]
  },
  {
   "cell_type": "markdown",
   "metadata": {},
   "source": [
    "__Exercise__: Find a builtin function to compute the sum of listA"
   ]
  },
  {
   "cell_type": "code",
   "execution_count": null,
   "metadata": {},
   "outputs": [],
   "source": [
    "\n",
    "\n",
    "\n",
    "\n"
   ]
  },
  {
   "cell_type": "code",
   "execution_count": 9,
   "metadata": {},
   "outputs": [
    {
     "name": "stdout",
     "output_type": "stream",
     "text": [
      "31.1\n",
      "21\n"
     ]
    }
   ],
   "source": [
    "print(sum(listA))\n",
    "print(max(listA))"
   ]
  },
  {
   "cell_type": "markdown",
   "metadata": {},
   "source": [
    "__Exercise__: Reverse an array using a built-in function"
   ]
  },
  {
   "cell_type": "code",
   "execution_count": null,
   "metadata": {
    "collapsed": true
   },
   "outputs": [],
   "source": [
    "\n",
    "\n",
    "\n",
    "\n"
   ]
  },
  {
   "cell_type": "code",
   "execution_count": 10,
   "metadata": {},
   "outputs": [
    {
     "name": "stdout",
     "output_type": "stream",
     "text": [
      "[1, 'hi', 4, 1, 'hi', 4, 7.1, 21, 3]\n"
     ]
    }
   ],
   "source": [
    "# Reversing a list\n",
    "listC.reverse()\n",
    "print(listC)"
   ]
  },
  {
   "cell_type": "code",
   "execution_count": 11,
   "metadata": {},
   "outputs": [
    {
     "name": "stdout",
     "output_type": "stream",
     "text": [
      "[3, 21, 7.1]\n",
      "3 21 7.1\n",
      "3 [21, 7.1]\n",
      "3 [21] 7.1\n"
     ]
    }
   ],
   "source": [
    "# Unpacking: use * operator to unpack the elements out of a list\n",
    "print(listA)\n",
    "print(*listA)\n",
    "\n",
    "first_element, *rest = listA\n",
    "print(first_element, rest)\n",
    "\n",
    "first_element, *middle, last_element = listA\n",
    "print(first_element, middle, last_element)"
   ]
  },
  {
   "cell_type": "markdown",
   "metadata": {},
   "source": [
    "## Dictionary—Mapping Types\n",
    "A mapping object maps values to arbitrary objects"
   ]
  },
  {
   "cell_type": "code",
   "execution_count": null,
   "metadata": {
    "collapsed": true
   },
   "outputs": [],
   "source": [
    "# Define a dictionary\n",
    "some_dict = {'one': 1, 'two': 2, 'three': 3}\n",
    "another_dict = dict(one=1, two=2, three=3)  # only when keys are string\n",
    "print(some_dict)\n",
    "print(another_dict)\n",
    "\n",
    "# Assignment\n",
    "some_dict[\"one\"] = 100\n",
    "print(some_dict)\n",
    "\n",
    "# Delete a key value pair\n",
    "del some_dict[\"one\"]\n",
    "print(some_dict)\n",
    "\n",
    "# Return a list of all the keys used in a dictionary in a arbitrary order\n",
    "keys = list(some_dict.keys())\n",
    "print(keys)"
   ]
  },
  {
   "cell_type": "markdown",
   "metadata": {},
   "source": [
    "__Exercise__: Find the method which returns a list of all the values in a dictionary"
   ]
  },
  {
   "cell_type": "code",
   "execution_count": null,
   "metadata": {
    "collapsed": true
   },
   "outputs": [],
   "source": [
    "\n",
    "\n",
    "\n",
    "\n"
   ]
  },
  {
   "cell_type": "code",
   "execution_count": null,
   "metadata": {
    "collapsed": true
   },
   "outputs": [],
   "source": [
    "print(dir(some_dict))"
   ]
  },
  {
   "cell_type": "markdown",
   "metadata": {},
   "source": [
    "## Functions\n",
    "\n",
    "To use a function you always write its name, followed by some arguments in parentheses. The function does some action depending on its arguments. When there are multiple arguments to a function, you separate them with commas."
   ]
  },
  {
   "cell_type": "code",
   "execution_count": null,
   "metadata": {
    "collapsed": true
   },
   "outputs": [],
   "source": [
    "# Defining a fuction\n",
    "def do_nothing(some_input):\n",
    "    # next line must be indented\n",
    "    # similar to returning None\n",
    "    pass\n",
    "\n",
    "# The pass statement in Python is used when a statement is required syntactically \n",
    "# but you do not want any command or code to execute.\n",
    "\n",
    "def simple_return(some_input):\n",
    "    return some_input\n",
    "\n",
    "def return_multiple_vars(first_input, second_input):\n",
    "    return first_input + second_input, first_input - second_input"
   ]
  },
  {
   "cell_type": "code",
   "execution_count": null,
   "metadata": {
    "collapsed": true
   },
   "outputs": [],
   "source": [
    "# Calling a function\n",
    "some_arg = 10\n",
    "\n",
    "do_nothing(some_arg)\n",
    "output = simple_return(some_arg)\n",
    "print(output)\n",
    "first_output, second_output = return_multiple_vars(15, 10)\n",
    "print(first_output, second_output)"
   ]
  },
  {
   "cell_type": "code",
   "execution_count": null,
   "metadata": {
    "collapsed": true
   },
   "outputs": [],
   "source": [
    "# Ignoring output variable\n",
    "first_output, _ = return_multiple_vars(15, 10)\n",
    "\n",
    "_, second_output = return_multiple_vars(15, 10)"
   ]
  },
  {
   "cell_type": "code",
   "execution_count": null,
   "metadata": {
    "collapsed": true
   },
   "outputs": [],
   "source": [
    "def print_speed(speed):\n",
    "    print(\"Your speed is\", speed, \"kilometers per hour\")\n",
    "    \n",
    "    # Update and return a dictionary representing the current local symbol table\n",
    "    print(locals())\n",
    "    \n",
    "print_speed(10)"
   ]
  },
  {
   "cell_type": "code",
   "execution_count": null,
   "metadata": {
    "collapsed": true
   },
   "outputs": [],
   "source": [
    "def compute_speed(distance, time):\n",
    "    print(\"distance covered in km:\", distance)\n",
    "    print(\"time taken in h:\", time)\n",
    "    speed = distance / time\n",
    "    return speed\n",
    "\n",
    "# Required arguments\n",
    "printSpeed(compute_speed(101, 2))\n",
    "\n",
    "# Keyword arguments\n",
    "printSpeed(compute_speed(time=2, distance=101))"
   ]
  },
  {
   "cell_type": "code",
   "execution_count": null,
   "metadata": {
    "collapsed": true
   },
   "outputs": [],
   "source": [
    "# Default values indicate that the function argument will take that value \n",
    "# if no argument value is passed during function call.\n",
    "def compute_speed(distance, time=1):\n",
    "    print(\"distance covered in km:\", distance)\n",
    "    print(\"time taken in h:\", time)\n",
    "    speed = distance / time\n",
    "    return speed\n",
    "\n",
    "# Default arguments\n",
    "printSpeed(compute_speed(100))"
   ]
  },
  {
   "cell_type": "code",
   "execution_count": null,
   "metadata": {
    "collapsed": true
   },
   "outputs": [],
   "source": [
    "# Variable number of arguments\n",
    "# This is very useful when we do not know the exact number of arguments that will be passed to a function.\n",
    "\n",
    "def say_hello(*varargs):\n",
    "    print(len(varargs))\n",
    "    for name in varargs:\n",
    "        print(\"Hello\", name)\n",
    "        \n",
    "print(\"Calling with a single argument\")\n",
    "say_hello(\"Sarah\")\n",
    "print(\"Calling with three arguments\")\n",
    "say_hello(\"Sarah\", \"James\", \"Peter\")"
   ]
  },
  {
   "cell_type": "code",
   "execution_count": null,
   "metadata": {
    "collapsed": true
   },
   "outputs": [],
   "source": [
    "# Return multiple variables\n",
    "\n",
    "# Create an ignored variable\n"
   ]
  },
  {
   "cell_type": "code",
   "execution_count": null,
   "metadata": {
    "collapsed": true
   },
   "outputs": [],
   "source": [
    "# Variable Scope\n",
    "\n",
    "known_text = \"global\"\n",
    "some_text = \"outer\"\n",
    "\n",
    "\n",
    "def replace_str(value):\n",
    "    some_text = value\n",
    "    print(some_text, \"is printed inside the function\")\n",
    "    print(known_text, \"is printed inside the function\")\n",
    "    \n",
    "    \n",
    "replace_str(\"inner\")\n",
    "print(some_text, \"is printed outside the function\")"
   ]
  },
  {
   "cell_type": "code",
   "execution_count": null,
   "metadata": {
    "collapsed": true
   },
   "outputs": [],
   "source": [
    "# Global changes\n",
    "\n",
    "def replace_str(value):\n",
    "    # Comment this line and see the difference\n",
    "    global some_text\n",
    "    some_text = value\n",
    "\n",
    "some_text = \"outer\"\n",
    "replace_str(\"inner\") \n",
    "print(some_text)"
   ]
  },
  {
   "cell_type": "code",
   "execution_count": null,
   "metadata": {
    "collapsed": true
   },
   "outputs": [],
   "source": [
    "# Function Annotations\n",
    "# They can be used for documentation or for pre-condition/post-condition checking\n",
    "\n",
    "def div(a: 'the dividend defaults to 1', b: 'the divisor (must be different than 0)') -> 'the result of dividing a by b': \n",
    "    \"\"\"Divide a by b\"\"\" \n",
    "    return a / b\n",
    "\n",
    "\n",
    "for arg in div.__annotations__:\n",
    "    print(div.__annotations__[arg])\n",
    "    \n",
    "    \n",
    "def div_ints(a: int, b: int) -> float: \n",
    "    return a / b\n",
    "\n",
    "\n",
    "for arg in div_ints.__annotations__:\n",
    "    print(div_ints.__annotations__[arg])\n",
    "\n",
    "print(div(2, 3))\n",
    "\n",
    "# Annotations are not actually enforced\n",
    "print(div_ints(2, 3.1))"
   ]
  },
  {
   "cell_type": "code",
   "execution_count": null,
   "metadata": {
    "collapsed": true
   },
   "outputs": [],
   "source": [
    "def validate(func, _locals):\n",
    "    for var, test in func.__annotations__.items():\n",
    "        value = _locals[var]\n",
    "        msg = 'Var: {0}\\tValue: {1}\\tTest: {2.__name__}'.format(var, value, test)\n",
    "        assert test(value), msg\n",
    "        \n",
    "def is_int(x):\n",
    "    return isinstance(x, int)\n",
    "\n",
    "        \n",
    "def new_div_ints(a: is_int, b: is_int):\n",
    "    validate(new_div_ints, locals())\n",
    "    return a / b\n",
    "\n",
    "print(new_div_ints(3, 2))\n",
    "# print(new_div_ints(3, 2.1))"
   ]
  },
  {
   "cell_type": "markdown",
   "metadata": {},
   "source": [
    "__Exercise__: You are in a bike race which goes up and down a hill. Write a function that will print out your average speed (in km/min) for the entire race given the following arguments: `uphillDistance` and `downhillDistance` which give the distance (in km) of both parts of the race, and `uphillTime` and `downhillTime` which give the time (in minutes) of how long it took you to complete each part of the race. "
   ]
  },
  {
   "cell_type": "code",
   "execution_count": null,
   "metadata": {
    "collapsed": true
   },
   "outputs": [],
   "source": [
    "\n",
    "\n",
    "\n"
   ]
  },
  {
   "cell_type": "markdown",
   "metadata": {},
   "source": [
    "## Python vs. C/C++"
   ]
  },
  {
   "cell_type": "markdown",
   "metadata": {},
   "source": [
    "#### Main Differences\n",
    "- Memory management: Unlike Python, C++ doesn't have garbage collection, and encourages use of raw pointers to manage and access memory. Hence, it requires much more attention to bookkeeping and storage details, and while it allows you very fine control, it's often just not necessary.\n",
    "- Types: C++ types are explicitly declared, bound to names, checked at compile time, and strict until they're not. Python's types are bound to values, checked at run time, and are not so easily subverted. Python's types are also an order of magnitude simpler. Python has high-level native data types (strings, tuples, lists, sets, dictionaries, file objects, etc.) The safety and the simplicity and the lack of declarations help a lot of people move faster.\n",
    "- Language complexity: Even the best C++ developers can be caught up short by unintended consequences in complex (or not so complex) code. Python is much simpler, which leads to faster development and less mental overhead.\n",
    "- Syntax: Python has clean, straightforward syntax compared to C++.\n",
    "- Interpreted vs. compiled: C++ is almost always explicitly compiled. Python is not (generally). It's common practice to develop in the interpreter in Python, which is great for rapid testing and exploration.\n",
    "- Python has great support for building web applications.\n",
    "- Python has a huge standard library with many built-in functions\n",
    "\n",
    "#### Some Similarities\n",
    "- Both support object oriented programing paradigms\n",
    "- Both have exceptions\n",
    "- Both have concurrency support"
   ]
  }
 ],
 "metadata": {
  "kernelspec": {
   "display_name": "Python 3",
   "language": "python",
   "name": "python3"
  },
  "language_info": {
   "codemirror_mode": {
    "name": "ipython",
    "version": 3
   },
   "file_extension": ".py",
   "mimetype": "text/x-python",
   "name": "python",
   "nbconvert_exporter": "python",
   "pygments_lexer": "ipython3",
   "version": "3.6.4"
  }
 },
 "nbformat": 4,
 "nbformat_minor": 2
}
